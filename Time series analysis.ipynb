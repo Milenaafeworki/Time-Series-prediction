{
 "cells": [
  {
   "cell_type": "markdown",
   "metadata": {},
   "source": [
    "## Project #4:\n",
    "\n",
    "* Student name: Milena Afeworki\n",
    "* Student pace: full time\n",
    "* Scheduled project review date/time: 08/05/2021 @ 10:15 PT\n",
    "* Instructor name: Abhineet Kulkarni \n",
    "* Blog post URL:"
   ]
  },
  {
   "cell_type": "markdown",
   "metadata": {},
   "source": [
    "# Time series Prediction on California Home sales"
   ]
  },
  {
   "cell_type": "markdown",
   "metadata": {},
   "source": [
    "With 54 of the Fortune 500 companies headquartered in California, like Google, Apple, Disney, Oracle and Intel among others, California is positioned for continued job growth. High employment rates draw renters and buyers and, for investors, enhance the likelihood of consistent cash flow. Though not the lowest in the country, California has favorable property tax rates, which will help control investors’ expenses and improve cash flow. The combination of job growth and a world-renowned lifestyle and culture supports home values. People buy where they want to live, and millions of people want to live in California. All of the demand mentioned above also leads to increasing home values.\n",
    " "
   ]
  },
  {
   "cell_type": "markdown",
   "metadata": {},
   "source": [
    "## Business Problem"
   ]
  },
  {
   "cell_type": "markdown",
   "metadata": {},
   "source": [
    "If a real estate company is looking to flip homes, what are the top 5 zip codes to invest in? How will we scale our data? What defines best?\n",
    "\n",
    "For this dataset, we will only include data from CA. Because of the housing market crash, any modelling that uses only recent years may be misleading. We will use every value from 1996 to 2018 so we can have the most accurate picture of home values in CA through the years. "
   ]
  },
  {
   "cell_type": "markdown",
   "metadata": {},
   "source": [
    "## Data understanding"
   ]
  },
  {
   "cell_type": "markdown",
   "metadata": {},
   "source": [
    "Zillow provides their users the opportunity to use their platform to access specific datasets for research purposes. The dataset that we will be using contains the median home sales prices throughout all states sorted by their zip codes. With this dataset we can extract a lot of insight through out all states with the potential to understand markets and develop investment strategies. This platform allows the public to do independent research in any market in the US.\n",
    "\n",
    "This dataset contains 14723 rows and 272 columns."
   ]
  },
  {
   "cell_type": "markdown",
   "metadata": {},
   "source": [
    "# Load the Data/Filtering for Chosen Zipcodes"
   ]
  },
  {
   "cell_type": "code",
   "execution_count": 3,
   "metadata": {
    "ExecuteTime": {
     "end_time": "2021-08-06T06:19:59.069436Z",
     "start_time": "2021-08-06T06:19:57.322021Z"
    }
   },
   "outputs": [],
   "source": [
    "#Import libraries\n",
    "import numpy as np\n",
    "import folium\n",
    "import pandas as pd\n",
    "import matplotlib as mpl\n",
    "from matplotlib import pyplot as plt\n",
    "from scipy import stats\n",
    "from random import gauss as gs\n",
    "import math\n",
    "import datetime\n",
    "from sklearn.linear_model import LinearRegression\n",
    "from sklearn.metrics import mean_squared_error\n",
    "from math import sqrt\n",
    "import statsmodels.api as sm\n",
    "from statsmodels.tsa.arima_model import ARMA\n",
    "from statsmodels.tsa.stattools import adfuller, acf, pacf\n",
    "from statsmodels.graphics.tsaplots import plot_acf,plot_pacf\n",
    "from pandas.plotting import autocorrelation_plot, lag_plot\n",
    "from statsmodels.tsa.seasonal import seasonal_decompose\n",
    "from statsmodels.tsa.statespace.sarimax import SARIMAX\n",
    "from pandas.plotting import register_matplotlib_converters\n",
    "register_matplotlib_converters()\n",
    "from statsmodels.graphics.tsaplots import plot_acf, plot_pacf\n",
    "import warnings\n",
    "warnings.filterwarnings('ignore')\n",
    "import pmdarima as pm\n",
    "from pmdarima import auto_arima\n",
    "from matplotlib.pylab import rcParams\n",
    "%matplotlib inline\n",
    "plt.style.use('ggplot')"
   ]
  },
  {
   "cell_type": "code",
   "execution_count": null,
   "metadata": {
    "ExecuteTime": {
     "end_time": "2021-08-06T04:20:49.998321Z",
     "start_time": "2021-08-06T04:20:49.629194Z"
    }
   },
   "outputs": [],
   "source": [
    "df = pd.read_csv('zillow_data.csv')\n",
    "df.head()"
   ]
  },
  {
   "cell_type": "code",
   "execution_count": null,
   "metadata": {
    "ExecuteTime": {
     "end_time": "2021-08-06T04:20:50.014314Z",
     "start_time": "2021-08-06T04:20:50.000269Z"
    }
   },
   "outputs": [],
   "source": [
    "df.shape"
   ]
  },
  {
   "cell_type": "markdown",
   "metadata": {},
   "source": [
    "# Data Preprocessing"
   ]
  },
  {
   "cell_type": "markdown",
   "metadata": {},
   "source": [
    "Let's replace the column 'RegionName' by 'ZipCode' and then select only the data for California and drop the rest."
   ]
  },
  {
   "cell_type": "code",
   "execution_count": null,
   "metadata": {
    "ExecuteTime": {
     "end_time": "2021-08-06T04:20:50.032370Z",
     "start_time": "2021-08-06T04:20:50.016467Z"
    }
   },
   "outputs": [],
   "source": [
    "#Rename RegionName\n",
    "df.rename({'RegionName': 'ZipCode'}, axis='columns', inplace=True)"
   ]
  },
  {
   "cell_type": "code",
   "execution_count": null,
   "metadata": {
    "ExecuteTime": {
     "end_time": "2021-08-06T04:20:50.054770Z",
     "start_time": "2021-08-06T04:20:50.032370Z"
    }
   },
   "outputs": [],
   "source": [
    "#Delete all but CA zipcodes\n",
    "df_ca = df.loc[df['State']== 'CA'].reset_index()\n",
    "df_ca.drop(['index', 'RegionID', 'SizeRank'], axis=1, inplace=True)\n",
    "print('Total Zipcodes in DataFrame:', len(df_ca))"
   ]
  },
  {
   "cell_type": "code",
   "execution_count": null,
   "metadata": {
    "ExecuteTime": {
     "end_time": "2021-08-06T04:20:50.373674Z",
     "start_time": "2021-08-06T04:20:50.054770Z"
    }
   },
   "outputs": [],
   "source": [
    "#Check for zeros\n",
    "df_ca.describe()"
   ]
  },
  {
   "cell_type": "markdown",
   "metadata": {},
   "source": [
    "# Reshape from Wide to Long Format"
   ]
  },
  {
   "cell_type": "markdown",
   "metadata": {
    "ExecuteTime": {
     "end_time": "2021-08-02T21:58:56.540669Z",
     "start_time": "2021-08-02T21:58:56.527616Z"
    }
   },
   "source": [
    "Our next step would be to change the format of the data frame from wide format to long format and index by the'Date' column "
   ]
  },
  {
   "cell_type": "code",
   "execution_count": null,
   "metadata": {
    "ExecuteTime": {
     "end_time": "2021-08-06T04:20:50.397148Z",
     "start_time": "2021-08-06T04:20:50.373674Z"
    }
   },
   "outputs": [],
   "source": [
    "def melt_data(df):\n",
    "    melted = pd.melt(df, id_vars=['ZipCode', 'City', 'State', 'Metro', 'CountyName'], \n",
    "                     var_name='Date')\n",
    "    melted['Date'] = pd.to_datetime(melted['Date'], infer_datetime_format=True)\n",
    "    melted = melted.dropna(subset=['value'])\n",
    "    return melted"
   ]
  },
  {
   "cell_type": "code",
   "execution_count": null,
   "metadata": {
    "ExecuteTime": {
     "end_time": "2021-08-06T04:20:50.536493Z",
     "start_time": "2021-08-06T04:20:50.397148Z"
    }
   },
   "outputs": [],
   "source": [
    "melted_df = melt_data(df_ca)"
   ]
  },
  {
   "cell_type": "markdown",
   "metadata": {},
   "source": [
    "We will also want to make sure we change zip code into a string so it is not confused for an integer."
   ]
  },
  {
   "cell_type": "code",
   "execution_count": null,
   "metadata": {
    "ExecuteTime": {
     "end_time": "2021-08-06T04:20:50.741934Z",
     "start_time": "2021-08-06T04:20:50.536493Z"
    }
   },
   "outputs": [],
   "source": [
    "#Change Zipcode dtype to 'str'\n",
    "melted_df['ZipCode'] = melted_df['ZipCode'].astype(str)\n",
    "\n",
    "# Make sure the data type of the 'Date' column is datetime\n",
    "melted_df['Date'] = pd.to_datetime(melted_df['Date'], format='%m/%y')\n",
    "\n",
    "# Set the 'Date' column as index\n",
    "melted_df.set_index('Date', inplace=True)"
   ]
  },
  {
   "cell_type": "code",
   "execution_count": null,
   "metadata": {
    "ExecuteTime": {
     "end_time": "2021-08-06T04:20:50.758081Z",
     "start_time": "2021-08-06T04:20:50.744510Z"
    }
   },
   "outputs": [],
   "source": [
    "melted_df.index"
   ]
  },
  {
   "cell_type": "code",
   "execution_count": null,
   "metadata": {
    "ExecuteTime": {
     "end_time": "2021-08-06T04:20:50.775414Z",
     "start_time": "2021-08-06T04:20:50.758081Z"
    }
   },
   "outputs": [],
   "source": [
    "melted_df.head()"
   ]
  },
  {
   "cell_type": "code",
   "execution_count": null,
   "metadata": {
    "ExecuteTime": {
     "end_time": "2021-08-06T04:20:50.790709Z",
     "start_time": "2021-08-06T04:20:50.777390Z"
    }
   },
   "outputs": [],
   "source": [
    "melted_df.tail()"
   ]
  },
  {
   "cell_type": "code",
   "execution_count": null,
   "metadata": {
    "ExecuteTime": {
     "end_time": "2021-08-06T04:20:50.806696Z",
     "start_time": "2021-08-06T04:20:50.791730Z"
    }
   },
   "outputs": [],
   "source": [
    "melted_df.shape"
   ]
  },
  {
   "cell_type": "markdown",
   "metadata": {},
   "source": [
    "# EDA and Visualization"
   ]
  },
  {
   "cell_type": "markdown",
   "metadata": {},
   "source": [
    "\n",
    "On this step we will be creating visualizations to get a better idea of what we are working with and also to understand the trends of the values in our data."
   ]
  },
  {
   "cell_type": "code",
   "execution_count": null,
   "metadata": {
    "ExecuteTime": {
     "end_time": "2021-08-06T04:20:50.870547Z",
     "start_time": "2021-08-06T04:20:50.806696Z"
    }
   },
   "outputs": [],
   "source": [
    "#check for nulls \n",
    "melted_df.isna().sum()"
   ]
  },
  {
   "cell_type": "code",
   "execution_count": null,
   "metadata": {
    "ExecuteTime": {
     "end_time": "2021-08-06T04:20:50.901898Z",
     "start_time": "2021-08-06T04:20:50.870547Z"
    }
   },
   "outputs": [],
   "source": [
    "metro = melted_df.groupby('Metro')\n",
    "metro = metro.value.mean()\n",
    "metro = metro.sort_values(ascending=False).head(10)"
   ]
  },
  {
   "cell_type": "code",
   "execution_count": null,
   "metadata": {
    "ExecuteTime": {
     "end_time": "2021-08-06T04:20:50.941833Z",
     "start_time": "2021-08-06T04:20:50.901898Z"
    }
   },
   "outputs": [],
   "source": [
    "county = melted_df.groupby('CountyName')\n",
    "county = county.value.mean()\n",
    "county = county.sort_values(ascending=False).head(10)"
   ]
  },
  {
   "cell_type": "code",
   "execution_count": null,
   "metadata": {
    "ExecuteTime": {
     "end_time": "2021-08-06T04:20:51.171784Z",
     "start_time": "2021-08-06T04:20:50.941833Z"
    }
   },
   "outputs": [],
   "source": [
    "fig =plt.figure(figsize=(8,5))\n",
    "county.plot.barh(color='green')\n",
    "plt.title('Average value of Home per county')\n",
    "plt.xlabel('Home value')\n",
    "plt.show()"
   ]
  },
  {
   "cell_type": "code",
   "execution_count": null,
   "metadata": {
    "ExecuteTime": {
     "end_time": "2021-08-06T04:20:51.352183Z",
     "start_time": "2021-08-06T04:20:51.171784Z"
    }
   },
   "outputs": [],
   "source": [
    "fig = plt.figure(figsize=(8,5))\n",
    "metro.plot.barh(color='green')\n",
    "plt.title('Average Value of Home by City')\n",
    "plt.xlabel('Value ($)')\n",
    "plt.show()"
   ]
  },
  {
   "cell_type": "markdown",
   "metadata": {},
   "source": [
    "\n",
    "Here we get a good idea of the average home value per County name."
   ]
  },
  {
   "cell_type": "code",
   "execution_count": null,
   "metadata": {
    "ExecuteTime": {
     "end_time": "2021-08-06T04:20:51.373322Z",
     "start_time": "2021-08-06T04:20:51.352183Z"
    }
   },
   "outputs": [],
   "source": [
    "print('Average CA home value' ,round(melted_df['value'].mean()))"
   ]
  },
  {
   "cell_type": "code",
   "execution_count": null,
   "metadata": {
    "ExecuteTime": {
     "end_time": "2021-08-06T04:20:51.589678Z",
     "start_time": "2021-08-06T04:20:51.373322Z"
    }
   },
   "outputs": [],
   "source": [
    "#data resampled by month\n",
    "monthly_data = melted_df['value'].resample('MS').mean()\n",
    "monthly_data = monthly_data.fillna(monthly_data.bfill())\n",
    "monthly_data.plot(figsize=(12,5))\n",
    "plt.title('Average CA Home Value By Month')\n",
    "plt.ylabel('Value')\n",
    "plt.show()\n",
    "print(monthly_data.head())"
   ]
  },
  {
   "cell_type": "code",
   "execution_count": null,
   "metadata": {
    "ExecuteTime": {
     "end_time": "2021-08-06T04:20:51.847099Z",
     "start_time": "2021-08-06T04:20:51.589678Z"
    }
   },
   "outputs": [],
   "source": [
    "monthly_data['1996':'1999'].plot(figsize=(12,5))"
   ]
  },
  {
   "cell_type": "code",
   "execution_count": null,
   "metadata": {
    "ExecuteTime": {
     "end_time": "2021-08-06T04:20:51.999300Z",
     "start_time": "2021-08-06T04:20:51.847099Z"
    }
   },
   "outputs": [],
   "source": [
    "monthly_data['2006':].plot(figsize=(12,5))"
   ]
  },
  {
   "cell_type": "code",
   "execution_count": null,
   "metadata": {
    "ExecuteTime": {
     "end_time": "2021-08-06T04:20:52.167454Z",
     "start_time": "2021-08-06T04:20:51.999300Z"
    }
   },
   "outputs": [],
   "source": [
    "yearly_data = melted_df['value'].resample('A').mean()\n",
    "yearly_data.plot.line(figsize=(12,5))\n",
    "plt.title('Average CA Home Value By Year')\n",
    "plt.ylabel('Value in US Dollars ($)')\n",
    "plt.show()\n",
    "print(yearly_data.head())"
   ]
  },
  {
   "cell_type": "code",
   "execution_count": null,
   "metadata": {
    "ExecuteTime": {
     "end_time": "2021-08-06T04:20:52.291368Z",
     "start_time": "2021-08-06T04:20:52.167454Z"
    }
   },
   "outputs": [],
   "source": [
    "fig = plt.figure( figsize=(8,5))\n",
    "monthly_data.hist(color='green')"
   ]
  },
  {
   "cell_type": "code",
   "execution_count": null,
   "metadata": {
    "ExecuteTime": {
     "end_time": "2021-08-06T04:20:52.493387Z",
     "start_time": "2021-08-06T04:20:52.293067Z"
    }
   },
   "outputs": [],
   "source": [
    "fig = plt.figure( figsize=(8,5))\n",
    "monthly_data.plot(kind='kde')\n",
    "plt.legend()"
   ]
  },
  {
   "cell_type": "markdown",
   "metadata": {},
   "source": [
    "The monthly and yearly home values seem ot be similar. There doesn't seem to be any seasonality but we do see a generaly upward trend with a dip downward between the years 2007-2012.\n",
    "Next, we will cut down on variation to ensure we get the true most valuable zip codes."
   ]
  },
  {
   "cell_type": "code",
   "execution_count": null,
   "metadata": {
    "ExecuteTime": {
     "end_time": "2021-08-06T04:20:52.528637Z",
     "start_time": "2021-08-06T04:20:52.494524Z"
    }
   },
   "outputs": [],
   "source": [
    "#taking into account the last 5years\n",
    "df_ca.iloc[:,-60:].head()"
   ]
  },
  {
   "cell_type": "code",
   "execution_count": null,
   "metadata": {},
   "outputs": [],
   "source": []
  },
  {
   "cell_type": "code",
   "execution_count": null,
   "metadata": {
    "ExecuteTime": {
     "end_time": "2021-08-06T04:20:52.554968Z",
     "start_time": "2021-08-06T04:20:52.528637Z"
    }
   },
   "outputs": [],
   "source": [
    "df_ca['yr_avg']=df_ca.iloc[:,-60:].mean(skipna=True, axis=1)\n",
    "\n",
    "#Get zipcodes with an average value 2 decile above the median and 2 deciles below.\n",
    "print(df_ca['yr_avg'].describe(),'\\n')\n",
    "\n",
    "#Calculate the 70% cutoff value (2 decile above).\n",
    "q_70 = df_ca['yr_avg'].quantile(q=0.70)\n",
    "print(f'Average Value 70% cutoff value: {round(q_70,2)}')\n",
    "\n",
    "#Calculate the 30% cutoff value (2 deciles below).\n",
    "q_30 = df_ca['yr_avg'].quantile(q=0.30)\n",
    "print(f'Average Value 30% cutoff value: {round(q_30,2)}')\n",
    "\n",
    "#Get data frame with selected zipcodes.\n",
    "df_avg = df_ca[(df_ca['yr_avg']<q_70) & (df_ca['yr_avg']>q_30)]\n",
    "print(f'Amount of zipcodes: {len(df_avg)}')"
   ]
  },
  {
   "cell_type": "code",
   "execution_count": null,
   "metadata": {
    "ExecuteTime": {
     "end_time": "2021-08-06T04:20:52.585891Z",
     "start_time": "2021-08-06T04:20:52.558634Z"
    }
   },
   "outputs": [],
   "source": [
    "df_avg.head()"
   ]
  },
  {
   "cell_type": "markdown",
   "metadata": {},
   "source": [
    "In finance, the coefficient of variation allows investors to determine how much volatility, or risk, is assumed in comparison to the amount of return expected from investments. Ideally, if the coefficient of variation formula should result in a lower ratio of the standard deviation to mean return, then the better the risk-return trade-off. Therefore, in these next steps we are going to filter the data some more by calculating the CV value and only selecting values with in the company's risk factor (assume 60 percentile)."
   ]
  },
  {
   "cell_type": "code",
   "execution_count": null,
   "metadata": {
    "ExecuteTime": {
     "end_time": "2021-08-06T04:20:52.680161Z",
     "start_time": "2021-08-06T04:20:52.590204Z"
    }
   },
   "outputs": [],
   "source": [
    "#Calculate historical return on investment\n",
    "df_avg['ROI'] = (df_avg['yr_avg']/df_avg['1996-04'])-1\n",
    "\n",
    "#Calculate standard deviation of monthly values\n",
    "df_avg['std'] = df_avg.loc[:,'1996-04':'2018-04'].std(skipna=True, axis=1)\n",
    "\n",
    "#Calculate historical mean value\n",
    "df_avg['mean'] = df_avg.loc[:,'1996-04':'2018-04'].mean(skipna=True, axis=1)\n",
    "\n",
    "#Calculate coefficient of variation\n",
    "df_avg['CV'] = df_avg['std']/df_avg['mean']\n",
    "\n",
    "#Show calculated values\n",
    "df_avg[['ZipCode','std','mean','ROI','CV','CountyName']].head()"
   ]
  },
  {
   "cell_type": "code",
   "execution_count": null,
   "metadata": {
    "ExecuteTime": {
     "end_time": "2021-08-06T04:20:52.711004Z",
     "start_time": "2021-08-06T04:20:52.682155Z"
    }
   },
   "outputs": [],
   "source": [
    "#find out the top 10 couties with highest ROI\n",
    "grp_county = df_avg.groupby('CountyName', group_keys=False).sum()['ROI']\n",
    "grp_county.sort_values(ascending=False)[:10]\n",
    "\n",
    "# sorted(round(grouped_county,2), reverse=True)[:10]"
   ]
  },
  {
   "cell_type": "code",
   "execution_count": null,
   "metadata": {
    "ExecuteTime": {
     "end_time": "2021-08-06T04:20:52.727031Z",
     "start_time": "2021-08-06T04:20:52.716110Z"
    }
   },
   "outputs": [],
   "source": [
    "#top 10 counties with highest ROI before considering risk factor CV\n",
    "grp_county.sort_values(ascending=False)[:10].keys() "
   ]
  },
  {
   "cell_type": "code",
   "execution_count": null,
   "metadata": {
    "ExecuteTime": {
     "end_time": "2021-08-06T04:20:52.757758Z",
     "start_time": "2021-08-06T04:20:52.729028Z"
    }
   },
   "outputs": [],
   "source": [
    "#Descriptive statistics of coefficients of variance.\n",
    "print(df_avg.CV.describe())\n",
    "\n",
    "#Define upper limit of CV according to risk profile.\n",
    "upper_cv = df_avg.CV.quantile(.6)\n",
    "print(f'\\nCV upper limit: {upper_cv}')\n",
    "\n",
    "#Get the 10 counties with highest ROIs within the firms risk profile.\n",
    "df_top10 = df_avg[df_avg['CV']<upper_cv].sort_values('ROI', axis=0, ascending=False)\n",
    "\n",
    "#find out the top 10 couties with highest ROI\n",
    "grp_county = df_top10.groupby('CountyName').sum()['ROI']\n",
    "grp_county.sort_values(ascending=False)[:10]"
   ]
  },
  {
   "cell_type": "markdown",
   "metadata": {},
   "source": [
    "Now for each county lets look into the zipcode with the highest ROI value and move onto the time series analysis\n"
   ]
  },
  {
   "cell_type": "code",
   "execution_count": null,
   "metadata": {
    "ExecuteTime": {
     "end_time": "2021-08-06T04:20:52.773045Z",
     "start_time": "2021-08-06T04:20:52.759682Z"
    }
   },
   "outputs": [],
   "source": [
    "top10_county = list(grp_county.sort_values(ascending=False)[:10].index)\n",
    "top10_county"
   ]
  },
  {
   "cell_type": "code",
   "execution_count": null,
   "metadata": {
    "ExecuteTime": {
     "end_time": "2021-08-06T04:20:52.788241Z",
     "start_time": "2021-08-06T04:20:52.774984Z"
    }
   },
   "outputs": [],
   "source": [
    "df_top10.shape"
   ]
  },
  {
   "cell_type": "code",
   "execution_count": null,
   "metadata": {
    "ExecuteTime": {
     "end_time": "2021-08-06T04:20:52.803673Z",
     "start_time": "2021-08-06T04:20:52.790244Z"
    },
    "scrolled": true
   },
   "outputs": [],
   "source": [
    "df_top10 = df_top10.loc[df_top10['CountyName'].isin(top10_county)]\n",
    "df_top10.shape"
   ]
  },
  {
   "cell_type": "code",
   "execution_count": null,
   "metadata": {
    "ExecuteTime": {
     "end_time": "2021-08-06T04:20:52.819279Z",
     "start_time": "2021-08-06T04:20:52.805535Z"
    },
    "scrolled": true
   },
   "outputs": [],
   "source": [
    "df_top10['CountyName'].value_counts()"
   ]
  },
  {
   "cell_type": "code",
   "execution_count": null,
   "metadata": {
    "ExecuteTime": {
     "end_time": "2021-08-06T04:20:52.850106Z",
     "start_time": "2021-08-06T04:20:52.821249Z"
    }
   },
   "outputs": [],
   "source": [
    "df_top10.groupby('CountyName').max()['ROI']"
   ]
  },
  {
   "cell_type": "code",
   "execution_count": null,
   "metadata": {
    "ExecuteTime": {
     "end_time": "2021-08-06T04:20:52.865464Z",
     "start_time": "2021-08-06T04:20:52.851178Z"
    }
   },
   "outputs": [],
   "source": [
    "df_top10.isna().sum()"
   ]
  },
  {
   "cell_type": "code",
   "execution_count": null,
   "metadata": {
    "ExecuteTime": {
     "end_time": "2021-08-06T04:20:53.051353Z",
     "start_time": "2021-08-06T04:20:52.866479Z"
    }
   },
   "outputs": [],
   "source": [
    "#Get city and state names for each zip code\n",
    "ziplist = []\n",
    "top_ROI = {}\n",
    "\n",
    "for i in top10_county:\n",
    "    City = df_top10[df_top10['CountyName']==i].City.values[0]\n",
    "    Metro = df_top10[df_top10['CountyName']==i].Metro.values[0]\n",
    "    Zipcode = df_top10[df_top10['CountyName']==i].ZipCode.values[0]\n",
    "    roi = (df_top10[df_top10['CountyName']==i].max()['ROI'])*100\n",
    "    \n",
    "    ziplist.append(Zipcode)\n",
    "    top_ROI[i] = roi\n",
    "    print(f'County: {i} \\nCity: {City}, Zipcode: {Zipcode}, Metro: {Metro}\\n')\n"
   ]
  },
  {
   "cell_type": "markdown",
   "metadata": {},
   "source": [
    "# Time Series Analysis"
   ]
  },
  {
   "cell_type": "code",
   "execution_count": null,
   "metadata": {
    "ExecuteTime": {
     "end_time": "2021-08-06T04:20:53.067049Z",
     "start_time": "2021-08-06T04:20:53.052658Z"
    }
   },
   "outputs": [],
   "source": [
    "ziplist"
   ]
  },
  {
   "cell_type": "code",
   "execution_count": null,
   "metadata": {
    "ExecuteTime": {
     "end_time": "2021-08-06T04:20:53.083098Z",
     "start_time": "2021-08-06T04:20:53.068036Z"
    }
   },
   "outputs": [],
   "source": [
    "ziplist = ['92101', '91754', '92866', '92860', '96141', '95441', '93405',\n",
    "           '95818', '93003', '94546']"
   ]
  },
  {
   "cell_type": "code",
   "execution_count": null,
   "metadata": {
    "ExecuteTime": {
     "end_time": "2021-08-06T04:20:53.098754Z",
     "start_time": "2021-08-06T04:20:53.085129Z"
    }
   },
   "outputs": [],
   "source": [
    "x = dict(sorted(top_ROI.items(), key=lambda item: item[1])).keys()"
   ]
  },
  {
   "cell_type": "code",
   "execution_count": null,
   "metadata": {
    "ExecuteTime": {
     "end_time": "2021-08-06T04:20:53.114534Z",
     "start_time": "2021-08-06T04:20:53.100693Z"
    }
   },
   "outputs": [],
   "source": [
    "y = dict(sorted(top_ROI.items(), key=lambda item: item[1])).values()"
   ]
  },
  {
   "cell_type": "code",
   "execution_count": null,
   "metadata": {
    "ExecuteTime": {
     "end_time": "2021-08-06T04:20:53.333476Z",
     "start_time": "2021-08-06T04:20:53.116469Z"
    }
   },
   "outputs": [],
   "source": [
    "plt.figure(figsize=(15,5))\n",
    "plt.bar(x, y, color='green', )\n",
    "plt.title('ROI of Homes in Top 10 CA Counties')\n",
    "plt.xlabel('County Name')\n",
    "plt.ylabel('% Gained on Original Investment')\n",
    "plt.show()"
   ]
  },
  {
   "cell_type": "code",
   "execution_count": null,
   "metadata": {
    "ExecuteTime": {
     "end_time": "2021-08-06T04:20:53.644012Z",
     "start_time": "2021-08-06T04:20:53.336432Z"
    }
   },
   "outputs": [],
   "source": [
    "#create a dictionary for each zipcode\n",
    "ts = {}\n",
    "for zc in ziplist:\n",
    "    temp_df = melted_df.groupby('ZipCode').get_group(zc).sort_index()['value']\n",
    "    ts[zc] = temp_df"
   ]
  },
  {
   "cell_type": "code",
   "execution_count": null,
   "metadata": {
    "ExecuteTime": {
     "end_time": "2021-08-06T04:20:53.675138Z",
     "start_time": "2021-08-06T04:20:53.645976Z"
    }
   },
   "outputs": [],
   "source": [
    "ts"
   ]
  },
  {
   "cell_type": "code",
   "execution_count": null,
   "metadata": {
    "ExecuteTime": {
     "end_time": "2021-08-06T04:20:53.705884Z",
     "start_time": "2021-08-06T04:20:53.676673Z"
    }
   },
   "outputs": [],
   "source": [
    "ts_df = pd.DataFrame(ts)\n",
    "ts_df.head()"
   ]
  },
  {
   "cell_type": "code",
   "execution_count": null,
   "metadata": {
    "ExecuteTime": {
     "end_time": "2021-08-06T04:20:53.721408Z",
     "start_time": "2021-08-06T04:20:53.707924Z"
    }
   },
   "outputs": [],
   "source": [
    "zip_1 = ziplist[0]"
   ]
  },
  {
   "cell_type": "code",
   "execution_count": null,
   "metadata": {
    "ExecuteTime": {
     "end_time": "2021-08-06T04:20:53.928024Z",
     "start_time": "2021-08-06T04:20:53.723791Z"
    }
   },
   "outputs": [],
   "source": [
    "ts_zip1 = ts_df[zip_1].copy()\n",
    "ax = ts_zip1.plot()\n",
    "ax.legend()\n",
    "plt.show()"
   ]
  },
  {
   "cell_type": "markdown",
   "metadata": {},
   "source": [
    "## Model 1"
   ]
  },
  {
   "cell_type": "markdown",
   "metadata": {},
   "source": [
    "### Baseline Model"
   ]
  },
  {
   "cell_type": "code",
   "execution_count": null,
   "metadata": {
    "ExecuteTime": {
     "end_time": "2021-08-06T04:20:53.943816Z",
     "start_time": "2021-08-06T04:20:53.930359Z"
    }
   },
   "outputs": [],
   "source": [
    "# selected params\n",
    "d = 1\n",
    "p = 1\n",
    "q = 1"
   ]
  },
  {
   "cell_type": "code",
   "execution_count": null,
   "metadata": {
    "ExecuteTime": {
     "end_time": "2021-08-06T04:20:54.181139Z",
     "start_time": "2021-08-06T04:20:53.945842Z"
    }
   },
   "outputs": [],
   "source": [
    "train_size = 0.85 #leaving approximately 3year for test size.\n",
    "split_idx = round(len(ts_zip1)* train_size)\n",
    "split_idx\n",
    "\n",
    "## Split\n",
    "train = ts_zip1.iloc[:split_idx]\n",
    "test = ts_zip1.iloc[split_idx:]\n",
    "\n",
    "## Visualize split\n",
    "fig,ax= plt.subplots()\n",
    "kws = dict(ax=ax,marker='o')\n",
    "train.plot(**kws)\n",
    "test.plot(**kws)\n",
    "ax.legend(bbox_to_anchor=[1,1])\n",
    "plt.show()"
   ]
  },
  {
   "cell_type": "code",
   "execution_count": null,
   "metadata": {
    "ExecuteTime": {
     "end_time": "2021-08-06T04:20:55.299196Z",
     "start_time": "2021-08-06T04:20:54.183574Z"
    }
   },
   "outputs": [],
   "source": [
    "from statsmodels.tsa.statespace.sarimax import SARIMAX\n",
    "\n",
    "## Baseline model from eye-balled params\n",
    "model = SARIMAX(train,order=(p,d,q),).fit()\n",
    "display(model.summary())\n",
    "model.plot_diagnostics(figsize=(10,8));\n",
    "plt.show()"
   ]
  },
  {
   "cell_type": "code",
   "execution_count": null,
   "metadata": {
    "ExecuteTime": {
     "end_time": "2021-08-06T04:20:55.315283Z",
     "start_time": "2021-08-06T04:20:55.301143Z"
    }
   },
   "outputs": [],
   "source": [
    "## obtaining forecast\n",
    "from sklearn import metrics\n",
    "forecast = model.get_forecast(steps=len(test))"
   ]
  },
  {
   "cell_type": "code",
   "execution_count": null,
   "metadata": {
    "ExecuteTime": {
     "end_time": "2021-08-06T04:20:55.330625Z",
     "start_time": "2021-08-06T04:20:55.317280Z"
    }
   },
   "outputs": [],
   "source": [
    "def forecast_to_df(forecast,zipcode):\n",
    "    test_pred = forecast.conf_int()\n",
    "    test_pred[zipcode] = forecast.predicted_mean\n",
    "    test_pred.columns = ['lower','upper','prediction']\n",
    "    return test_pred\n",
    "\n",
    "pred_df = forecast_to_df(forecast,zip_1)\n",
    "pred_df.head()"
   ]
  },
  {
   "cell_type": "code",
   "execution_count": null,
   "metadata": {
    "ExecuteTime": {
     "end_time": "2021-08-06T04:20:55.346650Z",
     "start_time": "2021-08-06T04:20:55.332731Z"
    }
   },
   "outputs": [],
   "source": [
    "def plot_train_test_pred(train,test,pred_df):\n",
    "    fig,ax = plt.subplots()\n",
    "    kws = dict(marker='o')\n",
    "    \n",
    "    ax.plot(train,label='Train',**kws)\n",
    "    ax.plot(test,label='Test',**kws)\n",
    "    ax.plot(pred_df['prediction'],label='prediction',ls='--',**kws)\n",
    "\n",
    "    ax.fill_between(x=pred_df.index,y1=pred_df['lower'],y2=pred_df['upper'])\n",
    "    ax.legend(bbox_to_anchor=[1,1])\n",
    "    fig.tight_layout()\n",
    "    return fig,ax"
   ]
  },
  {
   "cell_type": "code",
   "execution_count": null,
   "metadata": {
    "ExecuteTime": {
     "end_time": "2021-08-06T04:20:55.557029Z",
     "start_time": "2021-08-06T04:20:55.348685Z"
    }
   },
   "outputs": [],
   "source": [
    "plot_train_test_pred(train,test,pred_df)\n",
    "\n",
    "plt.show()\n"
   ]
  },
  {
   "cell_type": "markdown",
   "metadata": {},
   "source": [
    "## Model 2 "
   ]
  },
  {
   "cell_type": "code",
   "execution_count": null,
   "metadata": {
    "ExecuteTime": {
     "end_time": "2021-08-06T04:20:56.549855Z",
     "start_time": "2021-08-06T04:20:55.557988Z"
    }
   },
   "outputs": [],
   "source": [
    "auto_model = auto_arima(train,start_p=0,start_q=0)\n",
    "display(auto_model.summary())\n",
    "auto_model.plot_diagnostics(figsize=(10,8));"
   ]
  },
  {
   "cell_type": "code",
   "execution_count": null,
   "metadata": {
    "ExecuteTime": {
     "end_time": "2021-08-06T04:20:57.161883Z",
     "start_time": "2021-08-06T04:20:56.552041Z"
    }
   },
   "outputs": [],
   "source": [
    "model3 = SARIMAX(ts_zip1,order=auto_model.order,\n",
    "                     seasonal_order=auto_model.seasonal_order).fit()\n",
    "display(model3.summary())\n",
    "model3.plot_diagnostics(figsize=(10,8));"
   ]
  },
  {
   "cell_type": "code",
   "execution_count": null,
   "metadata": {
    "ExecuteTime": {
     "end_time": "2021-08-06T04:20:57.370589Z",
     "start_time": "2021-08-06T04:20:57.161883Z"
    }
   },
   "outputs": [],
   "source": [
    "pred = model3.get_forecast(steps=12)#start=test.index[0],end=test.index[-1])\n",
    "pred_df = forecast_to_df(pred,zip_1)\n",
    "display(plot_train_test_pred(train,test,pred_df));\n",
    "plt.show()"
   ]
  },
  {
   "cell_type": "code",
   "execution_count": null,
   "metadata": {
    "ExecuteTime": {
     "end_time": "2021-08-06T04:20:57.401895Z",
     "start_time": "2021-08-06T04:20:57.370589Z"
    }
   },
   "outputs": [],
   "source": [
    "  ## Get predictions\n",
    "pred  = model3.get_forecast(steps=36)#start=test.index[0],end=test.index[-36])\n",
    "pred_df = forecast_to_df(pred,zc)\n",
    "\n",
    "# Get the real and predicted values\n",
    "output = model3.get_prediction(start='2015-01',end='2018-04', dynamic=True)\n",
    "value_forcasted = output.predicted_mean\n",
    "print('Predicted mean budget: ', round(value_forcasted.max(), 1))\n",
    "value_truth = test[:]\n",
    "\n",
    "train_pred = model3.get_prediction(start='1996-04',end='2014-12')\n",
    "train_forcast = train_pred.predicted_mean\n",
    "train_true = train[:]\n",
    "print('predicted', train_pred)\n",
    "print('forcasted', train_forcast)\n",
    "# print('predicted', train_pred)\n",
    "print('forcasted', value_forcasted)\n",
    "\n",
    " # Compute the root mean square error for train set\n",
    "rmse_train = np.sqrt(metrics.mean_squared_error(train_true, train_forcast))\n",
    "\n",
    "print('SARIMA model RMSE on train data: {}'.format(round(rmse_train, 1)))\n",
    "\n",
    "# Compute the root mean square error for test set\n",
    "mse = ((value_forcasted - value_truth) ** 2).mean()\n",
    "rmse = sqrt(mse)\n",
    "print('SARIMA model RMSE on test data: {}'.format(round(rmse, 1)))\n"
   ]
  },
  {
   "cell_type": "code",
   "execution_count": null,
   "metadata": {
    "ExecuteTime": {
     "end_time": "2021-08-06T04:21:33.266819Z",
     "start_time": "2021-08-06T04:20:57.403817Z"
    }
   },
   "outputs": [],
   "source": [
    "RESULTS = {}\n",
    "\n",
    "for zc in ziplist:\n",
    "    print(zc)\n",
    "    \n",
    "    ## Make empty dict for district data\n",
    "    zipcode_d = {}\n",
    "    \n",
    "    ## Copy Time Series\n",
    "    ts_final = ts_df[zc].copy()\n",
    "    \n",
    "    ## Train Test Split Index\n",
    "    train_size = 0.85\n",
    "    split_idx = round(len(ts_df)* train_size)\n",
    "\n",
    "    ## Split\n",
    "    train = ts_final.iloc[:split_idx]\n",
    "    test = ts_final.iloc[split_idx:]\n",
    "    \n",
    "    \n",
    "    ## Get best params using auto_arima\n",
    "    gridsearch_model = auto_arima(ts_final,start_p=0,start_q=0)\n",
    "    model3 = SARIMAX(ts_final,order=gridsearch_model.order,\n",
    "                     seasonal_order=gridsearch_model.seasonal_order).fit()\n",
    "    \n",
    "    ## Get predictions\n",
    "    pred  = model3.get_forecast(steps=36)#start=test.index[0],end=test.index[-36])\n",
    "    pred_df = forecast_to_df(pred,zc)\n",
    "\n",
    "    # Get the real and predicted values\n",
    "    output = model3.get_prediction(start='2015-01',end='2018-04', dynamic=True)\n",
    "    value_forcasted = output.predicted_mean\n",
    "    print('Predicted mean budget: ', round(value_forcasted.max(), 1))\n",
    "    value_truth = test[:]\n",
    "    \n",
    "    train_pred = model3.get_prediction(start='1996-04',end='2014-12')\n",
    "    train_forcast = train_pred.predicted_mean\n",
    "    train_true = train[:]\n",
    "    \n",
    "     # Compute the root mean square error for train set\n",
    "#     mse_train = ((train_forcast - train_true) ** 2).mean()\n",
    "#     rmse_train = math.sqrt(mse_train)\n",
    "    rmse_train = np.sqrt(metrics.mean_squared_error(train_true, train_forcast))\n",
    "    \n",
    "    print('SARIMA model RMSE on train data: {}'.format(round(rmse_train, 1)))\n",
    "    \n",
    "    # Compute the root mean square error for test set\n",
    "    mse = ((value_forcasted - value_truth) ** 2).mean()\n",
    "    rmse = sqrt(mse)\n",
    "    print('SARIMA model RMSE on test data: {}'.format(round(rmse, 1)))\n",
    "\n",
    "    ## Save info to dict\n",
    "    zipcode_d['pred_df'] = pred_df\n",
    "    zipcode_d['model'] = model3\n",
    "    zipcode_d['train'] = train\n",
    "    zipcode_d['test'] = test\n",
    "    \n",
    "    ## Display Results\n",
    "    display(model3.summary())\n",
    "    plot_train_test_pred(train,test,pred_df)\n",
    "    plt.xlabel('Year')\n",
    "    plt.ylabel('Value in US Dollars ($)')\n",
    "    plt.show()\n",
    "    \n",
    "    \n",
    "    ## Save district dict in RESULTS\n",
    "    RESULTS[zc] = zipcode_d\n",
    "    print('---'*20,end='\\n\\n')"
   ]
  },
  {
   "cell_type": "markdown",
   "metadata": {},
   "source": [
    "From the predictions, we can see that the best zip codes are 96141, 95441, 92101, 93405, and 91754 since those are with the lowest number of parameters from the summary. Let's check for stationarity and measure their future returns."
   ]
  },
  {
   "cell_type": "code",
   "execution_count": null,
   "metadata": {
    "ExecuteTime": {
     "end_time": "2021-08-06T04:21:33.472256Z",
     "start_time": "2021-08-06T04:21:33.266819Z"
    }
   },
   "outputs": [],
   "source": [
    "\n",
    "zip_96141 = melted_df[melted_df.ZipCode == '96141']\n",
    "zip_93405 = melted_df[melted_df.ZipCode == '93405']\n",
    "zip_92866 = melted_df[melted_df.ZipCode == '92866']\n",
    "zip_92101 = melted_df[melted_df.ZipCode == '92101']\n",
    "zip_95441 = melted_df[melted_df.ZipCode == '95441']\n",
    "zip_94546 = melted_df[melted_df.ZipCode == '94546']\n",
    "zip_91754 = melted_df[melted_df.ZipCode == '91754']\n",
    "zip_92860 = melted_df[melted_df.ZipCode == '92860']\n",
    "zip_95818 = melted_df[melted_df.ZipCode == '95818']\n",
    "zip_93003 = melted_df[melted_df.ZipCode == '93003']"
   ]
  },
  {
   "cell_type": "code",
   "execution_count": null,
   "metadata": {
    "ExecuteTime": {
     "end_time": "2021-08-06T04:21:33.498562Z",
     "start_time": "2021-08-06T04:21:33.475161Z"
    }
   },
   "outputs": [],
   "source": [
    "zip_df = pd.DataFrame()\n",
    "zip_df = zip_df.append(zip_96141)\n",
    "zip_df = zip_df.append(zip_93405)\n",
    "zip_df = zip_df.append(zip_92866)\n",
    "zip_df = zip_df.append(zip_92101)\n",
    "zip_df = zip_df.append(zip_95441)\n",
    "zip_df = zip_df.append(zip_94546)\n",
    "zip_df = zip_df.append(zip_91754)\n",
    "zip_df = zip_df.append(zip_92860)\n",
    "zip_df = zip_df.append(zip_95818)\n",
    "zip_df = zip_df.append(zip_93003)\n",
    "zip_df.head()"
   ]
  },
  {
   "cell_type": "code",
   "execution_count": null,
   "metadata": {
    "ExecuteTime": {
     "end_time": "2021-08-06T04:21:33.561839Z",
     "start_time": "2021-08-06T04:21:33.502120Z"
    }
   },
   "outputs": [],
   "source": [
    "zip_ts = []\n",
    "for zc in zip_df.ZipCode.unique():\n",
    "    #Create separate dataframes for each zipcode with a monthly frequency.\n",
    "    top5_df = zip_df[zip_df['ZipCode']==zc].asfreq('MS')\n",
    "    zip_ts.append(top5_df)\n",
    "zip_ts[0].head()"
   ]
  },
  {
   "cell_type": "code",
   "execution_count": null,
   "metadata": {
    "ExecuteTime": {
     "end_time": "2021-08-06T04:21:33.611646Z",
     "start_time": "2021-08-06T04:21:33.563809Z"
    }
   },
   "outputs": [],
   "source": [
    "#checking how much each zipcode was impacted during the recession\n",
    "for i in range(len(zip_ts)):\n",
    "    print(zip_ts[i].ZipCode[0])\n",
    "    print(zip_ts[i]['2006-01':'2011-01'].value) \n",
    "    print('--------------------------')"
   ]
  },
  {
   "cell_type": "code",
   "execution_count": null,
   "metadata": {
    "ExecuteTime": {
     "end_time": "2021-08-06T04:21:33.655433Z",
     "start_time": "2021-08-06T04:21:33.611646Z"
    },
    "scrolled": true
   },
   "outputs": [],
   "source": [
    "for i in range(len(zip_ts)):\n",
    "    print(f'Value descriptive statistics for zipcode {zip_ts[i].ZipCode[0]}:')\n",
    "    print(f'{zip_ts[i].value.describe()}\\n')"
   ]
  },
  {
   "cell_type": "code",
   "execution_count": null,
   "metadata": {
    "ExecuteTime": {
     "end_time": "2021-08-06T04:21:34.050882Z",
     "start_time": "2021-08-06T04:21:33.655433Z"
    }
   },
   "outputs": [],
   "source": [
    "for i in range(10):\n",
    "    zip_ts[i].value.plot(label=zip_ts[i].ZipCode[0],figsize=(15,6))\n",
    "    plt.title('Average Home values of each zipcode')\n",
    "    plt.legend()"
   ]
  },
  {
   "cell_type": "markdown",
   "metadata": {},
   "source": [
    "## Decomposition"
   ]
  },
  {
   "cell_type": "code",
   "execution_count": null,
   "metadata": {
    "ExecuteTime": {
     "end_time": "2021-08-06T04:21:34.066659Z",
     "start_time": "2021-08-06T04:21:34.059782Z"
    }
   },
   "outputs": [],
   "source": [
    "# Import and apply seasonal_decompose()\n",
    "def decompose(i):\n",
    "    from statsmodels.tsa.seasonal import seasonal_decompose\n",
    "    print('Zip code:', zip_ts[i]['ZipCode'][1])\n",
    "    decomposition = seasonal_decompose(zip_ts[i]['value'])\n",
    "\n",
    "    # Gather the trend, seasonality, and residuals \n",
    "    trend = decomposition.trend\n",
    "    seasonal = decomposition.seasonal\n",
    "    residual = decomposition.resid\n",
    "\n",
    "    # Plot gathered statistics\n",
    "    plt.figure(figsize=(12,8))\n",
    "    plt.subplot(411)\n",
    "    plt.plot(zip_ts[i]['value'], label='Original', color='blue')\n",
    "    plt.legend(loc='best')\n",
    "    plt.subplot(412)\n",
    "    plt.plot(trend, label='Trend', color='blue')\n",
    "    plt.legend(loc='best')\n",
    "    plt.subplot(413)\n",
    "    plt.plot(seasonal,label='Seasonality', color='blue')\n",
    "    plt.legend(loc='best')\n",
    "    plt.subplot(414)\n",
    "    plt.plot(residual, label='Residuals', color='blue')\n",
    "    plt.legend(loc='best')\n",
    "    plt.tight_layout()"
   ]
  },
  {
   "cell_type": "code",
   "execution_count": null,
   "metadata": {
    "ExecuteTime": {
     "end_time": "2021-08-06T04:21:34.631324Z",
     "start_time": "2021-08-06T04:21:34.070534Z"
    }
   },
   "outputs": [],
   "source": [
    "decompose(0)"
   ]
  },
  {
   "cell_type": "markdown",
   "metadata": {},
   "source": [
    "## Checking Stationarity"
   ]
  },
  {
   "cell_type": "code",
   "execution_count": null,
   "metadata": {
    "ExecuteTime": {
     "end_time": "2021-08-06T04:21:34.869049Z",
     "start_time": "2021-08-06T04:21:34.631324Z"
    }
   },
   "outputs": [],
   "source": [
    "#Calculate monthly returns in new column 'ret' for each zipcode.\n",
    "for zc in range(len(zip_ts)):\n",
    "    zip_ts[zc]['ret']=np.nan*len(zip_ts[zc])\n",
    "    for i in range(len(zip_ts[zc])-1):\n",
    "        zip_ts[zc]['ret'][i+1]= (zip_ts[zc].value.iloc[i+1] / zip_ts[zc].value.iloc[i]) - 1"
   ]
  },
  {
   "cell_type": "code",
   "execution_count": null,
   "metadata": {
    "ExecuteTime": {
     "end_time": "2021-08-06T04:21:34.988211Z",
     "start_time": "2021-08-06T04:21:34.869049Z"
    }
   },
   "outputs": [],
   "source": [
    "for i in range(10):\n",
    "    results = adfuller(zip_ts[i].ret.dropna())\n",
    "    print(f'ADFuller test p-value for zipcode: {zip_ts[i].ZipCode[0]}')\n",
    "    print('p-value:',results[1])\n",
    "    if results[1]>0.05:\n",
    "        print('Fail to reject the null hypothesis. Data is not stationary.\\n')\n",
    "    else:\n",
    "        print('Reject the null hypothesis. Data is stationary.\\n')"
   ]
  },
  {
   "cell_type": "code",
   "execution_count": null,
   "metadata": {
    "ExecuteTime": {
     "end_time": "2021-08-06T04:21:35.000866Z",
     "start_time": "2021-08-06T04:21:34.988211Z"
    }
   },
   "outputs": [],
   "source": [
    "results"
   ]
  },
  {
   "cell_type": "markdown",
   "metadata": {},
   "source": [
    "Except for the last zipcode we fail to reject the null hypothesis that the data is not stationary."
   ]
  },
  {
   "cell_type": "code",
   "execution_count": null,
   "metadata": {
    "ExecuteTime": {
     "end_time": "2021-08-06T04:21:35.019436Z",
     "start_time": "2021-08-06T04:21:35.000866Z"
    }
   },
   "outputs": [],
   "source": [
    "roll_mean = top5_df['value'].rolling(window=8, center=False).mean()\n",
    "roll_std = top5_df['value'].rolling(window=8, center=False).std()\n",
    "# series_ts = pd.Series()"
   ]
  },
  {
   "cell_type": "code",
   "execution_count": null,
   "metadata": {
    "ExecuteTime": {
     "end_time": "2021-08-06T04:21:35.227471Z",
     "start_time": "2021-08-06T04:21:35.019436Z"
    }
   },
   "outputs": [],
   "source": [
    "fig = plt.figure(figsize=(12,7))\n",
    "plt.plot(top5_df['value'], color='blue', label='Original')\n",
    "plt.plot(roll_mean, color='red', label='Rolling Mean')\n",
    "plt.plot(roll_std, color='black', label = 'Rolling Std')\n",
    "plt.legend(loc='best')\n",
    "plt.title('Rolling Mean & Standard Deviation')\n",
    "plt.show(block=False)"
   ]
  },
  {
   "cell_type": "code",
   "execution_count": null,
   "metadata": {
    "ExecuteTime": {
     "end_time": "2021-08-06T04:21:35.343864Z",
     "start_time": "2021-08-06T04:21:35.227471Z"
    }
   },
   "outputs": [],
   "source": [
    "for i in range(10):\n",
    "    #Perform adfuller test and drop NaN values created when calculating monthly returns.\n",
    "    results = adfuller(zip_ts[i].ret.diff().dropna()) #differencing by 12 month for stationarity\n",
    "    print(f'ADFuller test p-value for zipcode: {zip_ts[i].ZipCode[0]}')\n",
    "    print('p-value:',results[1])\n",
    "    if results[1]>0.05:\n",
    "        print('Fail to reject the null hypothesis. Data is not stationary.\\n')\n",
    "    else:\n",
    "        print('Reject the null hypothesis. Data is stationary.\\n')"
   ]
  },
  {
   "cell_type": "code",
   "execution_count": null,
   "metadata": {
    "ExecuteTime": {
     "end_time": "2021-08-06T04:21:35.371133Z",
     "start_time": "2021-08-06T04:21:35.343864Z"
    }
   },
   "outputs": [],
   "source": [
    "results"
   ]
  },
  {
   "cell_type": "code",
   "execution_count": null,
   "metadata": {
    "ExecuteTime": {
     "end_time": "2021-08-06T04:21:35.434258Z",
     "start_time": "2021-08-06T04:21:35.371133Z"
    }
   },
   "outputs": [],
   "source": [
    "zip_ts"
   ]
  },
  {
   "cell_type": "code",
   "execution_count": null,
   "metadata": {
    "ExecuteTime": {
     "end_time": "2021-08-06T04:21:35.454177Z",
     "start_time": "2021-08-06T04:21:35.434258Z"
    }
   },
   "outputs": [],
   "source": [
    "#Create individual time series for each of the positive zipcodes\n",
    "TS_96141 = zip_ts[0].ret.dropna()\n",
    "TS_96141d = zip_ts[0].ret.diff().dropna()\n",
    "\n",
    "TS_93405 = zip_ts[1].ret.dropna()\n",
    "TS_93405d = zip_ts[1].ret.diff().dropna()\n",
    "\n",
    "TS_92866 = zip_ts[2].ret.dropna()\n",
    "TS_92866d = zip_ts[2].ret.diff().dropna()\n",
    "\n",
    "TS_92101 = zip_ts[3].ret.dropna()\n",
    "TS_92101d = zip_ts[3].ret.diff().dropna()\n",
    "\n",
    "TS_95441 = zip_ts[4].ret.dropna()\n",
    "TS_95441d = zip_ts[4].ret.diff().dropna()\n",
    "\n",
    "TS_94546 = zip_ts[5].ret.dropna()\n",
    "TS_94546d = zip_ts[5].ret.diff().dropna()\n",
    "\n",
    "TS_91754 = zip_ts[6].ret.dropna()\n",
    "TS_91754d = zip_ts[6].ret.diff().dropna()\n",
    "\n",
    "TS_92860 = zip_ts[7].ret.dropna()\n",
    "TS_92860d = zip_ts[7].ret.diff().dropna()\n",
    "\n",
    "TS_95818 = zip_ts[8].ret.dropna()\n",
    "TS_95818d = zip_ts[8].ret.diff().dropna()\n",
    "\n",
    "TS_93003 = zip_ts[9].ret.dropna()\n",
    "TS_93003d = zip_ts[9].ret.diff().dropna()\n"
   ]
  },
  {
   "cell_type": "code",
   "execution_count": null,
   "metadata": {
    "ExecuteTime": {
     "end_time": "2021-08-06T04:21:35.473601Z",
     "start_time": "2021-08-06T04:21:35.455274Z"
    }
   },
   "outputs": [],
   "source": [
    "def plot_acf_pacf(ts, figsize=(10,8),lags=24):\n",
    "    \n",
    "    fig,ax = plt.subplots(nrows=3, figsize=figsize)\n",
    "    \n",
    "    ts.plot(ax=ax[0])\n",
    "    \n",
    "    plot_acf(ts,ax=ax[1],lags=lags)\n",
    "    plot_pacf(ts, ax=ax[2],lags=lags) \n",
    "    fig.tight_layout()\n",
    "    \n",
    "    \n",
    "    for a in ax[1:]:\n",
    "        a.xaxis.set_major_locator(mpl.ticker.MaxNLocator(min_n_ticks=lags, integer=True))\n",
    "        a.xaxis.grid()\n",
    "    return fig,ax\n",
    "\n",
    "def seasonal_plots(df,N=4,lags=[12,24,36,48,60,72]):\n",
    "    #Differencing the rolling mean to find seasonality in the resulting acf plot.\n",
    "    fig,(ax1,ax2) = plt.subplots(2,1,figsize=(13,8))\n",
    "    rolling = df - df.rolling(N).mean()\n",
    "    plot_acf(rolling.dropna(),lags=lags,ax=ax1)\n",
    "    plot_pacf(rolling.dropna(),lags=lags,ax=ax2)\n",
    "    plt.show();\n",
    "\n",
    "def model_fit(df,pdq=(1,0,1),pdqs=(0,0,0,1)):\n",
    "    train, test = train_test(df)\n",
    "    model = SARIMAX(train,order=pdq,seasonal_order=pdqs)\n",
    "    results = model.fit()\n",
    "    results.summary\n",
    "    residuals = results.resid\n",
    "    print(results.summary())\n",
    "    results.plot_diagnostics(figsize=(11,8))\n",
    "    plt.show();\n",
    "    return train, test, results\n",
    "\n",
    "def forecast_model(df,pdq=(1,0,1),pdqs=(0,0,0,12), display=True,zc='input zipcode'):\n",
    "    model = SARIMAX(df, order=pdq,seasonal_order=pdqs)\n",
    "    model_fit = model.fit()\n",
    "    output = model_fit.get_prediction(start='2018-04',end='2028-04', dynamic=True)\n",
    "\n",
    "    forecast_ci = output.conf_int()\n",
    "    if display:\n",
    "        fig, ax = plt.subplots(figsize=(13,6))\n",
    "        output.predicted_mean.plot(label='Forecast')\n",
    "        ax.fill_between(forecast_ci.index,forecast_ci.iloc[:, 0],forecast_ci.iloc[:, 1],\n",
    "                        color='k', alpha=.25,label='Conf Interval')\n",
    "        plt.title('Forecast of Monthly Returns')\n",
    "        plt.xlabel('Time')\n",
    "        plt.legend(loc='best')\n",
    "        plt.show()\n",
    "#     year_1= (1+output.predicted_mean[:12]).prod()-1\n",
    "    year_1= (1+output.predicted_mean[:12]).prod()-1\n",
    "    year_3=(1+output.predicted_mean[:36]).prod()-1\n",
    "    year_5= (1+output.predicted_mean[:60]).prod()-1\n",
    "    year_10=(1+output.predicted_mean).prod()-1\n",
    "    print(f'Total expected return in 1 year: {round(year_1*100,2)}%')\n",
    "    print(f'Total expected return in 3 years: {round(year_3*100,2)}%')\n",
    "    print(f'Total expected return in 5 year: {round(year_5*100,2)}%')\n",
    "    print(f'Total expected return in 10 years: {round(year_10*100,2)}%')\n",
    "    tot_ret = [zc,year_1,year_3,year_5,year_10]\n",
    "    return tot_ret"
   ]
  },
  {
   "cell_type": "markdown",
   "metadata": {},
   "source": [
    "# X Zipcode 96141: Placer county"
   ]
  },
  {
   "cell_type": "code",
   "execution_count": null,
   "metadata": {
    "ExecuteTime": {
     "end_time": "2021-08-06T04:21:35.962271Z",
     "start_time": "2021-08-06T04:21:35.473601Z"
    }
   },
   "outputs": [],
   "source": [
    "plot_acf_pacf(TS_96141d,lags=20);"
   ]
  },
  {
   "cell_type": "markdown",
   "metadata": {},
   "source": [
    "Even though the data lines after differencing do seem to be fluctuating, the movements seem to be completely random, \n",
    "and the same conclusion holds for the original time series."
   ]
  },
  {
   "cell_type": "code",
   "execution_count": null,
   "metadata": {
    "ExecuteTime": {
     "end_time": "2021-08-06T04:22:06.720143Z",
     "start_time": "2021-08-06T04:21:35.964235Z"
    }
   },
   "outputs": [],
   "source": [
    "results = pm.auto_arima(TS_96141d,information_criterion='aic',m=12,\n",
    "                        start_p=0,start_q=0, max_p=3, max_q=3,\n",
    "                        stepwise=True,trace=True,error_action='ignore',suppress_warnings=True)\n",
    "results"
   ]
  },
  {
   "cell_type": "code",
   "execution_count": null,
   "metadata": {
    "ExecuteTime": {
     "end_time": "2021-08-06T04:22:08.110920Z",
     "start_time": "2021-08-06T04:22:06.720143Z"
    }
   },
   "outputs": [],
   "source": [
    "pdq = (2, 0, 3)\n",
    "pdqs = (0, 0, 2, 12)\n",
    "ret_96141 = forecast_model(TS_96141,pdq=pdq,pdqs=pdqs,zc=96141)"
   ]
  },
  {
   "cell_type": "code",
   "execution_count": null,
   "metadata": {},
   "outputs": [],
   "source": []
  },
  {
   "cell_type": "markdown",
   "metadata": {},
   "source": [
    "# Zipcode 93405: San Luis Obispo"
   ]
  },
  {
   "cell_type": "code",
   "execution_count": null,
   "metadata": {
    "ExecuteTime": {
     "end_time": "2021-08-06T04:22:08.597009Z",
     "start_time": "2021-08-06T04:22:08.110920Z"
    }
   },
   "outputs": [],
   "source": [
    "plot_acf_pacf(TS_93405d,lags=20)"
   ]
  },
  {
   "cell_type": "markdown",
   "metadata": {},
   "source": [
    "The ACF and PACF have just one very strong correlation, right at 1 month."
   ]
  },
  {
   "cell_type": "code",
   "execution_count": null,
   "metadata": {
    "ExecuteTime": {
     "end_time": "2021-08-06T04:22:34.300459Z",
     "start_time": "2021-08-06T04:22:08.597009Z"
    }
   },
   "outputs": [],
   "source": [
    "results = pm.auto_arima(TS_93405d,information_criterion='aic',m=12,d=0,\n",
    "                        start_p=1,start_q=1, max_p=3, max_q=3,\n",
    "                        stepwise=True,trace=True,error_action='ignore',suppress_warnings=True)\n",
    "results"
   ]
  },
  {
   "cell_type": "code",
   "execution_count": null,
   "metadata": {
    "ExecuteTime": {
     "end_time": "2021-08-06T04:22:35.238247Z",
     "start_time": "2021-08-06T04:22:34.301655Z"
    }
   },
   "outputs": [],
   "source": [
    "pdq = (2, 0, 3)\n",
    "pdqs = (1, 0, 1, 12)\n",
    "ret_93405 = forecast_model(TS_93405,pdq=pdq,pdqs=pdqs,zc=90504)"
   ]
  },
  {
   "cell_type": "markdown",
   "metadata": {},
   "source": [
    "# Zipcode 92866: Los Angeles-Long Beach-Anaheim"
   ]
  },
  {
   "cell_type": "code",
   "execution_count": null,
   "metadata": {
    "ExecuteTime": {
     "end_time": "2021-08-06T04:22:35.711978Z",
     "start_time": "2021-08-06T04:22:35.241116Z"
    }
   },
   "outputs": [],
   "source": [
    "plot_acf_pacf(TS_92866d,lags=20)"
   ]
  },
  {
   "cell_type": "code",
   "execution_count": null,
   "metadata": {
    "ExecuteTime": {
     "end_time": "2021-08-06T04:22:41.944863Z",
     "start_time": "2021-08-06T04:22:35.712870Z"
    }
   },
   "outputs": [],
   "source": [
    "results = pm.auto_arima(TS_92866d,information_criterion='aic',m=12,d=0,\n",
    "                        start_p=1,start_q=1, max_p=3, max_q=3,\n",
    "                        stepwise=True,trace=True,error_action='ignore',suppress_warnings=True)\n",
    "results"
   ]
  },
  {
   "cell_type": "code",
   "execution_count": null,
   "metadata": {
    "ExecuteTime": {
     "end_time": "2021-08-06T04:22:42.585440Z",
     "start_time": "2021-08-06T04:22:41.944863Z"
    }
   },
   "outputs": [],
   "source": [
    "pdq = (0, 0, 1)\n",
    "pdqs = (0, 0, 1, 12)\n",
    "ret_92866 = forecast_model(TS_92866,pdq=pdq,pdqs=pdqs,zc=92866)"
   ]
  },
  {
   "cell_type": "markdown",
   "metadata": {},
   "source": [
    "# Zipcode 92101: San Diego"
   ]
  },
  {
   "cell_type": "code",
   "execution_count": null,
   "metadata": {
    "ExecuteTime": {
     "end_time": "2021-08-06T04:22:43.170085Z",
     "start_time": "2021-08-06T04:22:42.589801Z"
    }
   },
   "outputs": [],
   "source": [
    "plot_acf_pacf(TS_92101d,lags=20)"
   ]
  },
  {
   "cell_type": "markdown",
   "metadata": {
    "ExecuteTime": {
     "end_time": "2021-08-02T05:41:36.211663Z",
     "start_time": "2021-08-02T05:41:36.187775Z"
    }
   },
   "source": [
    "The ACF and PACF have just one very strong correlation, right at 2 month."
   ]
  },
  {
   "cell_type": "code",
   "execution_count": null,
   "metadata": {
    "ExecuteTime": {
     "end_time": "2021-08-06T04:23:00.100827Z",
     "start_time": "2021-08-06T04:22:43.174155Z"
    }
   },
   "outputs": [],
   "source": [
    "results = pm.auto_arima(TS_92101d,information_criterion='aic',m=12,d=0,\n",
    "                        start_p=1,start_q=1, max_p=3, max_q=3,\n",
    "                        stepwise=True,trace=True,error_action='ignore',suppress_warnings=True)\n",
    "results"
   ]
  },
  {
   "cell_type": "code",
   "execution_count": null,
   "metadata": {
    "ExecuteTime": {
     "end_time": "2021-08-06T04:23:01.360562Z",
     "start_time": "2021-08-06T04:23:00.102193Z"
    }
   },
   "outputs": [],
   "source": [
    "pdq = (2, 0, 1)\n",
    "pdqs = (1, 0, 2, 12)\n",
    "ret_92101 = forecast_model(TS_92101,pdq=pdq,pdqs=pdqs,zc=92101)"
   ]
  },
  {
   "cell_type": "markdown",
   "metadata": {},
   "source": [
    "# X Zipcode 95441: Sonoma county"
   ]
  },
  {
   "cell_type": "code",
   "execution_count": null,
   "metadata": {
    "ExecuteTime": {
     "end_time": "2021-08-06T04:23:02.178829Z",
     "start_time": "2021-08-06T04:23:01.364028Z"
    }
   },
   "outputs": [],
   "source": [
    "plot_acf_pacf(TS_95441d, lags=20)"
   ]
  },
  {
   "cell_type": "markdown",
   "metadata": {
    "ExecuteTime": {
     "end_time": "2021-08-02T05:41:51.188468Z",
     "start_time": "2021-08-02T05:41:51.156996Z"
    }
   },
   "source": [
    "The ACF and PACF have just one very strong correlation, right at 2 month."
   ]
  },
  {
   "cell_type": "code",
   "execution_count": null,
   "metadata": {
    "ExecuteTime": {
     "end_time": "2021-08-06T04:23:36.153670Z",
     "start_time": "2021-08-06T04:23:02.180830Z"
    }
   },
   "outputs": [],
   "source": [
    "results = pm.auto_arima(TS_95441d,information_criterion='aic',m=12,d=0,\n",
    "                        start_p=1,start_q=1, max_p=3, max_q=3,\n",
    "                        stepwise=True,trace=True,error_action='ignore',suppress_warnings=True)\n",
    "results"
   ]
  },
  {
   "cell_type": "code",
   "execution_count": null,
   "metadata": {
    "ExecuteTime": {
     "end_time": "2021-08-06T04:23:37.969937Z",
     "start_time": "2021-08-06T04:23:36.155696Z"
    }
   },
   "outputs": [],
   "source": [
    "pdq = (2, 0, 2)\n",
    "pdqs = (2, 0, 2, 12)\n",
    "ret_93405 = forecast_model(TS_95441,pdq=pdq,pdqs=pdqs,zc=93405)"
   ]
  },
  {
   "cell_type": "markdown",
   "metadata": {},
   "source": [
    "# X Zipcode 94546: San Francisco"
   ]
  },
  {
   "cell_type": "code",
   "execution_count": null,
   "metadata": {
    "ExecuteTime": {
     "end_time": "2021-08-06T04:23:38.590597Z",
     "start_time": "2021-08-06T04:23:37.971451Z"
    }
   },
   "outputs": [],
   "source": [
    "plot_acf_pacf(TS_94546d,lags=20)"
   ]
  },
  {
   "cell_type": "code",
   "execution_count": null,
   "metadata": {
    "ExecuteTime": {
     "end_time": "2021-08-06T04:23:57.659477Z",
     "start_time": "2021-08-06T04:23:38.592585Z"
    }
   },
   "outputs": [],
   "source": [
    "results = pm.auto_arima(TS_94546d,information_criterion='aic',m=12,d=0,\n",
    "                        start_p=1,start_q=1, max_p=3, max_q=3,\n",
    "                        stepwise=True,trace=True,error_action='ignore',suppress_warnings=True)\n",
    "results"
   ]
  },
  {
   "cell_type": "code",
   "execution_count": null,
   "metadata": {
    "ExecuteTime": {
     "end_time": "2021-08-06T04:23:59.027330Z",
     "start_time": "2021-08-06T04:23:57.661380Z"
    }
   },
   "outputs": [],
   "source": [
    "pdq = (3, 0, 0)\n",
    "pdqs = (0, 0, 2, 12)\n",
    "ret_94546 = forecast_model(TS_94546,pdq=pdq,pdqs=pdqs,zc=94546)"
   ]
  },
  {
   "cell_type": "markdown",
   "metadata": {},
   "source": [
    "# Zipcode 91754: Los Angeles"
   ]
  },
  {
   "cell_type": "code",
   "execution_count": null,
   "metadata": {
    "ExecuteTime": {
     "end_time": "2021-08-06T04:23:59.604832Z",
     "start_time": "2021-08-06T04:23:59.029302Z"
    },
    "scrolled": false
   },
   "outputs": [],
   "source": [
    "plot_acf_pacf(TS_91754d,lags=20)"
   ]
  },
  {
   "cell_type": "markdown",
   "metadata": {},
   "source": [
    "The ACF and PACF have just one very strong correlation, right at 1 month."
   ]
  },
  {
   "cell_type": "code",
   "execution_count": null,
   "metadata": {
    "ExecuteTime": {
     "end_time": "2021-08-06T04:24:05.523484Z",
     "start_time": "2021-08-06T04:23:59.606863Z"
    }
   },
   "outputs": [],
   "source": [
    "results = pm.auto_arima(TS_91754d,information_criterion='aic',m=12,d=0,\n",
    "                        start_p=1,start_q=1, max_p=3, max_q=3,\n",
    "                        stepwise=True,trace=True,error_action='ignore',suppress_warnings=True)\n",
    "results"
   ]
  },
  {
   "cell_type": "code",
   "execution_count": null,
   "metadata": {
    "ExecuteTime": {
     "end_time": "2021-08-06T04:24:05.933408Z",
     "start_time": "2021-08-06T04:24:05.523484Z"
    }
   },
   "outputs": [],
   "source": [
    "pdq = (2, 0, 1)\n",
    "pdqs = (0, 0, 0, 12)\n",
    "ret_91754 = forecast_model(TS_91754,pdq=pdq,pdqs=pdqs,zc=91754)"
   ]
  },
  {
   "cell_type": "markdown",
   "metadata": {},
   "source": [
    "# Zipcode 92860: Riverside"
   ]
  },
  {
   "cell_type": "code",
   "execution_count": null,
   "metadata": {
    "ExecuteTime": {
     "end_time": "2021-08-06T04:24:06.412001Z",
     "start_time": "2021-08-06T04:24:05.933408Z"
    }
   },
   "outputs": [],
   "source": [
    "plot_acf_pacf(TS_92860d,lags=20)"
   ]
  },
  {
   "cell_type": "code",
   "execution_count": null,
   "metadata": {
    "ExecuteTime": {
     "end_time": "2021-08-06T04:24:29.474146Z",
     "start_time": "2021-08-06T04:24:06.412001Z"
    }
   },
   "outputs": [],
   "source": [
    "results = pm.auto_arima(TS_92860d,information_criterion='aic',m=12,d=0,\n",
    "                        start_p=1,start_q=1, max_p=3, max_q=3,\n",
    "                        stepwise=True,trace=True,error_action='ignore',suppress_warnings=True)\n",
    "results"
   ]
  },
  {
   "cell_type": "code",
   "execution_count": null,
   "metadata": {
    "ExecuteTime": {
     "end_time": "2021-08-06T04:24:30.311135Z",
     "start_time": "2021-08-06T04:24:29.476072Z"
    }
   },
   "outputs": [],
   "source": [
    "pdq = (2, 0, 2)\n",
    "pdqs = (0, 0, 1, 12)\n",
    "ret_92860 = forecast_model(TS_92860,pdq=pdq,pdqs=pdqs,zc=92860)"
   ]
  },
  {
   "cell_type": "markdown",
   "metadata": {},
   "source": [
    "# X Zipcode 95818: Sacramento"
   ]
  },
  {
   "cell_type": "code",
   "execution_count": null,
   "metadata": {
    "ExecuteTime": {
     "end_time": "2021-08-06T04:24:30.791968Z",
     "start_time": "2021-08-06T04:24:30.314605Z"
    }
   },
   "outputs": [],
   "source": [
    "plot_acf_pacf(TS_95818d,lags=20)"
   ]
  },
  {
   "cell_type": "code",
   "execution_count": null,
   "metadata": {
    "ExecuteTime": {
     "end_time": "2021-08-06T04:24:33.643632Z",
     "start_time": "2021-08-06T04:24:30.791968Z"
    }
   },
   "outputs": [],
   "source": [
    "results = pm.auto_arima(TS_95818d,information_criterion='aic',m=12,d=0,\n",
    "                        start_p=1,start_q=1, max_p=3, max_q=3,\n",
    "                        stepwise=True,trace=True,error_action='ignore',suppress_warnings=True)\n",
    "results"
   ]
  },
  {
   "cell_type": "code",
   "execution_count": null,
   "metadata": {
    "ExecuteTime": {
     "end_time": "2021-08-06T04:24:34.302578Z",
     "start_time": "2021-08-06T04:24:33.643632Z"
    }
   },
   "outputs": [],
   "source": [
    "pdq = (3, 0, 2)\n",
    "pdqs = (2, 0, 0, 12)\n",
    "ret_95818 = forecast_model(TS_95818,pdq=pdq,pdqs=pdqs,zc=95818)"
   ]
  },
  {
   "cell_type": "markdown",
   "metadata": {},
   "source": [
    "# X Zipcode 93003: Ventura"
   ]
  },
  {
   "cell_type": "code",
   "execution_count": null,
   "metadata": {
    "ExecuteTime": {
     "end_time": "2021-08-06T04:24:34.764111Z",
     "start_time": "2021-08-06T04:24:34.302578Z"
    }
   },
   "outputs": [],
   "source": [
    "plot_acf_pacf(TS_93003d,lags=20)"
   ]
  },
  {
   "cell_type": "code",
   "execution_count": null,
   "metadata": {
    "ExecuteTime": {
     "end_time": "2021-08-06T04:24:37.415022Z",
     "start_time": "2021-08-06T04:24:34.765717Z"
    }
   },
   "outputs": [],
   "source": [
    "results = pm.auto_arima(TS_93003d,information_criterion='aic',m=12,d=0,\n",
    "                        start_p=1,start_q=1, max_p=3, max_q=3,\n",
    "                        stepwise=True,trace=True,error_action='ignore',suppress_warnings=True)\n",
    "results"
   ]
  },
  {
   "cell_type": "code",
   "execution_count": null,
   "metadata": {
    "ExecuteTime": {
     "end_time": "2021-08-06T04:24:37.889277Z",
     "start_time": "2021-08-06T04:24:37.416445Z"
    }
   },
   "outputs": [],
   "source": [
    "pdq = (0, 0, 1)\n",
    "pdqs = (0, 0, 0, 12)\n",
    "ret_93003 = forecast_model(TS_93003,pdq=pdq,pdqs=pdqs,zc=93003)"
   ]
  },
  {
   "cell_type": "markdown",
   "metadata": {},
   "source": [
    "## Conclusion and Recommendation\n"
   ]
  },
  {
   "cell_type": "markdown",
   "metadata": {},
   "source": [
    "For the Real estate looking to immediately invest in the following zipcodes, here are the recommendations on the budget worth of a home and whether it is advisable to buy ,flip and sell the house, or buy and hold.\n",
    "\n",
    "\n",
    "**Zip code 92866 (LA- Long Beach county):** Buy, Flip and sell homes within a year. (Budget of $584,000)\n",
    "\n",
    "                                \n",
    "                            Total expected return in 1 year: 2.5%\n",
    "                            Total expected return in 3 years: 2.67%\n",
    "                            Total expected return in 5 year: 2.67%\n",
    "                            Total expected return in 10 years: 2.67%\n",
    "                                \n",
    "                                \n",
    "**Zip code 93405 (San Luis Obispo):** Buy and hold for the next 5-10 years. (Budget of $642,000)\n",
    "\n",
    "                                  Total expected return in 1 year: 8.1%\n",
    "                                  Total expected return in 3 years: 12.39%          \n",
    "                                  Total expected return in 5 year: 13.0%\n",
    "                                  Total expected return in 10 years: 13.13% \n",
    "                                  \n",
    "                                  \n",
    "**Zip code 92101 (San Diego county):** Buy and hold for the next 3-5 years. (Budget of $552,000)\n",
    "\n",
    "                                   Total expected return in 1 year: 10.47%\n",
    "                                   Total expected return in 3 years: 14.06%\n",
    "                                   Total expected return in 5 year: 14.27%\n",
    "                                   Total expected return in 10 years: 14.27%\n",
    "\n",
    "                            \n",
    "**Zip code 92860 (Riverside County):** Buy, flip and sell within a year. (Budget of $439,000)\n",
    "\n",
    "                            Total expected return in 1 year: 7.43%\n",
    "                            Total expected return in 3 years: 11.23%\n",
    "                            Total expected return in 5 year: 11.82%\n",
    "                            Total expected return in 10 years: 11.93%\n",
    "\n",
    "**Zip code 91754 (Los Angeles):** Buy and hold for atleast 10years. (Budget of $587,000)\n",
    "\n",
    "                            Total expected return in 1 year: 2.6%\n",
    "                            Total expected return in 3 years: 4.72%\n",
    "                            Total expected return in 5 year: 5.32%\n",
    "                            Total expected return in 10 years: 5.54%\n",
    "\n",
    "       \n",
    "\n"
   ]
  },
  {
   "cell_type": "markdown",
   "metadata": {},
   "source": [
    "## Further study"
   ]
  },
  {
   "cell_type": "markdown",
   "metadata": {},
   "source": [
    "- The model is unable to correctly adjust to unique events such as exogenous data. Interest rates, rent values and GDP would be important factors to explore the relationship they would have with the home values. Rent income should exceed the costs of maintenance, mortgage, insurance, taxes and other expenses. Any gains that may be realized from selling the property later should also be factored into the calculation.\n",
    "\n",
    "\n",
    "- Model would be more effective with more recent years data and considering the impact of recent events on Real Estate investment."
   ]
  },
  {
   "cell_type": "code",
   "execution_count": 4,
   "metadata": {
    "ExecuteTime": {
     "end_time": "2021-08-06T06:20:04.516864Z",
     "start_time": "2021-08-06T06:20:04.492692Z"
    }
   },
   "outputs": [
    {
     "data": {
      "text/html": [
       "<div>\n",
       "<style scoped>\n",
       "    .dataframe tbody tr th:only-of-type {\n",
       "        vertical-align: middle;\n",
       "    }\n",
       "\n",
       "    .dataframe tbody tr th {\n",
       "        vertical-align: top;\n",
       "    }\n",
       "\n",
       "    .dataframe thead th {\n",
       "        text-align: right;\n",
       "    }\n",
       "</style>\n",
       "<table border=\"1\" class=\"dataframe\">\n",
       "  <thead>\n",
       "    <tr style=\"text-align: right;\">\n",
       "      <th></th>\n",
       "      <th>lon</th>\n",
       "      <th>lat</th>\n",
       "      <th>name</th>\n",
       "      <th>value</th>\n",
       "    </tr>\n",
       "  </thead>\n",
       "  <tbody>\n",
       "    <tr>\n",
       "      <th>0</th>\n",
       "      <td>-120.6423</td>\n",
       "      <td>39.1308</td>\n",
       "      <td>Placer county</td>\n",
       "      <td>583638</td>\n",
       "    </tr>\n",
       "    <tr>\n",
       "      <th>1</th>\n",
       "      <td>-120.6636</td>\n",
       "      <td>35.2715</td>\n",
       "      <td>San Luis Obispo</td>\n",
       "      <td>641957</td>\n",
       "    </tr>\n",
       "    <tr>\n",
       "      <th>2</th>\n",
       "      <td>-117.0262</td>\n",
       "      <td>32.5655</td>\n",
       "      <td>San Diego</td>\n",
       "      <td>551370</td>\n",
       "    </tr>\n",
       "    <tr>\n",
       "      <th>3</th>\n",
       "      <td>-116.0358</td>\n",
       "      <td>33.7326</td>\n",
       "      <td>Riverside</td>\n",
       "      <td>439238</td>\n",
       "    </tr>\n",
       "    <tr>\n",
       "      <th>4</th>\n",
       "      <td>-118.2371</td>\n",
       "      <td>34.1381</td>\n",
       "      <td>Los Angeles</td>\n",
       "      <td>587200</td>\n",
       "    </tr>\n",
       "  </tbody>\n",
       "</table>\n",
       "</div>"
      ],
      "text/plain": [
       "         lon      lat             name   value\n",
       "0  -120.6423  39.1308    Placer county  583638\n",
       "1  -120.6636  35.2715  San Luis Obispo  641957\n",
       "2  -117.0262  32.5655        San Diego  551370\n",
       "3  -116.0358  33.7326        Riverside  439238\n",
       "4  -118.2371  34.1381      Los Angeles  587200"
      ]
     },
     "execution_count": 4,
     "metadata": {},
     "output_type": "execute_result"
    }
   ],
   "source": [
    "# Import the pandas library\n",
    "import pandas as pd\n",
    "\n",
    "# Make an empty map\n",
    "m = folium.Map(location=[36,-120], tiles=\"OpenStreetMap\", zoom_start=6)\n",
    "\n",
    "# Show the map\n",
    "m\n",
    "\n",
    "# Make a data frame with dots to show on the map\n",
    "data = pd.DataFrame({\n",
    "   'lon':[-120.6423, -120.6636, -117.0262, -116.0358, -118.2371],\n",
    "   'lat':[39.1308, 35.2715, 32.5655, 33.7326, 34.1381],\n",
    "   'name':['Placer county', 'San Luis Obispo', 'San Diego', ' Riverside', 'Los Angeles'],\n",
    "   'value':[583638, 641957, 551370, 439238, 587200]\n",
    "}, dtype=str)\n",
    "\n",
    "data"
   ]
  },
  {
   "cell_type": "code",
   "execution_count": 5,
   "metadata": {
    "ExecuteTime": {
     "end_time": "2021-08-06T06:20:05.417340Z",
     "start_time": "2021-08-06T06:20:05.398148Z"
    }
   },
   "outputs": [
    {
     "data": {
      "text/html": [
       "<div style=\"width:100%;\"><div style=\"position:relative;width:100%;height:0;padding-bottom:60%;\"><span style=\"color:#565656\">Make this Notebook Trusted to load map: File -> Trust Notebook</span><iframe src=\"about:blank\" style=\"position:absolute;width:100%;height:100%;left:0;top:0;border:none !important;\" data-html=%3C%21DOCTYPE%20html%3E%0A%3Chead%3E%20%20%20%20%0A%20%20%20%20%3Cmeta%20http-equiv%3D%22content-type%22%20content%3D%22text/html%3B%20charset%3DUTF-8%22%20/%3E%0A%20%20%20%20%0A%20%20%20%20%20%20%20%20%3Cscript%3E%0A%20%20%20%20%20%20%20%20%20%20%20%20L_NO_TOUCH%20%3D%20false%3B%0A%20%20%20%20%20%20%20%20%20%20%20%20L_DISABLE_3D%20%3D%20false%3B%0A%20%20%20%20%20%20%20%20%3C/script%3E%0A%20%20%20%20%0A%20%20%20%20%3Cstyle%3Ehtml%2C%20body%20%7Bwidth%3A%20100%25%3Bheight%3A%20100%25%3Bmargin%3A%200%3Bpadding%3A%200%3B%7D%3C/style%3E%0A%20%20%20%20%3Cstyle%3E%23map%20%7Bposition%3Aabsolute%3Btop%3A0%3Bbottom%3A0%3Bright%3A0%3Bleft%3A0%3B%7D%3C/style%3E%0A%20%20%20%20%3Cscript%20src%3D%22https%3A//cdn.jsdelivr.net/npm/leaflet%401.6.0/dist/leaflet.js%22%3E%3C/script%3E%0A%20%20%20%20%3Cscript%20src%3D%22https%3A//code.jquery.com/jquery-1.12.4.min.js%22%3E%3C/script%3E%0A%20%20%20%20%3Cscript%20src%3D%22https%3A//maxcdn.bootstrapcdn.com/bootstrap/3.2.0/js/bootstrap.min.js%22%3E%3C/script%3E%0A%20%20%20%20%3Cscript%20src%3D%22https%3A//cdnjs.cloudflare.com/ajax/libs/Leaflet.awesome-markers/2.0.2/leaflet.awesome-markers.js%22%3E%3C/script%3E%0A%20%20%20%20%3Clink%20rel%3D%22stylesheet%22%20href%3D%22https%3A//cdn.jsdelivr.net/npm/leaflet%401.6.0/dist/leaflet.css%22/%3E%0A%20%20%20%20%3Clink%20rel%3D%22stylesheet%22%20href%3D%22https%3A//maxcdn.bootstrapcdn.com/bootstrap/3.2.0/css/bootstrap.min.css%22/%3E%0A%20%20%20%20%3Clink%20rel%3D%22stylesheet%22%20href%3D%22https%3A//maxcdn.bootstrapcdn.com/bootstrap/3.2.0/css/bootstrap-theme.min.css%22/%3E%0A%20%20%20%20%3Clink%20rel%3D%22stylesheet%22%20href%3D%22https%3A//maxcdn.bootstrapcdn.com/font-awesome/4.6.3/css/font-awesome.min.css%22/%3E%0A%20%20%20%20%3Clink%20rel%3D%22stylesheet%22%20href%3D%22https%3A//cdnjs.cloudflare.com/ajax/libs/Leaflet.awesome-markers/2.0.2/leaflet.awesome-markers.css%22/%3E%0A%20%20%20%20%3Clink%20rel%3D%22stylesheet%22%20href%3D%22https%3A//cdn.jsdelivr.net/gh/python-visualization/folium/folium/templates/leaflet.awesome.rotate.min.css%22/%3E%0A%20%20%20%20%0A%20%20%20%20%20%20%20%20%20%20%20%20%3Cmeta%20name%3D%22viewport%22%20content%3D%22width%3Ddevice-width%2C%0A%20%20%20%20%20%20%20%20%20%20%20%20%20%20%20%20initial-scale%3D1.0%2C%20maximum-scale%3D1.0%2C%20user-scalable%3Dno%22%20/%3E%0A%20%20%20%20%20%20%20%20%20%20%20%20%3Cstyle%3E%0A%20%20%20%20%20%20%20%20%20%20%20%20%20%20%20%20%23map_c11383907f4848c1bf976ff16a157c63%20%7B%0A%20%20%20%20%20%20%20%20%20%20%20%20%20%20%20%20%20%20%20%20position%3A%20relative%3B%0A%20%20%20%20%20%20%20%20%20%20%20%20%20%20%20%20%20%20%20%20width%3A%20100.0%25%3B%0A%20%20%20%20%20%20%20%20%20%20%20%20%20%20%20%20%20%20%20%20height%3A%20100.0%25%3B%0A%20%20%20%20%20%20%20%20%20%20%20%20%20%20%20%20%20%20%20%20left%3A%200.0%25%3B%0A%20%20%20%20%20%20%20%20%20%20%20%20%20%20%20%20%20%20%20%20top%3A%200.0%25%3B%0A%20%20%20%20%20%20%20%20%20%20%20%20%20%20%20%20%7D%0A%20%20%20%20%20%20%20%20%20%20%20%20%3C/style%3E%0A%20%20%20%20%20%20%20%20%0A%3C/head%3E%0A%3Cbody%3E%20%20%20%20%0A%20%20%20%20%0A%20%20%20%20%20%20%20%20%20%20%20%20%3Cdiv%20class%3D%22folium-map%22%20id%3D%22map_c11383907f4848c1bf976ff16a157c63%22%20%3E%3C/div%3E%0A%20%20%20%20%20%20%20%20%0A%3C/body%3E%0A%3Cscript%3E%20%20%20%20%0A%20%20%20%20%0A%20%20%20%20%20%20%20%20%20%20%20%20var%20map_c11383907f4848c1bf976ff16a157c63%20%3D%20L.map%28%0A%20%20%20%20%20%20%20%20%20%20%20%20%20%20%20%20%22map_c11383907f4848c1bf976ff16a157c63%22%2C%0A%20%20%20%20%20%20%20%20%20%20%20%20%20%20%20%20%7B%0A%20%20%20%20%20%20%20%20%20%20%20%20%20%20%20%20%20%20%20%20center%3A%20%5B36.0%2C%20-120.0%5D%2C%0A%20%20%20%20%20%20%20%20%20%20%20%20%20%20%20%20%20%20%20%20crs%3A%20L.CRS.EPSG3857%2C%0A%20%20%20%20%20%20%20%20%20%20%20%20%20%20%20%20%20%20%20%20zoom%3A%206%2C%0A%20%20%20%20%20%20%20%20%20%20%20%20%20%20%20%20%20%20%20%20zoomControl%3A%20true%2C%0A%20%20%20%20%20%20%20%20%20%20%20%20%20%20%20%20%20%20%20%20preferCanvas%3A%20false%2C%0A%20%20%20%20%20%20%20%20%20%20%20%20%20%20%20%20%7D%0A%20%20%20%20%20%20%20%20%20%20%20%20%29%3B%0A%0A%20%20%20%20%20%20%20%20%20%20%20%20%0A%0A%20%20%20%20%20%20%20%20%0A%20%20%20%20%0A%20%20%20%20%20%20%20%20%20%20%20%20var%20tile_layer_60bedb9469dc4ee182400625846f29f8%20%3D%20L.tileLayer%28%0A%20%20%20%20%20%20%20%20%20%20%20%20%20%20%20%20%22https%3A//%7Bs%7D.tile.openstreetmap.org/%7Bz%7D/%7Bx%7D/%7By%7D.png%22%2C%0A%20%20%20%20%20%20%20%20%20%20%20%20%20%20%20%20%7B%22attribution%22%3A%20%22Data%20by%20%5Cu0026copy%3B%20%5Cu003ca%20href%3D%5C%22http%3A//openstreetmap.org%5C%22%5Cu003eOpenStreetMap%5Cu003c/a%5Cu003e%2C%20under%20%5Cu003ca%20href%3D%5C%22http%3A//www.openstreetmap.org/copyright%5C%22%5Cu003eODbL%5Cu003c/a%5Cu003e.%22%2C%20%22detectRetina%22%3A%20false%2C%20%22maxNativeZoom%22%3A%2018%2C%20%22maxZoom%22%3A%2018%2C%20%22minZoom%22%3A%200%2C%20%22noWrap%22%3A%20false%2C%20%22opacity%22%3A%201%2C%20%22subdomains%22%3A%20%22abc%22%2C%20%22tms%22%3A%20false%7D%0A%20%20%20%20%20%20%20%20%20%20%20%20%29.addTo%28map_c11383907f4848c1bf976ff16a157c63%29%3B%0A%20%20%20%20%20%20%20%20%0A%20%20%20%20%0A%20%20%20%20%20%20%20%20%20%20%20%20var%20marker_c4bc995b93414c32aa68e5a7a774a659%20%3D%20L.marker%28%0A%20%20%20%20%20%20%20%20%20%20%20%20%20%20%20%20%5B39.1308%2C%20-120.6423%5D%2C%0A%20%20%20%20%20%20%20%20%20%20%20%20%20%20%20%20%7B%7D%0A%20%20%20%20%20%20%20%20%20%20%20%20%29.addTo%28map_c11383907f4848c1bf976ff16a157c63%29%3B%0A%20%20%20%20%20%20%20%20%0A%20%20%20%20%0A%20%20%20%20%20%20%20%20var%20popup_6189cbb637ee444da7bfdc7bd266b17b%20%3D%20L.popup%28%7B%22autoClose%22%3A%20false%2C%20%22maxWidth%22%3A%20%22100%25%22%7D%29%3B%0A%0A%20%20%20%20%20%20%20%20%0A%20%20%20%20%20%20%20%20%20%20%20%20var%20html_351f722d785a4d1481028a77a0ffd315%20%3D%20%24%28%60%3Cdiv%20id%3D%22html_351f722d785a4d1481028a77a0ffd315%22%20style%3D%22width%3A%20100.0%25%3B%20height%3A%20100.0%25%3B%22%3EPlacer%20county%3C/div%3E%60%29%5B0%5D%3B%0A%20%20%20%20%20%20%20%20%20%20%20%20popup_6189cbb637ee444da7bfdc7bd266b17b.setContent%28html_351f722d785a4d1481028a77a0ffd315%29%3B%0A%20%20%20%20%20%20%20%20%0A%0A%20%20%20%20%20%20%20%20marker_c4bc995b93414c32aa68e5a7a774a659.bindPopup%28popup_6189cbb637ee444da7bfdc7bd266b17b%29%0A%20%20%20%20%20%20%20%20.openPopup%28%29%3B%0A%0A%20%20%20%20%20%20%20%20%0A%20%20%20%20%0A%20%20%20%20%0A%20%20%20%20%20%20%20%20%20%20%20%20var%20marker_86d1330d50a745b1af7078aedeaf6fcf%20%3D%20L.marker%28%0A%20%20%20%20%20%20%20%20%20%20%20%20%20%20%20%20%5B35.2715%2C%20-120.6636%5D%2C%0A%20%20%20%20%20%20%20%20%20%20%20%20%20%20%20%20%7B%7D%0A%20%20%20%20%20%20%20%20%20%20%20%20%29.addTo%28map_c11383907f4848c1bf976ff16a157c63%29%3B%0A%20%20%20%20%20%20%20%20%0A%20%20%20%20%0A%20%20%20%20%20%20%20%20var%20popup_1391a028156146abb4b08f92677868fa%20%3D%20L.popup%28%7B%22autoClose%22%3A%20false%2C%20%22maxWidth%22%3A%20%22100%25%22%7D%29%3B%0A%0A%20%20%20%20%20%20%20%20%0A%20%20%20%20%20%20%20%20%20%20%20%20var%20html_5d5e53d5f591493d9ef0009d54f0e779%20%3D%20%24%28%60%3Cdiv%20id%3D%22html_5d5e53d5f591493d9ef0009d54f0e779%22%20style%3D%22width%3A%20100.0%25%3B%20height%3A%20100.0%25%3B%22%3ESan%20Luis%20Obispo%3C/div%3E%60%29%5B0%5D%3B%0A%20%20%20%20%20%20%20%20%20%20%20%20popup_1391a028156146abb4b08f92677868fa.setContent%28html_5d5e53d5f591493d9ef0009d54f0e779%29%3B%0A%20%20%20%20%20%20%20%20%0A%0A%20%20%20%20%20%20%20%20marker_86d1330d50a745b1af7078aedeaf6fcf.bindPopup%28popup_1391a028156146abb4b08f92677868fa%29%0A%20%20%20%20%20%20%20%20.openPopup%28%29%3B%0A%0A%20%20%20%20%20%20%20%20%0A%20%20%20%20%0A%20%20%20%20%0A%20%20%20%20%20%20%20%20%20%20%20%20var%20marker_135731acc59f4c61b0d5812fb9da2fe0%20%3D%20L.marker%28%0A%20%20%20%20%20%20%20%20%20%20%20%20%20%20%20%20%5B32.5655%2C%20-117.0262%5D%2C%0A%20%20%20%20%20%20%20%20%20%20%20%20%20%20%20%20%7B%7D%0A%20%20%20%20%20%20%20%20%20%20%20%20%29.addTo%28map_c11383907f4848c1bf976ff16a157c63%29%3B%0A%20%20%20%20%20%20%20%20%0A%20%20%20%20%0A%20%20%20%20%20%20%20%20var%20popup_5e108988007d44258eab956ef1c4484b%20%3D%20L.popup%28%7B%22autoClose%22%3A%20false%2C%20%22maxWidth%22%3A%20%22100%25%22%7D%29%3B%0A%0A%20%20%20%20%20%20%20%20%0A%20%20%20%20%20%20%20%20%20%20%20%20var%20html_4ac134414d5d4c92935fb7e685559a4e%20%3D%20%24%28%60%3Cdiv%20id%3D%22html_4ac134414d5d4c92935fb7e685559a4e%22%20style%3D%22width%3A%20100.0%25%3B%20height%3A%20100.0%25%3B%22%3ESan%20Diego%3C/div%3E%60%29%5B0%5D%3B%0A%20%20%20%20%20%20%20%20%20%20%20%20popup_5e108988007d44258eab956ef1c4484b.setContent%28html_4ac134414d5d4c92935fb7e685559a4e%29%3B%0A%20%20%20%20%20%20%20%20%0A%0A%20%20%20%20%20%20%20%20marker_135731acc59f4c61b0d5812fb9da2fe0.bindPopup%28popup_5e108988007d44258eab956ef1c4484b%29%0A%20%20%20%20%20%20%20%20.openPopup%28%29%3B%0A%0A%20%20%20%20%20%20%20%20%0A%20%20%20%20%0A%20%20%20%20%0A%20%20%20%20%20%20%20%20%20%20%20%20var%20marker_7a484e022aaf42cdbedf57bfa5782b35%20%3D%20L.marker%28%0A%20%20%20%20%20%20%20%20%20%20%20%20%20%20%20%20%5B33.7326%2C%20-116.0358%5D%2C%0A%20%20%20%20%20%20%20%20%20%20%20%20%20%20%20%20%7B%7D%0A%20%20%20%20%20%20%20%20%20%20%20%20%29.addTo%28map_c11383907f4848c1bf976ff16a157c63%29%3B%0A%20%20%20%20%20%20%20%20%0A%20%20%20%20%0A%20%20%20%20%20%20%20%20var%20popup_ff242f06cf154b3c8de5e3b3f8f1611c%20%3D%20L.popup%28%7B%22autoClose%22%3A%20false%2C%20%22maxWidth%22%3A%20%22100%25%22%7D%29%3B%0A%0A%20%20%20%20%20%20%20%20%0A%20%20%20%20%20%20%20%20%20%20%20%20var%20html_99d03fcb30a84006a46d41fd27e500e0%20%3D%20%24%28%60%3Cdiv%20id%3D%22html_99d03fcb30a84006a46d41fd27e500e0%22%20style%3D%22width%3A%20100.0%25%3B%20height%3A%20100.0%25%3B%22%3E%20Riverside%3C/div%3E%60%29%5B0%5D%3B%0A%20%20%20%20%20%20%20%20%20%20%20%20popup_ff242f06cf154b3c8de5e3b3f8f1611c.setContent%28html_99d03fcb30a84006a46d41fd27e500e0%29%3B%0A%20%20%20%20%20%20%20%20%0A%0A%20%20%20%20%20%20%20%20marker_7a484e022aaf42cdbedf57bfa5782b35.bindPopup%28popup_ff242f06cf154b3c8de5e3b3f8f1611c%29%0A%20%20%20%20%20%20%20%20.openPopup%28%29%3B%0A%0A%20%20%20%20%20%20%20%20%0A%20%20%20%20%0A%20%20%20%20%0A%20%20%20%20%20%20%20%20%20%20%20%20var%20marker_85d697071ec44317bd80763077cf5fe8%20%3D%20L.marker%28%0A%20%20%20%20%20%20%20%20%20%20%20%20%20%20%20%20%5B34.1381%2C%20-118.2371%5D%2C%0A%20%20%20%20%20%20%20%20%20%20%20%20%20%20%20%20%7B%7D%0A%20%20%20%20%20%20%20%20%20%20%20%20%29.addTo%28map_c11383907f4848c1bf976ff16a157c63%29%3B%0A%20%20%20%20%20%20%20%20%0A%20%20%20%20%0A%20%20%20%20%20%20%20%20var%20popup_c7c84a8986a448f39035cea0d385246d%20%3D%20L.popup%28%7B%22autoClose%22%3A%20false%2C%20%22maxWidth%22%3A%20%22100%25%22%7D%29%3B%0A%0A%20%20%20%20%20%20%20%20%0A%20%20%20%20%20%20%20%20%20%20%20%20var%20html_855d7b6dabae411aaf985603555c97f6%20%3D%20%24%28%60%3Cdiv%20id%3D%22html_855d7b6dabae411aaf985603555c97f6%22%20style%3D%22width%3A%20100.0%25%3B%20height%3A%20100.0%25%3B%22%3ELos%20Angeles%3C/div%3E%60%29%5B0%5D%3B%0A%20%20%20%20%20%20%20%20%20%20%20%20popup_c7c84a8986a448f39035cea0d385246d.setContent%28html_855d7b6dabae411aaf985603555c97f6%29%3B%0A%20%20%20%20%20%20%20%20%0A%0A%20%20%20%20%20%20%20%20marker_85d697071ec44317bd80763077cf5fe8.bindPopup%28popup_c7c84a8986a448f39035cea0d385246d%29%0A%20%20%20%20%20%20%20%20.openPopup%28%29%3B%0A%0A%20%20%20%20%20%20%20%20%0A%20%20%20%20%0A%3C/script%3E onload=\"this.contentDocument.open();this.contentDocument.write(    decodeURIComponent(this.getAttribute('data-html')));this.contentDocument.close();\" allowfullscreen webkitallowfullscreen mozallowfullscreen></iframe></div></div>"
      ],
      "text/plain": [
       "<folium.folium.Map at 0x1f859f239d0>"
      ]
     },
     "execution_count": 5,
     "metadata": {},
     "output_type": "execute_result"
    }
   ],
   "source": [
    "for i in range(0,len(data)):\n",
    "    folium.Marker(location=[data.iloc[i]['lat'], data.iloc[i]['lon']],\n",
    "     popup=folium.Popup(data.iloc[i]['name'], show=True),\n",
    "   ).add_to(m)\n",
    "    \n",
    "m\n"
   ]
  },
  {
   "cell_type": "code",
   "execution_count": null,
   "metadata": {},
   "outputs": [],
   "source": []
  }
 ],
 "metadata": {
  "kernelspec": {
   "display_name": "Python 3",
   "language": "python",
   "name": "python3"
  },
  "language_info": {
   "codemirror_mode": {
    "name": "ipython",
    "version": 3
   },
   "file_extension": ".py",
   "mimetype": "text/x-python",
   "name": "python",
   "nbconvert_exporter": "python",
   "pygments_lexer": "ipython3",
   "version": "3.8.5"
  },
  "toc": {
   "base_numbering": 1,
   "nav_menu": {},
   "number_sections": true,
   "sideBar": true,
   "skip_h1_title": false,
   "title_cell": "Table of Contents",
   "title_sidebar": "Contents",
   "toc_cell": false,
   "toc_position": {
    "height": "calc(100% - 180px)",
    "left": "10px",
    "top": "150px",
    "width": "303.825px"
   },
   "toc_section_display": true,
   "toc_window_display": false
  },
  "varInspector": {
   "cols": {
    "lenName": 16,
    "lenType": 16,
    "lenVar": 40
   },
   "kernels_config": {
    "python": {
     "delete_cmd_postfix": "",
     "delete_cmd_prefix": "del ",
     "library": "var_list.py",
     "varRefreshCmd": "print(var_dic_list())"
    },
    "r": {
     "delete_cmd_postfix": ") ",
     "delete_cmd_prefix": "rm(",
     "library": "var_list.r",
     "varRefreshCmd": "cat(var_dic_list()) "
    }
   },
   "types_to_exclude": [
    "module",
    "function",
    "builtin_function_or_method",
    "instance",
    "_Feature"
   ],
   "window_display": false
  }
 },
 "nbformat": 4,
 "nbformat_minor": 2
}
