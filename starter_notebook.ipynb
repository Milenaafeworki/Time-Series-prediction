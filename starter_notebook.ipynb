{
 "cells": [
  {
   "cell_type": "markdown",
   "metadata": {},
   "source": [
    "# Mod 4 Project - Starter Notebook\n",
    "\n",
    "This notebook has been provided to you so that you can make use of the following starter code to help with the trickier parts of preprocessing the Zillow dataset. \n",
    "\n",
    "The notebook contains a rough outline the general order you'll likely want to take in this project. You'll notice that most of the areas are left blank. This is so that it's more obvious exactly when you should make use of the starter code provided for preprocessing. \n",
    "\n",
    "**_NOTE:_** The number of empty cells are not meant to infer how much or how little code should be involved in any given step--we've just provided a few for your convenience. Add, delete, and change things around in this notebook as needed!\n",
    "\n",
    "# Some Notes Before Starting\n",
    "\n",
    "This project will be one of the more challenging projects you complete in this program. This is because working with Time Series data is a bit different than working with regular datasets. In order to make this a bit less frustrating and help you understand what you need to do (and when you need to do it), we'll quickly review the dataset formats that you'll encounter in this project. \n",
    "\n",
    "## Wide Format vs Long Format\n",
    "\n",
    "If you take a look at the format of the data in `zillow_data.csv`, you'll notice that the actual Time Series values are stored as separate columns. Here's a sample: \n",
    "\n",
    "<img src='https://raw.githubusercontent.com/learn-co-students/dsc-mod-4-project-seattle-ds-102819/master/images/df_head.png'>\n",
    "\n",
    "You'll notice that the first seven columns look like any other dataset you're used to working with. However, column 8 refers to the median housing sales values for April 1996, column 9 for May 1996, and so on. This This is called **_Wide Format_**, and it makes the dataframe intuitive and easy to read. However, there are problems with this format when it comes to actually learning from the data, because the data only makes sense if you know the name of the column that the data can be found it. Since column names are metadata, our algorithms will miss out on what dates each value is for. This means that before we pass this data to our ARIMA model, we'll need to reshape our dataset to **_Long Format_**. Reshaped into long format, the dataframe above would now look like:\n",
    "\n",
    "<img src='https://raw.githubusercontent.com/learn-co-students/dsc-mod-4-project-seattle-ds-102819/master/images/melted1.png'>\n",
    "\n",
    "There are now many more rows in this dataset--one for each unique time and zipcode combination in the data! Once our dataset is in this format, we'll be able to train an ARIMA model on it. The method used to convert from Wide to Long is `pd.melt()`, and it is common to refer to our dataset as 'melted' after the transition to denote that it is in long format. \n",
    "\n",
    "# Helper Functions Provided\n",
    "\n",
    "Melting a dataset can be tricky if you've never done it before, so you'll see that we have provided a sample function, `melt_data()`, to help you with this step below. Also provided is:\n",
    "\n",
    "* `get_datetimes()`, a function to deal with converting the column values for datetimes as a pandas series of datetime objects\n",
    "* Some good parameters for matplotlib to help make your visualizations more readable. \n",
    "\n",
    "Good luck!\n",
    "\n",
    "\n",
    "# Step 1: Load the Data/Filtering for Chosen Zipcodes"
   ]
  },
  {
   "cell_type": "code",
   "execution_count": 1,
   "metadata": {
    "ExecuteTime": {
     "end_time": "2021-07-30T17:55:34.391088Z",
     "start_time": "2021-07-30T17:55:32.381518Z"
    }
   },
   "outputs": [],
   "source": [
    "#Import libraries\n",
    "import numpy as np\n",
    "import pandas as pd\n",
    "import matplotlib as mpl\n",
    "from matplotlib import pyplot as plt\n",
    "from scipy import stats\n",
    "from random import gauss as gs\n",
    "import datetime\n",
    "from sklearn.linear_model import LinearRegression\n",
    "from sklearn.metrics import mean_squared_error as MSE, r2_score\n",
    "from math import sqrt\n",
    "import statsmodels.api as sm\n",
    "from statsmodels.tsa.arima_model import ARMA\n",
    "from statsmodels.tsa.stattools import adfuller, acf, pacf\n",
    "from statsmodels.graphics.tsaplots import plot_acf,plot_pacf\n",
    "from pandas.plotting import autocorrelation_plot, lag_plot\n",
    "from statsmodels.tsa.seasonal import seasonal_decompose\n",
    "from statsmodels.tsa.statespace.sarimax import SARIMAX\n",
    "from pandas.plotting import register_matplotlib_converters\n",
    "register_matplotlib_converters()\n",
    "from statsmodels.graphics.tsaplots import plot_acf, plot_pacf\n",
    "import warnings\n",
    "warnings.filterwarnings('ignore')\n",
    "import pmdarima as pm\n",
    "from pmdarima import auto_arima\n",
    "from matplotlib.pylab import rcParams\n",
    "%matplotlib inline\n",
    "plt.style.use('ggplot')"
   ]
  },
  {
   "cell_type": "code",
   "execution_count": 2,
   "metadata": {
    "ExecuteTime": {
     "end_time": "2021-07-30T17:55:34.847224Z",
     "start_time": "2021-07-30T17:55:34.391088Z"
    }
   },
   "outputs": [
    {
     "data": {
      "text/html": [
       "<div>\n",
       "<style scoped>\n",
       "    .dataframe tbody tr th:only-of-type {\n",
       "        vertical-align: middle;\n",
       "    }\n",
       "\n",
       "    .dataframe tbody tr th {\n",
       "        vertical-align: top;\n",
       "    }\n",
       "\n",
       "    .dataframe thead th {\n",
       "        text-align: right;\n",
       "    }\n",
       "</style>\n",
       "<table border=\"1\" class=\"dataframe\">\n",
       "  <thead>\n",
       "    <tr style=\"text-align: right;\">\n",
       "      <th></th>\n",
       "      <th>RegionID</th>\n",
       "      <th>RegionName</th>\n",
       "      <th>City</th>\n",
       "      <th>State</th>\n",
       "      <th>Metro</th>\n",
       "      <th>CountyName</th>\n",
       "      <th>SizeRank</th>\n",
       "      <th>1996-04</th>\n",
       "      <th>1996-05</th>\n",
       "      <th>1996-06</th>\n",
       "      <th>...</th>\n",
       "      <th>2017-07</th>\n",
       "      <th>2017-08</th>\n",
       "      <th>2017-09</th>\n",
       "      <th>2017-10</th>\n",
       "      <th>2017-11</th>\n",
       "      <th>2017-12</th>\n",
       "      <th>2018-01</th>\n",
       "      <th>2018-02</th>\n",
       "      <th>2018-03</th>\n",
       "      <th>2018-04</th>\n",
       "    </tr>\n",
       "  </thead>\n",
       "  <tbody>\n",
       "    <tr>\n",
       "      <th>0</th>\n",
       "      <td>84654</td>\n",
       "      <td>60657</td>\n",
       "      <td>Chicago</td>\n",
       "      <td>IL</td>\n",
       "      <td>Chicago</td>\n",
       "      <td>Cook</td>\n",
       "      <td>1</td>\n",
       "      <td>334200.0</td>\n",
       "      <td>335400.0</td>\n",
       "      <td>336500.0</td>\n",
       "      <td>...</td>\n",
       "      <td>1005500</td>\n",
       "      <td>1007500</td>\n",
       "      <td>1007800</td>\n",
       "      <td>1009600</td>\n",
       "      <td>1013300</td>\n",
       "      <td>1018700</td>\n",
       "      <td>1024400</td>\n",
       "      <td>1030700</td>\n",
       "      <td>1033800</td>\n",
       "      <td>1030600</td>\n",
       "    </tr>\n",
       "    <tr>\n",
       "      <th>1</th>\n",
       "      <td>90668</td>\n",
       "      <td>75070</td>\n",
       "      <td>McKinney</td>\n",
       "      <td>TX</td>\n",
       "      <td>Dallas-Fort Worth</td>\n",
       "      <td>Collin</td>\n",
       "      <td>2</td>\n",
       "      <td>235700.0</td>\n",
       "      <td>236900.0</td>\n",
       "      <td>236700.0</td>\n",
       "      <td>...</td>\n",
       "      <td>308000</td>\n",
       "      <td>310000</td>\n",
       "      <td>312500</td>\n",
       "      <td>314100</td>\n",
       "      <td>315000</td>\n",
       "      <td>316600</td>\n",
       "      <td>318100</td>\n",
       "      <td>319600</td>\n",
       "      <td>321100</td>\n",
       "      <td>321800</td>\n",
       "    </tr>\n",
       "    <tr>\n",
       "      <th>2</th>\n",
       "      <td>91982</td>\n",
       "      <td>77494</td>\n",
       "      <td>Katy</td>\n",
       "      <td>TX</td>\n",
       "      <td>Houston</td>\n",
       "      <td>Harris</td>\n",
       "      <td>3</td>\n",
       "      <td>210400.0</td>\n",
       "      <td>212200.0</td>\n",
       "      <td>212200.0</td>\n",
       "      <td>...</td>\n",
       "      <td>321000</td>\n",
       "      <td>320600</td>\n",
       "      <td>320200</td>\n",
       "      <td>320400</td>\n",
       "      <td>320800</td>\n",
       "      <td>321200</td>\n",
       "      <td>321200</td>\n",
       "      <td>323000</td>\n",
       "      <td>326900</td>\n",
       "      <td>329900</td>\n",
       "    </tr>\n",
       "    <tr>\n",
       "      <th>3</th>\n",
       "      <td>84616</td>\n",
       "      <td>60614</td>\n",
       "      <td>Chicago</td>\n",
       "      <td>IL</td>\n",
       "      <td>Chicago</td>\n",
       "      <td>Cook</td>\n",
       "      <td>4</td>\n",
       "      <td>498100.0</td>\n",
       "      <td>500900.0</td>\n",
       "      <td>503100.0</td>\n",
       "      <td>...</td>\n",
       "      <td>1289800</td>\n",
       "      <td>1287700</td>\n",
       "      <td>1287400</td>\n",
       "      <td>1291500</td>\n",
       "      <td>1296600</td>\n",
       "      <td>1299000</td>\n",
       "      <td>1302700</td>\n",
       "      <td>1306400</td>\n",
       "      <td>1308500</td>\n",
       "      <td>1307000</td>\n",
       "    </tr>\n",
       "    <tr>\n",
       "      <th>4</th>\n",
       "      <td>93144</td>\n",
       "      <td>79936</td>\n",
       "      <td>El Paso</td>\n",
       "      <td>TX</td>\n",
       "      <td>El Paso</td>\n",
       "      <td>El Paso</td>\n",
       "      <td>5</td>\n",
       "      <td>77300.0</td>\n",
       "      <td>77300.0</td>\n",
       "      <td>77300.0</td>\n",
       "      <td>...</td>\n",
       "      <td>119100</td>\n",
       "      <td>119400</td>\n",
       "      <td>120000</td>\n",
       "      <td>120300</td>\n",
       "      <td>120300</td>\n",
       "      <td>120300</td>\n",
       "      <td>120300</td>\n",
       "      <td>120500</td>\n",
       "      <td>121000</td>\n",
       "      <td>121500</td>\n",
       "    </tr>\n",
       "  </tbody>\n",
       "</table>\n",
       "<p>5 rows × 272 columns</p>\n",
       "</div>"
      ],
      "text/plain": [
       "   RegionID  RegionName      City State              Metro CountyName  \\\n",
       "0     84654       60657   Chicago    IL            Chicago       Cook   \n",
       "1     90668       75070  McKinney    TX  Dallas-Fort Worth     Collin   \n",
       "2     91982       77494      Katy    TX            Houston     Harris   \n",
       "3     84616       60614   Chicago    IL            Chicago       Cook   \n",
       "4     93144       79936   El Paso    TX            El Paso    El Paso   \n",
       "\n",
       "   SizeRank   1996-04   1996-05   1996-06  ...  2017-07  2017-08  2017-09  \\\n",
       "0         1  334200.0  335400.0  336500.0  ...  1005500  1007500  1007800   \n",
       "1         2  235700.0  236900.0  236700.0  ...   308000   310000   312500   \n",
       "2         3  210400.0  212200.0  212200.0  ...   321000   320600   320200   \n",
       "3         4  498100.0  500900.0  503100.0  ...  1289800  1287700  1287400   \n",
       "4         5   77300.0   77300.0   77300.0  ...   119100   119400   120000   \n",
       "\n",
       "   2017-10  2017-11  2017-12  2018-01  2018-02  2018-03  2018-04  \n",
       "0  1009600  1013300  1018700  1024400  1030700  1033800  1030600  \n",
       "1   314100   315000   316600   318100   319600   321100   321800  \n",
       "2   320400   320800   321200   321200   323000   326900   329900  \n",
       "3  1291500  1296600  1299000  1302700  1306400  1308500  1307000  \n",
       "4   120300   120300   120300   120300   120500   121000   121500  \n",
       "\n",
       "[5 rows x 272 columns]"
      ]
     },
     "execution_count": 2,
     "metadata": {},
     "output_type": "execute_result"
    }
   ],
   "source": [
    "df = pd.read_csv('zillow_data.csv')\n",
    "df.head()"
   ]
  },
  {
   "cell_type": "code",
   "execution_count": 3,
   "metadata": {
    "ExecuteTime": {
     "end_time": "2021-07-30T17:55:34.862823Z",
     "start_time": "2021-07-30T17:55:34.852199Z"
    }
   },
   "outputs": [
    {
     "data": {
      "text/plain": [
       "(14723, 272)"
      ]
     },
     "execution_count": 3,
     "metadata": {},
     "output_type": "execute_result"
    }
   ],
   "source": [
    "df.shape"
   ]
  },
  {
   "cell_type": "markdown",
   "metadata": {},
   "source": [
    "# Step 2: Data Preprocessing"
   ]
  },
  {
   "cell_type": "code",
   "execution_count": 4,
   "metadata": {
    "ExecuteTime": {
     "end_time": "2021-07-30T17:55:34.878069Z",
     "start_time": "2021-07-30T17:55:34.865400Z"
    }
   },
   "outputs": [],
   "source": [
    "#Rename RegionName\n",
    "df.rename({'RegionName': 'ZipCode'}, axis='columns', inplace=True)"
   ]
  },
  {
   "cell_type": "code",
   "execution_count": 5,
   "metadata": {
    "ExecuteTime": {
     "end_time": "2021-07-30T17:55:34.894056Z",
     "start_time": "2021-07-30T17:55:34.881999Z"
    }
   },
   "outputs": [
    {
     "data": {
      "text/plain": [
       "51"
      ]
     },
     "execution_count": 5,
     "metadata": {},
     "output_type": "execute_result"
    }
   ],
   "source": [
    "len(df.State.unique())"
   ]
  },
  {
   "cell_type": "markdown",
   "metadata": {},
   "source": [
    "\n",
    "For this project, we will only be looking at the zip codes in California so we can drop the rest."
   ]
  },
  {
   "cell_type": "code",
   "execution_count": 6,
   "metadata": {
    "ExecuteTime": {
     "end_time": "2021-07-30T17:55:34.925369Z",
     "start_time": "2021-07-30T17:55:34.897003Z"
    }
   },
   "outputs": [
    {
     "name": "stdout",
     "output_type": "stream",
     "text": [
      "Total Zipcodes in DataFrame: 1224\n"
     ]
    }
   ],
   "source": [
    "#Delete all but CA zipcodes\n",
    "df_ca = df.loc[df['State']== 'CA'].reset_index()\n",
    "df_ca.drop(['index', 'RegionID', 'SizeRank'], axis=1, inplace=True)\n",
    "print('Total Zipcodes in DataFrame:', len(df_ca))"
   ]
  },
  {
   "cell_type": "code",
   "execution_count": 7,
   "metadata": {
    "ExecuteTime": {
     "end_time": "2021-07-30T17:55:35.351831Z",
     "start_time": "2021-07-30T17:55:34.929373Z"
    }
   },
   "outputs": [
    {
     "data": {
      "text/html": [
       "<div>\n",
       "<style scoped>\n",
       "    .dataframe tbody tr th:only-of-type {\n",
       "        vertical-align: middle;\n",
       "    }\n",
       "\n",
       "    .dataframe tbody tr th {\n",
       "        vertical-align: top;\n",
       "    }\n",
       "\n",
       "    .dataframe thead th {\n",
       "        text-align: right;\n",
       "    }\n",
       "</style>\n",
       "<table border=\"1\" class=\"dataframe\">\n",
       "  <thead>\n",
       "    <tr style=\"text-align: right;\">\n",
       "      <th></th>\n",
       "      <th>ZipCode</th>\n",
       "      <th>1996-04</th>\n",
       "      <th>1996-05</th>\n",
       "      <th>1996-06</th>\n",
       "      <th>1996-07</th>\n",
       "      <th>1996-08</th>\n",
       "      <th>1996-09</th>\n",
       "      <th>1996-10</th>\n",
       "      <th>1996-11</th>\n",
       "      <th>1996-12</th>\n",
       "      <th>...</th>\n",
       "      <th>2017-07</th>\n",
       "      <th>2017-08</th>\n",
       "      <th>2017-09</th>\n",
       "      <th>2017-10</th>\n",
       "      <th>2017-11</th>\n",
       "      <th>2017-12</th>\n",
       "      <th>2018-01</th>\n",
       "      <th>2018-02</th>\n",
       "      <th>2018-03</th>\n",
       "      <th>2018-04</th>\n",
       "    </tr>\n",
       "  </thead>\n",
       "  <tbody>\n",
       "    <tr>\n",
       "      <th>count</th>\n",
       "      <td>1224.000000</td>\n",
       "      <td>1.188000e+03</td>\n",
       "      <td>1.188000e+03</td>\n",
       "      <td>1.188000e+03</td>\n",
       "      <td>1.188000e+03</td>\n",
       "      <td>1.188000e+03</td>\n",
       "      <td>1.188000e+03</td>\n",
       "      <td>1.188000e+03</td>\n",
       "      <td>1.188000e+03</td>\n",
       "      <td>1.188000e+03</td>\n",
       "      <td>...</td>\n",
       "      <td>1.224000e+03</td>\n",
       "      <td>1.224000e+03</td>\n",
       "      <td>1.224000e+03</td>\n",
       "      <td>1.224000e+03</td>\n",
       "      <td>1.224000e+03</td>\n",
       "      <td>1.224000e+03</td>\n",
       "      <td>1.224000e+03</td>\n",
       "      <td>1.224000e+03</td>\n",
       "      <td>1.224000e+03</td>\n",
       "      <td>1.224000e+03</td>\n",
       "    </tr>\n",
       "    <tr>\n",
       "      <th>mean</th>\n",
       "      <td>93308.559641</td>\n",
       "      <td>2.002210e+05</td>\n",
       "      <td>2.001248e+05</td>\n",
       "      <td>2.000359e+05</td>\n",
       "      <td>1.999656e+05</td>\n",
       "      <td>1.999588e+05</td>\n",
       "      <td>2.000376e+05</td>\n",
       "      <td>2.002770e+05</td>\n",
       "      <td>2.006430e+05</td>\n",
       "      <td>2.013097e+05</td>\n",
       "      <td>...</td>\n",
       "      <td>6.923672e+05</td>\n",
       "      <td>6.978696e+05</td>\n",
       "      <td>7.040457e+05</td>\n",
       "      <td>7.105151e+05</td>\n",
       "      <td>7.167609e+05</td>\n",
       "      <td>7.232635e+05</td>\n",
       "      <td>7.294964e+05</td>\n",
       "      <td>7.355260e+05</td>\n",
       "      <td>7.421463e+05</td>\n",
       "      <td>7.463291e+05</td>\n",
       "    </tr>\n",
       "    <tr>\n",
       "      <th>std</th>\n",
       "      <td>1800.792540</td>\n",
       "      <td>1.260446e+05</td>\n",
       "      <td>1.265337e+05</td>\n",
       "      <td>1.270587e+05</td>\n",
       "      <td>1.276189e+05</td>\n",
       "      <td>1.282251e+05</td>\n",
       "      <td>1.289055e+05</td>\n",
       "      <td>1.297123e+05</td>\n",
       "      <td>1.306263e+05</td>\n",
       "      <td>1.318064e+05</td>\n",
       "      <td>...</td>\n",
       "      <td>6.210660e+05</td>\n",
       "      <td>6.261215e+05</td>\n",
       "      <td>6.324982e+05</td>\n",
       "      <td>6.395856e+05</td>\n",
       "      <td>6.464928e+05</td>\n",
       "      <td>6.534314e+05</td>\n",
       "      <td>6.601518e+05</td>\n",
       "      <td>6.662484e+05</td>\n",
       "      <td>6.724521e+05</td>\n",
       "      <td>6.760173e+05</td>\n",
       "    </tr>\n",
       "    <tr>\n",
       "      <th>min</th>\n",
       "      <td>90001.000000</td>\n",
       "      <td>4.440000e+04</td>\n",
       "      <td>4.390000e+04</td>\n",
       "      <td>4.350000e+04</td>\n",
       "      <td>4.290000e+04</td>\n",
       "      <td>4.240000e+04</td>\n",
       "      <td>4.180000e+04</td>\n",
       "      <td>4.120000e+04</td>\n",
       "      <td>4.070000e+04</td>\n",
       "      <td>4.040000e+04</td>\n",
       "      <td>...</td>\n",
       "      <td>5.950000e+04</td>\n",
       "      <td>6.240000e+04</td>\n",
       "      <td>6.580000e+04</td>\n",
       "      <td>6.790000e+04</td>\n",
       "      <td>6.960000e+04</td>\n",
       "      <td>7.110000e+04</td>\n",
       "      <td>7.190000e+04</td>\n",
       "      <td>7.260000e+04</td>\n",
       "      <td>7.380000e+04</td>\n",
       "      <td>7.450000e+04</td>\n",
       "    </tr>\n",
       "    <tr>\n",
       "      <th>25%</th>\n",
       "      <td>92013.250000</td>\n",
       "      <td>1.294750e+05</td>\n",
       "      <td>1.286750e+05</td>\n",
       "      <td>1.283750e+05</td>\n",
       "      <td>1.280000e+05</td>\n",
       "      <td>1.277000e+05</td>\n",
       "      <td>1.275750e+05</td>\n",
       "      <td>1.272000e+05</td>\n",
       "      <td>1.268750e+05</td>\n",
       "      <td>1.266750e+05</td>\n",
       "      <td>...</td>\n",
       "      <td>3.281750e+05</td>\n",
       "      <td>3.314500e+05</td>\n",
       "      <td>3.344250e+05</td>\n",
       "      <td>3.368250e+05</td>\n",
       "      <td>3.384500e+05</td>\n",
       "      <td>3.391500e+05</td>\n",
       "      <td>3.414500e+05</td>\n",
       "      <td>3.446500e+05</td>\n",
       "      <td>3.467250e+05</td>\n",
       "      <td>3.483750e+05</td>\n",
       "    </tr>\n",
       "    <tr>\n",
       "      <th>50%</th>\n",
       "      <td>93302.500000</td>\n",
       "      <td>1.635000e+05</td>\n",
       "      <td>1.628500e+05</td>\n",
       "      <td>1.625000e+05</td>\n",
       "      <td>1.622000e+05</td>\n",
       "      <td>1.623500e+05</td>\n",
       "      <td>1.622000e+05</td>\n",
       "      <td>1.625000e+05</td>\n",
       "      <td>1.624000e+05</td>\n",
       "      <td>1.626500e+05</td>\n",
       "      <td>...</td>\n",
       "      <td>5.305000e+05</td>\n",
       "      <td>5.350000e+05</td>\n",
       "      <td>5.378500e+05</td>\n",
       "      <td>5.424500e+05</td>\n",
       "      <td>5.463000e+05</td>\n",
       "      <td>5.503000e+05</td>\n",
       "      <td>5.529500e+05</td>\n",
       "      <td>5.572500e+05</td>\n",
       "      <td>5.625000e+05</td>\n",
       "      <td>5.647000e+05</td>\n",
       "    </tr>\n",
       "    <tr>\n",
       "      <th>75%</th>\n",
       "      <td>95035.500000</td>\n",
       "      <td>2.322500e+05</td>\n",
       "      <td>2.322250e+05</td>\n",
       "      <td>2.325000e+05</td>\n",
       "      <td>2.326000e+05</td>\n",
       "      <td>2.330250e+05</td>\n",
       "      <td>2.336250e+05</td>\n",
       "      <td>2.339750e+05</td>\n",
       "      <td>2.350500e+05</td>\n",
       "      <td>2.365000e+05</td>\n",
       "      <td>...</td>\n",
       "      <td>8.178500e+05</td>\n",
       "      <td>8.262250e+05</td>\n",
       "      <td>8.339500e+05</td>\n",
       "      <td>8.436250e+05</td>\n",
       "      <td>8.494750e+05</td>\n",
       "      <td>8.553500e+05</td>\n",
       "      <td>8.613000e+05</td>\n",
       "      <td>8.684750e+05</td>\n",
       "      <td>8.784250e+05</td>\n",
       "      <td>8.845500e+05</td>\n",
       "    </tr>\n",
       "    <tr>\n",
       "      <th>max</th>\n",
       "      <td>96161.000000</td>\n",
       "      <td>1.179200e+06</td>\n",
       "      <td>1.184300e+06</td>\n",
       "      <td>1.189700e+06</td>\n",
       "      <td>1.195400e+06</td>\n",
       "      <td>1.201200e+06</td>\n",
       "      <td>1.207300e+06</td>\n",
       "      <td>1.214100e+06</td>\n",
       "      <td>1.221200e+06</td>\n",
       "      <td>1.230900e+06</td>\n",
       "      <td>...</td>\n",
       "      <td>6.138300e+06</td>\n",
       "      <td>6.197800e+06</td>\n",
       "      <td>6.250200e+06</td>\n",
       "      <td>6.315400e+06</td>\n",
       "      <td>6.429100e+06</td>\n",
       "      <td>6.581800e+06</td>\n",
       "      <td>6.705000e+06</td>\n",
       "      <td>6.764600e+06</td>\n",
       "      <td>6.788400e+06</td>\n",
       "      <td>6.796500e+06</td>\n",
       "    </tr>\n",
       "  </tbody>\n",
       "</table>\n",
       "<p>8 rows × 266 columns</p>\n",
       "</div>"
      ],
      "text/plain": [
       "            ZipCode       1996-04       1996-05       1996-06       1996-07  \\\n",
       "count   1224.000000  1.188000e+03  1.188000e+03  1.188000e+03  1.188000e+03   \n",
       "mean   93308.559641  2.002210e+05  2.001248e+05  2.000359e+05  1.999656e+05   \n",
       "std     1800.792540  1.260446e+05  1.265337e+05  1.270587e+05  1.276189e+05   \n",
       "min    90001.000000  4.440000e+04  4.390000e+04  4.350000e+04  4.290000e+04   \n",
       "25%    92013.250000  1.294750e+05  1.286750e+05  1.283750e+05  1.280000e+05   \n",
       "50%    93302.500000  1.635000e+05  1.628500e+05  1.625000e+05  1.622000e+05   \n",
       "75%    95035.500000  2.322500e+05  2.322250e+05  2.325000e+05  2.326000e+05   \n",
       "max    96161.000000  1.179200e+06  1.184300e+06  1.189700e+06  1.195400e+06   \n",
       "\n",
       "            1996-08       1996-09       1996-10       1996-11       1996-12  \\\n",
       "count  1.188000e+03  1.188000e+03  1.188000e+03  1.188000e+03  1.188000e+03   \n",
       "mean   1.999588e+05  2.000376e+05  2.002770e+05  2.006430e+05  2.013097e+05   \n",
       "std    1.282251e+05  1.289055e+05  1.297123e+05  1.306263e+05  1.318064e+05   \n",
       "min    4.240000e+04  4.180000e+04  4.120000e+04  4.070000e+04  4.040000e+04   \n",
       "25%    1.277000e+05  1.275750e+05  1.272000e+05  1.268750e+05  1.266750e+05   \n",
       "50%    1.623500e+05  1.622000e+05  1.625000e+05  1.624000e+05  1.626500e+05   \n",
       "75%    2.330250e+05  2.336250e+05  2.339750e+05  2.350500e+05  2.365000e+05   \n",
       "max    1.201200e+06  1.207300e+06  1.214100e+06  1.221200e+06  1.230900e+06   \n",
       "\n",
       "       ...       2017-07       2017-08       2017-09       2017-10  \\\n",
       "count  ...  1.224000e+03  1.224000e+03  1.224000e+03  1.224000e+03   \n",
       "mean   ...  6.923672e+05  6.978696e+05  7.040457e+05  7.105151e+05   \n",
       "std    ...  6.210660e+05  6.261215e+05  6.324982e+05  6.395856e+05   \n",
       "min    ...  5.950000e+04  6.240000e+04  6.580000e+04  6.790000e+04   \n",
       "25%    ...  3.281750e+05  3.314500e+05  3.344250e+05  3.368250e+05   \n",
       "50%    ...  5.305000e+05  5.350000e+05  5.378500e+05  5.424500e+05   \n",
       "75%    ...  8.178500e+05  8.262250e+05  8.339500e+05  8.436250e+05   \n",
       "max    ...  6.138300e+06  6.197800e+06  6.250200e+06  6.315400e+06   \n",
       "\n",
       "            2017-11       2017-12       2018-01       2018-02       2018-03  \\\n",
       "count  1.224000e+03  1.224000e+03  1.224000e+03  1.224000e+03  1.224000e+03   \n",
       "mean   7.167609e+05  7.232635e+05  7.294964e+05  7.355260e+05  7.421463e+05   \n",
       "std    6.464928e+05  6.534314e+05  6.601518e+05  6.662484e+05  6.724521e+05   \n",
       "min    6.960000e+04  7.110000e+04  7.190000e+04  7.260000e+04  7.380000e+04   \n",
       "25%    3.384500e+05  3.391500e+05  3.414500e+05  3.446500e+05  3.467250e+05   \n",
       "50%    5.463000e+05  5.503000e+05  5.529500e+05  5.572500e+05  5.625000e+05   \n",
       "75%    8.494750e+05  8.553500e+05  8.613000e+05  8.684750e+05  8.784250e+05   \n",
       "max    6.429100e+06  6.581800e+06  6.705000e+06  6.764600e+06  6.788400e+06   \n",
       "\n",
       "            2018-04  \n",
       "count  1.224000e+03  \n",
       "mean   7.463291e+05  \n",
       "std    6.760173e+05  \n",
       "min    7.450000e+04  \n",
       "25%    3.483750e+05  \n",
       "50%    5.647000e+05  \n",
       "75%    8.845500e+05  \n",
       "max    6.796500e+06  \n",
       "\n",
       "[8 rows x 266 columns]"
      ]
     },
     "execution_count": 7,
     "metadata": {},
     "output_type": "execute_result"
    }
   ],
   "source": [
    "#Check for zeros\n",
    "df_ca.describe()"
   ]
  },
  {
   "cell_type": "code",
   "execution_count": 8,
   "metadata": {
    "ExecuteTime": {
     "end_time": "2021-07-30T17:55:35.366873Z",
     "start_time": "2021-07-30T17:55:35.353830Z"
    }
   },
   "outputs": [],
   "source": [
    "def get_datetimes(df):\n",
    "    \"\"\"\n",
    "    Takes a dataframe:\n",
    "    returns only those column names that can be converted into datetime objects \n",
    "    as datetime objects.\n",
    "    NOTE number of returned columns may not match total number of columns in passed dataframe\n",
    "    \"\"\"\n",
    "    \n",
    "    return pd.to_datetime(df.columns.values[1:], format='%Y-%m')"
   ]
  },
  {
   "cell_type": "code",
   "execution_count": 9,
   "metadata": {
    "ExecuteTime": {
     "end_time": "2021-07-30T17:55:35.382833Z",
     "start_time": "2021-07-30T17:55:35.368832Z"
    }
   },
   "outputs": [],
   "source": [
    "# dates_df = df[df.columns[7:]]\n",
    "# dates_df.head()"
   ]
  },
  {
   "cell_type": "code",
   "execution_count": 10,
   "metadata": {
    "ExecuteTime": {
     "end_time": "2021-07-30T17:55:35.398560Z",
     "start_time": "2021-07-30T17:55:35.386458Z"
    }
   },
   "outputs": [],
   "source": [
    "# get_datetimes(dates_df)"
   ]
  },
  {
   "cell_type": "code",
   "execution_count": 11,
   "metadata": {
    "ExecuteTime": {
     "end_time": "2021-07-30T17:55:35.413386Z",
     "start_time": "2021-07-30T17:55:35.400688Z"
    }
   },
   "outputs": [],
   "source": [
    "# dates_df.head()"
   ]
  },
  {
   "cell_type": "code",
   "execution_count": 12,
   "metadata": {
    "ExecuteTime": {
     "end_time": "2021-07-30T17:55:35.428652Z",
     "start_time": "2021-07-30T17:55:35.416382Z"
    }
   },
   "outputs": [],
   "source": [
    "# font = {'family' : 'normal',\n",
    "#         'weight' : 'bold',\n",
    "#         'size'   : 22}\n",
    "\n",
    "# plt.rc('font', **font)\n",
    "\n",
    "# NOTE: if you visualizations are too cluttered to read, try calling 'plt.gcf().autofmt_xdate()'!"
   ]
  },
  {
   "cell_type": "code",
   "execution_count": null,
   "metadata": {},
   "outputs": [],
   "source": []
  },
  {
   "cell_type": "code",
   "execution_count": null,
   "metadata": {},
   "outputs": [],
   "source": []
  },
  {
   "cell_type": "code",
   "execution_count": null,
   "metadata": {},
   "outputs": [],
   "source": []
  },
  {
   "cell_type": "markdown",
   "metadata": {},
   "source": [
    "# Step 4: Reshape from Wide to Long Format"
   ]
  },
  {
   "cell_type": "code",
   "execution_count": 13,
   "metadata": {
    "ExecuteTime": {
     "end_time": "2021-07-30T17:55:35.443964Z",
     "start_time": "2021-07-30T17:55:35.431780Z"
    }
   },
   "outputs": [],
   "source": [
    "# def melt_data(df):\n",
    "#     \"\"\"\n",
    "#     Takes the zillow_data dataset in wide form or a subset of the zillow_dataset.  \n",
    "#     Returns a long-form datetime dataframe \n",
    "#     with the datetime column names as the index and the values as the 'values' column.\n",
    "    \n",
    "#     If more than one row is passes in the wide-form dataset, the values column\n",
    "#     will be the mean of the values from the datetime columns in all of the rows.\n",
    "#     \"\"\"\n",
    "    \n",
    "#     melted = pd.melt(df, id_vars=['RegionName', 'RegionID', 'SizeRank', 'City', 'State', 'Metro', 'CountyName'], var_name='time')\n",
    "#     melted['time'] = pd.to_datetime(melted['time'], infer_datetime_format=True)\n",
    "#     melted = melted.dropna(subset=['value'])\n",
    "#     return melted.groupby('time').aggregate({'value':'mean'})"
   ]
  },
  {
   "cell_type": "code",
   "execution_count": 14,
   "metadata": {
    "ExecuteTime": {
     "end_time": "2021-07-30T17:55:35.459474Z",
     "start_time": "2021-07-30T17:55:35.447390Z"
    }
   },
   "outputs": [],
   "source": [
    "def melt_data(df):\n",
    "    melted = pd.melt(df, id_vars=['ZipCode', 'City', 'State', 'Metro', 'CountyName'], \n",
    "                     var_name='Date')\n",
    "    melted['Date'] = pd.to_datetime(melted['Date'], infer_datetime_format=True)\n",
    "    melted = melted.dropna(subset=['value'])\n",
    "    return melted"
   ]
  },
  {
   "cell_type": "code",
   "execution_count": 15,
   "metadata": {
    "ExecuteTime": {
     "end_time": "2021-07-30T17:55:35.617719Z",
     "start_time": "2021-07-30T17:55:35.462389Z"
    }
   },
   "outputs": [],
   "source": [
    "melted_df = melt_data(df_ca)"
   ]
  },
  {
   "cell_type": "markdown",
   "metadata": {},
   "source": [
    "We will also want to make sure we change zip code into a string so it is not confused for an integer."
   ]
  },
  {
   "cell_type": "code",
   "execution_count": 16,
   "metadata": {
    "ExecuteTime": {
     "end_time": "2021-07-30T17:55:35.884482Z",
     "start_time": "2021-07-30T17:55:35.619869Z"
    }
   },
   "outputs": [],
   "source": [
    "#Change Zipcode dtype to 'str'\n",
    "melted_df['ZipCode'] = melted_df['ZipCode'].astype(str)\n",
    "\n",
    "# Make sure the data type of the 'Date' column is datetime\n",
    "melted_df['Date'] = pd.to_datetime(melted_df['Date'], format='%m/%y')\n",
    "\n",
    "# Set the 'Date' column as index\n",
    "melted_df.set_index('Date', inplace=True)"
   ]
  },
  {
   "cell_type": "code",
   "execution_count": 17,
   "metadata": {
    "ExecuteTime": {
     "end_time": "2021-07-30T17:55:35.900533Z",
     "start_time": "2021-07-30T17:55:35.886496Z"
    }
   },
   "outputs": [
    {
     "data": {
      "text/plain": [
       "DatetimeIndex(['1996-04-01', '1996-04-01', '1996-04-01', '1996-04-01',\n",
       "               '1996-04-01', '1996-04-01', '1996-04-01', '1996-04-01',\n",
       "               '1996-04-01', '1996-04-01',\n",
       "               ...\n",
       "               '2018-04-01', '2018-04-01', '2018-04-01', '2018-04-01',\n",
       "               '2018-04-01', '2018-04-01', '2018-04-01', '2018-04-01',\n",
       "               '2018-04-01', '2018-04-01'],\n",
       "              dtype='datetime64[ns]', name='Date', length=318744, freq=None)"
      ]
     },
     "execution_count": 17,
     "metadata": {},
     "output_type": "execute_result"
    }
   ],
   "source": [
    "melted_df.index"
   ]
  },
  {
   "cell_type": "code",
   "execution_count": 18,
   "metadata": {
    "ExecuteTime": {
     "end_time": "2021-07-30T17:55:35.936766Z",
     "start_time": "2021-07-30T17:55:35.902479Z"
    }
   },
   "outputs": [
    {
     "data": {
      "text/html": [
       "<div>\n",
       "<style scoped>\n",
       "    .dataframe tbody tr th:only-of-type {\n",
       "        vertical-align: middle;\n",
       "    }\n",
       "\n",
       "    .dataframe tbody tr th {\n",
       "        vertical-align: top;\n",
       "    }\n",
       "\n",
       "    .dataframe thead th {\n",
       "        text-align: right;\n",
       "    }\n",
       "</style>\n",
       "<table border=\"1\" class=\"dataframe\">\n",
       "  <thead>\n",
       "    <tr style=\"text-align: right;\">\n",
       "      <th></th>\n",
       "      <th>ZipCode</th>\n",
       "      <th>City</th>\n",
       "      <th>State</th>\n",
       "      <th>Metro</th>\n",
       "      <th>CountyName</th>\n",
       "      <th>value</th>\n",
       "    </tr>\n",
       "    <tr>\n",
       "      <th>Date</th>\n",
       "      <th></th>\n",
       "      <th></th>\n",
       "      <th></th>\n",
       "      <th></th>\n",
       "      <th></th>\n",
       "      <th></th>\n",
       "    </tr>\n",
       "  </thead>\n",
       "  <tbody>\n",
       "    <tr>\n",
       "      <th>1996-04-01</th>\n",
       "      <td>94109</td>\n",
       "      <td>San Francisco</td>\n",
       "      <td>CA</td>\n",
       "      <td>San Francisco</td>\n",
       "      <td>San Francisco</td>\n",
       "      <td>766000.0</td>\n",
       "    </tr>\n",
       "    <tr>\n",
       "      <th>1996-04-01</th>\n",
       "      <td>90250</td>\n",
       "      <td>Hawthorne</td>\n",
       "      <td>CA</td>\n",
       "      <td>Los Angeles-Long Beach-Anaheim</td>\n",
       "      <td>Los Angeles</td>\n",
       "      <td>152500.0</td>\n",
       "    </tr>\n",
       "    <tr>\n",
       "      <th>1996-04-01</th>\n",
       "      <td>94565</td>\n",
       "      <td>Pittsburg</td>\n",
       "      <td>CA</td>\n",
       "      <td>San Francisco</td>\n",
       "      <td>Contra Costa</td>\n",
       "      <td>139200.0</td>\n",
       "    </tr>\n",
       "    <tr>\n",
       "      <th>1996-04-01</th>\n",
       "      <td>90046</td>\n",
       "      <td>Los Angeles</td>\n",
       "      <td>CA</td>\n",
       "      <td>Los Angeles-Long Beach-Anaheim</td>\n",
       "      <td>Los Angeles</td>\n",
       "      <td>340600.0</td>\n",
       "    </tr>\n",
       "    <tr>\n",
       "      <th>1996-04-01</th>\n",
       "      <td>94501</td>\n",
       "      <td>Alameda</td>\n",
       "      <td>CA</td>\n",
       "      <td>San Francisco</td>\n",
       "      <td>Alameda</td>\n",
       "      <td>222400.0</td>\n",
       "    </tr>\n",
       "  </tbody>\n",
       "</table>\n",
       "</div>"
      ],
      "text/plain": [
       "           ZipCode           City State                           Metro  \\\n",
       "Date                                                                      \n",
       "1996-04-01   94109  San Francisco    CA                   San Francisco   \n",
       "1996-04-01   90250      Hawthorne    CA  Los Angeles-Long Beach-Anaheim   \n",
       "1996-04-01   94565      Pittsburg    CA                   San Francisco   \n",
       "1996-04-01   90046    Los Angeles    CA  Los Angeles-Long Beach-Anaheim   \n",
       "1996-04-01   94501        Alameda    CA                   San Francisco   \n",
       "\n",
       "               CountyName     value  \n",
       "Date                                 \n",
       "1996-04-01  San Francisco  766000.0  \n",
       "1996-04-01    Los Angeles  152500.0  \n",
       "1996-04-01   Contra Costa  139200.0  \n",
       "1996-04-01    Los Angeles  340600.0  \n",
       "1996-04-01        Alameda  222400.0  "
      ]
     },
     "execution_count": 18,
     "metadata": {},
     "output_type": "execute_result"
    }
   ],
   "source": [
    "melted_df.head()"
   ]
  },
  {
   "cell_type": "code",
   "execution_count": 19,
   "metadata": {
    "ExecuteTime": {
     "end_time": "2021-07-30T17:55:35.963769Z",
     "start_time": "2021-07-30T17:55:35.938769Z"
    }
   },
   "outputs": [
    {
     "data": {
      "text/html": [
       "<div>\n",
       "<style scoped>\n",
       "    .dataframe tbody tr th:only-of-type {\n",
       "        vertical-align: middle;\n",
       "    }\n",
       "\n",
       "    .dataframe tbody tr th {\n",
       "        vertical-align: top;\n",
       "    }\n",
       "\n",
       "    .dataframe thead th {\n",
       "        text-align: right;\n",
       "    }\n",
       "</style>\n",
       "<table border=\"1\" class=\"dataframe\">\n",
       "  <thead>\n",
       "    <tr style=\"text-align: right;\">\n",
       "      <th></th>\n",
       "      <th>ZipCode</th>\n",
       "      <th>City</th>\n",
       "      <th>State</th>\n",
       "      <th>Metro</th>\n",
       "      <th>CountyName</th>\n",
       "      <th>value</th>\n",
       "    </tr>\n",
       "    <tr>\n",
       "      <th>Date</th>\n",
       "      <th></th>\n",
       "      <th></th>\n",
       "      <th></th>\n",
       "      <th></th>\n",
       "      <th></th>\n",
       "      <th></th>\n",
       "    </tr>\n",
       "  </thead>\n",
       "  <tbody>\n",
       "    <tr>\n",
       "      <th>2018-04-01</th>\n",
       "      <td>93517</td>\n",
       "      <td>Bridgeport</td>\n",
       "      <td>CA</td>\n",
       "      <td>NaN</td>\n",
       "      <td>Mono</td>\n",
       "      <td>272500.0</td>\n",
       "    </tr>\n",
       "    <tr>\n",
       "      <th>2018-04-01</th>\n",
       "      <td>95728</td>\n",
       "      <td>Truckee</td>\n",
       "      <td>CA</td>\n",
       "      <td>Truckee</td>\n",
       "      <td>Nevada</td>\n",
       "      <td>496300.0</td>\n",
       "    </tr>\n",
       "    <tr>\n",
       "      <th>2018-04-01</th>\n",
       "      <td>95497</td>\n",
       "      <td>Annapolis</td>\n",
       "      <td>CA</td>\n",
       "      <td>Santa Rosa</td>\n",
       "      <td>Sonoma</td>\n",
       "      <td>848700.0</td>\n",
       "    </tr>\n",
       "    <tr>\n",
       "      <th>2018-04-01</th>\n",
       "      <td>92322</td>\n",
       "      <td>Crestline</td>\n",
       "      <td>CA</td>\n",
       "      <td>Riverside</td>\n",
       "      <td>San Bernardino</td>\n",
       "      <td>200100.0</td>\n",
       "    </tr>\n",
       "    <tr>\n",
       "      <th>2018-04-01</th>\n",
       "      <td>92341</td>\n",
       "      <td>Green Valley Lake</td>\n",
       "      <td>CA</td>\n",
       "      <td>Riverside</td>\n",
       "      <td>San Bernardino</td>\n",
       "      <td>183600.0</td>\n",
       "    </tr>\n",
       "  </tbody>\n",
       "</table>\n",
       "</div>"
      ],
      "text/plain": [
       "           ZipCode               City State       Metro      CountyName  \\\n",
       "Date                                                                      \n",
       "2018-04-01   93517         Bridgeport    CA         NaN            Mono   \n",
       "2018-04-01   95728            Truckee    CA     Truckee          Nevada   \n",
       "2018-04-01   95497          Annapolis    CA  Santa Rosa          Sonoma   \n",
       "2018-04-01   92322          Crestline    CA   Riverside  San Bernardino   \n",
       "2018-04-01   92341  Green Valley Lake    CA   Riverside  San Bernardino   \n",
       "\n",
       "               value  \n",
       "Date                  \n",
       "2018-04-01  272500.0  \n",
       "2018-04-01  496300.0  \n",
       "2018-04-01  848700.0  \n",
       "2018-04-01  200100.0  \n",
       "2018-04-01  183600.0  "
      ]
     },
     "execution_count": 19,
     "metadata": {},
     "output_type": "execute_result"
    }
   ],
   "source": [
    "melted_df.tail()"
   ]
  },
  {
   "cell_type": "code",
   "execution_count": 20,
   "metadata": {
    "ExecuteTime": {
     "end_time": "2021-07-30T17:55:35.979823Z",
     "start_time": "2021-07-30T17:55:35.965785Z"
    }
   },
   "outputs": [
    {
     "data": {
      "text/plain": [
       "(318744, 6)"
      ]
     },
     "execution_count": 20,
     "metadata": {},
     "output_type": "execute_result"
    }
   ],
   "source": [
    "melted_df.shape"
   ]
  },
  {
   "cell_type": "code",
   "execution_count": 21,
   "metadata": {
    "ExecuteTime": {
     "end_time": "2021-07-30T17:55:35.995769Z",
     "start_time": "2021-07-30T17:55:35.982770Z"
    }
   },
   "outputs": [
    {
     "data": {
      "text/plain": [
       "(1224, 270)"
      ]
     },
     "execution_count": 21,
     "metadata": {},
     "output_type": "execute_result"
    }
   ],
   "source": [
    "df_ca.shape"
   ]
  },
  {
   "cell_type": "markdown",
   "metadata": {},
   "source": [
    "# Step 3: EDA and Visualization"
   ]
  },
  {
   "cell_type": "markdown",
   "metadata": {},
   "source": [
    "\n",
    "Next, we will create some graphs to get a better idea of the data we are working with. We will also select zip codes that should be considered for our model."
   ]
  },
  {
   "cell_type": "code",
   "execution_count": 22,
   "metadata": {
    "ExecuteTime": {
     "end_time": "2021-07-30T17:55:36.042969Z",
     "start_time": "2021-07-30T17:55:36.000770Z"
    }
   },
   "outputs": [],
   "source": [
    "metro = melted_df.groupby('Metro')\n",
    "metro = metro.value.mean()\n",
    "metro = metro.sort_values(ascending=False).head(10)"
   ]
  },
  {
   "cell_type": "code",
   "execution_count": 23,
   "metadata": {
    "ExecuteTime": {
     "end_time": "2021-07-30T17:55:36.074728Z",
     "start_time": "2021-07-30T17:55:36.046916Z"
    }
   },
   "outputs": [],
   "source": [
    "county = melted_df.groupby('CountyName')\n",
    "county = county.value.mean()\n",
    "county = county.sort_values(ascending=False).head(10)"
   ]
  },
  {
   "cell_type": "code",
   "execution_count": 24,
   "metadata": {
    "ExecuteTime": {
     "end_time": "2021-07-30T17:55:36.327975Z",
     "start_time": "2021-07-30T17:55:36.076686Z"
    }
   },
   "outputs": [
    {
     "data": {
      "image/png": "[encoded data removed]",
      "text/plain": [
       "<Figure size 576x360 with 1 Axes>"
      ]
     },
     "metadata": {},
     "output_type": "display_data"
    }
   ],
   "source": [
    "fig =plt.figure(figsize=(8,5))\n",
    "county.plot.barh()\n",
    "plt.title('Average value of Home per county')\n",
    "plt.xlabel('Home value')\n",
    "plt.show()"
   ]
  },
  {
   "cell_type": "code",
   "execution_count": 25,
   "metadata": {
    "ExecuteTime": {
     "end_time": "2021-07-30T17:55:36.548825Z",
     "start_time": "2021-07-30T17:55:36.329929Z"
    }
   },
   "outputs": [
    {
     "data": {
      "image/png": "[encoded data removed]",
      "text/plain": [
       "<Figure size 576x360 with 1 Axes>"
      ]
     },
     "metadata": {},
     "output_type": "display_data"
    }
   ],
   "source": [
    "fig = plt.figure(figsize=(8,5))\n",
    "metro.plot.barh()\n",
    "plt.title('Average Value of Home by Metro Area')\n",
    "plt.xlabel('Value ($)')\n",
    "plt.show()"
   ]
  },
  {
   "cell_type": "markdown",
   "metadata": {},
   "source": [
    "\n",
    "Here we get a good idea of the average home value per Metro area."
   ]
  },
  {
   "cell_type": "code",
   "execution_count": 26,
   "metadata": {
    "ExecuteTime": {
     "end_time": "2021-07-30T17:55:36.564623Z",
     "start_time": "2021-07-30T17:55:36.550676Z"
    }
   },
   "outputs": [
    {
     "name": "stdout",
     "output_type": "stream",
     "text": [
      "Average CA home value 457429\n"
     ]
    }
   ],
   "source": [
    "print('Average CA home value' ,round(melted_df['value'].mean()))"
   ]
  },
  {
   "cell_type": "code",
   "execution_count": 27,
   "metadata": {
    "ExecuteTime": {
     "end_time": "2021-07-30T17:55:36.787221Z",
     "start_time": "2021-07-30T17:55:36.567603Z"
    }
   },
   "outputs": [
    {
     "data": {
      "image/png": "[encoded data removed]",
      "text/plain": [
       "<Figure size 864x360 with 1 Axes>"
      ]
     },
     "metadata": {},
     "output_type": "display_data"
    },
    {
     "name": "stdout",
     "output_type": "stream",
     "text": [
      "Date\n",
      "1996-04-01    200220.959596\n",
      "1996-05-01    200124.831650\n",
      "1996-06-01    200035.942761\n",
      "1996-07-01    199965.572391\n",
      "1996-08-01    199958.754209\n",
      "Freq: MS, Name: value, dtype: float64\n"
     ]
    }
   ],
   "source": [
    "# melted_df = melted_df.asfreq('W-SAT')\n",
    "# CO2 = df['co2'].resample('MS').mean()\n",
    "# CO2 = CO2.fillna(CO2.bfill())\n",
    "monthly_data = melted_df['value'].resample('MS').mean()\n",
    "monthly_data = monthly_data.fillna(monthly_data.bfill())\n",
    "monthly_data.plot(figsize=(12,5))\n",
    "plt.title('Average CA Home Value By Month')\n",
    "plt.ylabel('Value')\n",
    "plt.show()\n",
    "print(monthly_data.head())"
   ]
  },
  {
   "cell_type": "code",
   "execution_count": 28,
   "metadata": {
    "ExecuteTime": {
     "end_time": "2021-07-30T17:55:36.992561Z",
     "start_time": "2021-07-30T17:55:36.790071Z"
    }
   },
   "outputs": [
    {
     "data": {
      "image/png": "[encoded data removed]",
      "text/plain": [
       "<Figure size 864x360 with 1 Axes>"
      ]
     },
     "metadata": {},
     "output_type": "display_data"
    },
    {
     "name": "stdout",
     "output_type": "stream",
     "text": [
      "Date\n",
      "1996-12-31    200285.933408\n",
      "1997-12-31    208054.924242\n",
      "1998-12-31    227790.333895\n",
      "1999-12-31    254072.804433\n",
      "2000-12-31    295432.870370\n",
      "Freq: A-DEC, Name: value, dtype: float64\n"
     ]
    }
   ],
   "source": [
    "yearly_data = melted_df['value'].resample('A').mean()\n",
    "yearly_data.plot.line(figsize=(12,5))\n",
    "plt.title('Average CA Home Value By Year')\n",
    "plt.ylabel('Value in US Dollars ($)')\n",
    "plt.show()\n",
    "print(yearly_data.head())"
   ]
  },
  {
   "cell_type": "markdown",
   "metadata": {},
   "source": [
    "The monthly and yearly home values seem ot be similar.\n",
    "\n",
    "Next, we will cut down on variation to ensure we get the true most valuable zip codes."
   ]
  },
  {
   "cell_type": "code",
   "execution_count": 29,
   "metadata": {
    "ExecuteTime": {
     "end_time": "2021-07-30T17:55:37.008440Z",
     "start_time": "2021-07-30T17:55:36.994448Z"
    }
   },
   "outputs": [
    {
     "data": {
      "text/plain": [
       "(1224, 270)"
      ]
     },
     "execution_count": 29,
     "metadata": {},
     "output_type": "execute_result"
    }
   ],
   "source": [
    "df_ca.shape"
   ]
  },
  {
   "cell_type": "code",
   "execution_count": 30,
   "metadata": {
    "ExecuteTime": {
     "end_time": "2021-07-30T17:55:37.039764Z",
     "start_time": "2021-07-30T17:55:37.012444Z"
    }
   },
   "outputs": [
    {
     "data": {
      "text/html": [
       "<div>\n",
       "<style scoped>\n",
       "    .dataframe tbody tr th:only-of-type {\n",
       "        vertical-align: middle;\n",
       "    }\n",
       "\n",
       "    .dataframe tbody tr th {\n",
       "        vertical-align: top;\n",
       "    }\n",
       "\n",
       "    .dataframe thead th {\n",
       "        text-align: right;\n",
       "    }\n",
       "</style>\n",
       "<table border=\"1\" class=\"dataframe\">\n",
       "  <thead>\n",
       "    <tr style=\"text-align: right;\">\n",
       "      <th></th>\n",
       "      <th>2017-05</th>\n",
       "      <th>2017-06</th>\n",
       "      <th>2017-07</th>\n",
       "      <th>2017-08</th>\n",
       "      <th>2017-09</th>\n",
       "      <th>2017-10</th>\n",
       "      <th>2017-11</th>\n",
       "      <th>2017-12</th>\n",
       "      <th>2018-01</th>\n",
       "      <th>2018-02</th>\n",
       "      <th>2018-03</th>\n",
       "      <th>2018-04</th>\n",
       "    </tr>\n",
       "  </thead>\n",
       "  <tbody>\n",
       "    <tr>\n",
       "      <th>0</th>\n",
       "      <td>3734000</td>\n",
       "      <td>3759300</td>\n",
       "      <td>3767700</td>\n",
       "      <td>3763900</td>\n",
       "      <td>3775000</td>\n",
       "      <td>3799700</td>\n",
       "      <td>3793900</td>\n",
       "      <td>3778700</td>\n",
       "      <td>3770800</td>\n",
       "      <td>3763100</td>\n",
       "      <td>3779800</td>\n",
       "      <td>3813500</td>\n",
       "    </tr>\n",
       "    <tr>\n",
       "      <th>1</th>\n",
       "      <td>568700</td>\n",
       "      <td>573800</td>\n",
       "      <td>579300</td>\n",
       "      <td>585700</td>\n",
       "      <td>590900</td>\n",
       "      <td>594700</td>\n",
       "      <td>598500</td>\n",
       "      <td>601300</td>\n",
       "      <td>602800</td>\n",
       "      <td>606100</td>\n",
       "      <td>612400</td>\n",
       "      <td>616200</td>\n",
       "    </tr>\n",
       "    <tr>\n",
       "      <th>2</th>\n",
       "      <td>385800</td>\n",
       "      <td>390400</td>\n",
       "      <td>394900</td>\n",
       "      <td>398400</td>\n",
       "      <td>401600</td>\n",
       "      <td>405400</td>\n",
       "      <td>408600</td>\n",
       "      <td>410900</td>\n",
       "      <td>413700</td>\n",
       "      <td>417900</td>\n",
       "      <td>424300</td>\n",
       "      <td>430100</td>\n",
       "    </tr>\n",
       "    <tr>\n",
       "      <th>3</th>\n",
       "      <td>1812600</td>\n",
       "      <td>1825000</td>\n",
       "      <td>1839800</td>\n",
       "      <td>1861100</td>\n",
       "      <td>1888600</td>\n",
       "      <td>1903900</td>\n",
       "      <td>1907500</td>\n",
       "      <td>1922100</td>\n",
       "      <td>1952400</td>\n",
       "      <td>1974500</td>\n",
       "      <td>1975900</td>\n",
       "      <td>1966900</td>\n",
       "    </tr>\n",
       "    <tr>\n",
       "      <th>4</th>\n",
       "      <td>944200</td>\n",
       "      <td>955300</td>\n",
       "      <td>965100</td>\n",
       "      <td>975000</td>\n",
       "      <td>987800</td>\n",
       "      <td>1000000</td>\n",
       "      <td>1009900</td>\n",
       "      <td>1021000</td>\n",
       "      <td>1032400</td>\n",
       "      <td>1042000</td>\n",
       "      <td>1053000</td>\n",
       "      <td>1059700</td>\n",
       "    </tr>\n",
       "    <tr>\n",
       "      <th>...</th>\n",
       "      <td>...</td>\n",
       "      <td>...</td>\n",
       "      <td>...</td>\n",
       "      <td>...</td>\n",
       "      <td>...</td>\n",
       "      <td>...</td>\n",
       "      <td>...</td>\n",
       "      <td>...</td>\n",
       "      <td>...</td>\n",
       "      <td>...</td>\n",
       "      <td>...</td>\n",
       "      <td>...</td>\n",
       "    </tr>\n",
       "    <tr>\n",
       "      <th>1219</th>\n",
       "      <td>286000</td>\n",
       "      <td>289600</td>\n",
       "      <td>287700</td>\n",
       "      <td>276300</td>\n",
       "      <td>263900</td>\n",
       "      <td>259000</td>\n",
       "      <td>259800</td>\n",
       "      <td>262600</td>\n",
       "      <td>264400</td>\n",
       "      <td>265900</td>\n",
       "      <td>269400</td>\n",
       "      <td>272500</td>\n",
       "    </tr>\n",
       "    <tr>\n",
       "      <th>1220</th>\n",
       "      <td>459300</td>\n",
       "      <td>467500</td>\n",
       "      <td>476900</td>\n",
       "      <td>488600</td>\n",
       "      <td>494100</td>\n",
       "      <td>491200</td>\n",
       "      <td>485700</td>\n",
       "      <td>482600</td>\n",
       "      <td>480900</td>\n",
       "      <td>483600</td>\n",
       "      <td>490500</td>\n",
       "      <td>496300</td>\n",
       "    </tr>\n",
       "    <tr>\n",
       "      <th>1221</th>\n",
       "      <td>776100</td>\n",
       "      <td>774300</td>\n",
       "      <td>772800</td>\n",
       "      <td>778200</td>\n",
       "      <td>786100</td>\n",
       "      <td>792700</td>\n",
       "      <td>799100</td>\n",
       "      <td>806900</td>\n",
       "      <td>814600</td>\n",
       "      <td>824300</td>\n",
       "      <td>837100</td>\n",
       "      <td>848700</td>\n",
       "    </tr>\n",
       "    <tr>\n",
       "      <th>1222</th>\n",
       "      <td>173100</td>\n",
       "      <td>177600</td>\n",
       "      <td>180900</td>\n",
       "      <td>182600</td>\n",
       "      <td>184200</td>\n",
       "      <td>185700</td>\n",
       "      <td>187300</td>\n",
       "      <td>189100</td>\n",
       "      <td>189900</td>\n",
       "      <td>191600</td>\n",
       "      <td>195700</td>\n",
       "      <td>200100</td>\n",
       "    </tr>\n",
       "    <tr>\n",
       "      <th>1223</th>\n",
       "      <td>174600</td>\n",
       "      <td>177700</td>\n",
       "      <td>179700</td>\n",
       "      <td>178300</td>\n",
       "      <td>175700</td>\n",
       "      <td>175600</td>\n",
       "      <td>177000</td>\n",
       "      <td>178400</td>\n",
       "      <td>179300</td>\n",
       "      <td>180000</td>\n",
       "      <td>181500</td>\n",
       "      <td>183600</td>\n",
       "    </tr>\n",
       "  </tbody>\n",
       "</table>\n",
       "<p>1224 rows × 12 columns</p>\n",
       "</div>"
      ],
      "text/plain": [
       "      2017-05  2017-06  2017-07  2017-08  2017-09  2017-10  2017-11  2017-12  \\\n",
       "0     3734000  3759300  3767700  3763900  3775000  3799700  3793900  3778700   \n",
       "1      568700   573800   579300   585700   590900   594700   598500   601300   \n",
       "2      385800   390400   394900   398400   401600   405400   408600   410900   \n",
       "3     1812600  1825000  1839800  1861100  1888600  1903900  1907500  1922100   \n",
       "4      944200   955300   965100   975000   987800  1000000  1009900  1021000   \n",
       "...       ...      ...      ...      ...      ...      ...      ...      ...   \n",
       "1219   286000   289600   287700   276300   263900   259000   259800   262600   \n",
       "1220   459300   467500   476900   488600   494100   491200   485700   482600   \n",
       "1221   776100   774300   772800   778200   786100   792700   799100   806900   \n",
       "1222   173100   177600   180900   182600   184200   185700   187300   189100   \n",
       "1223   174600   177700   179700   178300   175700   175600   177000   178400   \n",
       "\n",
       "      2018-01  2018-02  2018-03  2018-04  \n",
       "0     3770800  3763100  3779800  3813500  \n",
       "1      602800   606100   612400   616200  \n",
       "2      413700   417900   424300   430100  \n",
       "3     1952400  1974500  1975900  1966900  \n",
       "4     1032400  1042000  1053000  1059700  \n",
       "...       ...      ...      ...      ...  \n",
       "1219   264400   265900   269400   272500  \n",
       "1220   480900   483600   490500   496300  \n",
       "1221   814600   824300   837100   848700  \n",
       "1222   189900   191600   195700   200100  \n",
       "1223   179300   180000   181500   183600  \n",
       "\n",
       "[1224 rows x 12 columns]"
      ]
     },
     "execution_count": 30,
     "metadata": {},
     "output_type": "execute_result"
    }
   ],
   "source": [
    "#taking into account the last 12months\n",
    "df_ca.iloc[:,-12:]"
   ]
  },
  {
   "cell_type": "code",
   "execution_count": 31,
   "metadata": {
    "ExecuteTime": {
     "end_time": "2021-07-30T17:55:37.071852Z",
     "start_time": "2021-07-30T17:55:37.041764Z"
    }
   },
   "outputs": [
    {
     "name": "stdout",
     "output_type": "stream",
     "text": [
      "count    1.224000e+03\n",
      "mean     6.146968e+05\n",
      "std      5.553401e+05\n",
      "min      5.477833e+04\n",
      "25%      2.826767e+05\n",
      "50%      4.664775e+05\n",
      "75%      7.432292e+05\n",
      "max      5.319428e+06\n",
      "Name: yr_avg, dtype: float64 \n",
      "\n",
      "Average Value 70% cutoff value: 654150.17\n",
      "Average Value 30% cutoff value: 313131.83\n",
      "Amount of zipcodes: 490\n"
     ]
    }
   ],
   "source": [
    "df_ca['yr_avg']=df_ca.iloc[:,-60:].mean(skipna=True, axis=1)\n",
    "\n",
    "#Get zipcodes with an average value 2 decile above the median and 2 deciles below.\n",
    "print(df_ca['yr_avg'].describe(),'\\n')\n",
    "\n",
    "#Calculate the 70% cutoff value (2 decile above).\n",
    "q_70 = df_ca['yr_avg'].quantile(q=0.70)\n",
    "print(f'Average Value 70% cutoff value: {round(q_70,2)}')\n",
    "\n",
    "#Calculate the 30% cutoff value (2 deciles below).\n",
    "q_30 = df_ca['yr_avg'].quantile(q=0.30)\n",
    "print(f'Average Value 30% cutoff value: {round(q_30,2)}')\n",
    "\n",
    "#Get data frame with selected zipcodes.\n",
    "df_avg = df_ca[(df_ca['yr_avg']<q_70) & (df_ca['yr_avg']>q_30)]\n",
    "print(f'Amount of zipcodes: {len(df_avg)}')"
   ]
  },
  {
   "cell_type": "code",
   "execution_count": 32,
   "metadata": {
    "ExecuteTime": {
     "end_time": "2021-07-30T17:55:37.103564Z",
     "start_time": "2021-07-30T17:55:37.074766Z"
    }
   },
   "outputs": [
    {
     "data": {
      "text/html": [
       "<div>\n",
       "<style scoped>\n",
       "    .dataframe tbody tr th:only-of-type {\n",
       "        vertical-align: middle;\n",
       "    }\n",
       "\n",
       "    .dataframe tbody tr th {\n",
       "        vertical-align: top;\n",
       "    }\n",
       "\n",
       "    .dataframe thead th {\n",
       "        text-align: right;\n",
       "    }\n",
       "</style>\n",
       "<table border=\"1\" class=\"dataframe\">\n",
       "  <thead>\n",
       "    <tr style=\"text-align: right;\">\n",
       "      <th></th>\n",
       "      <th>ZipCode</th>\n",
       "      <th>City</th>\n",
       "      <th>State</th>\n",
       "      <th>Metro</th>\n",
       "      <th>CountyName</th>\n",
       "      <th>1996-04</th>\n",
       "      <th>1996-05</th>\n",
       "      <th>1996-06</th>\n",
       "      <th>1996-07</th>\n",
       "      <th>1996-08</th>\n",
       "      <th>...</th>\n",
       "      <th>2017-08</th>\n",
       "      <th>2017-09</th>\n",
       "      <th>2017-10</th>\n",
       "      <th>2017-11</th>\n",
       "      <th>2017-12</th>\n",
       "      <th>2018-01</th>\n",
       "      <th>2018-02</th>\n",
       "      <th>2018-03</th>\n",
       "      <th>2018-04</th>\n",
       "      <th>yr_avg</th>\n",
       "    </tr>\n",
       "  </thead>\n",
       "  <tbody>\n",
       "    <tr>\n",
       "      <th>1</th>\n",
       "      <td>90250</td>\n",
       "      <td>Hawthorne</td>\n",
       "      <td>CA</td>\n",
       "      <td>Los Angeles-Long Beach-Anaheim</td>\n",
       "      <td>Los Angeles</td>\n",
       "      <td>152500.0</td>\n",
       "      <td>152600.0</td>\n",
       "      <td>152600.0</td>\n",
       "      <td>152600.0</td>\n",
       "      <td>152600.0</td>\n",
       "      <td>...</td>\n",
       "      <td>585700</td>\n",
       "      <td>590900</td>\n",
       "      <td>594700</td>\n",
       "      <td>598500</td>\n",
       "      <td>601300</td>\n",
       "      <td>602800</td>\n",
       "      <td>606100</td>\n",
       "      <td>612400</td>\n",
       "      <td>616200</td>\n",
       "      <td>497491.666667</td>\n",
       "    </tr>\n",
       "    <tr>\n",
       "      <th>2</th>\n",
       "      <td>94565</td>\n",
       "      <td>Pittsburg</td>\n",
       "      <td>CA</td>\n",
       "      <td>San Francisco</td>\n",
       "      <td>Contra Costa</td>\n",
       "      <td>139200.0</td>\n",
       "      <td>138300.0</td>\n",
       "      <td>137500.0</td>\n",
       "      <td>136600.0</td>\n",
       "      <td>135600.0</td>\n",
       "      <td>...</td>\n",
       "      <td>398400</td>\n",
       "      <td>401600</td>\n",
       "      <td>405400</td>\n",
       "      <td>408600</td>\n",
       "      <td>410900</td>\n",
       "      <td>413700</td>\n",
       "      <td>417900</td>\n",
       "      <td>424300</td>\n",
       "      <td>430100</td>\n",
       "      <td>324933.333333</td>\n",
       "    </tr>\n",
       "    <tr>\n",
       "      <th>7</th>\n",
       "      <td>90044</td>\n",
       "      <td>Los Angeles</td>\n",
       "      <td>CA</td>\n",
       "      <td>Los Angeles-Long Beach-Anaheim</td>\n",
       "      <td>Los Angeles</td>\n",
       "      <td>119500.0</td>\n",
       "      <td>119500.0</td>\n",
       "      <td>119400.0</td>\n",
       "      <td>119300.0</td>\n",
       "      <td>119200.0</td>\n",
       "      <td>...</td>\n",
       "      <td>386900</td>\n",
       "      <td>390600</td>\n",
       "      <td>394300</td>\n",
       "      <td>398600</td>\n",
       "      <td>404200</td>\n",
       "      <td>409700</td>\n",
       "      <td>414300</td>\n",
       "      <td>418500</td>\n",
       "      <td>421100</td>\n",
       "      <td>321008.333333</td>\n",
       "    </tr>\n",
       "    <tr>\n",
       "      <th>8</th>\n",
       "      <td>90805</td>\n",
       "      <td>Long Beach</td>\n",
       "      <td>CA</td>\n",
       "      <td>Los Angeles-Long Beach-Anaheim</td>\n",
       "      <td>Los Angeles</td>\n",
       "      <td>128300.0</td>\n",
       "      <td>128100.0</td>\n",
       "      <td>127800.0</td>\n",
       "      <td>127500.0</td>\n",
       "      <td>127100.0</td>\n",
       "      <td>...</td>\n",
       "      <td>430600</td>\n",
       "      <td>434800</td>\n",
       "      <td>439300</td>\n",
       "      <td>443500</td>\n",
       "      <td>447700</td>\n",
       "      <td>451700</td>\n",
       "      <td>455000</td>\n",
       "      <td>457600</td>\n",
       "      <td>459100</td>\n",
       "      <td>374406.666667</td>\n",
       "    </tr>\n",
       "    <tr>\n",
       "      <th>9</th>\n",
       "      <td>95630</td>\n",
       "      <td>Folsom</td>\n",
       "      <td>CA</td>\n",
       "      <td>Sacramento</td>\n",
       "      <td>Sacramento</td>\n",
       "      <td>190000.0</td>\n",
       "      <td>189300.0</td>\n",
       "      <td>188500.0</td>\n",
       "      <td>187800.0</td>\n",
       "      <td>187300.0</td>\n",
       "      <td>...</td>\n",
       "      <td>529700</td>\n",
       "      <td>529500</td>\n",
       "      <td>531000</td>\n",
       "      <td>533300</td>\n",
       "      <td>537200</td>\n",
       "      <td>542400</td>\n",
       "      <td>544600</td>\n",
       "      <td>544100</td>\n",
       "      <td>542900</td>\n",
       "      <td>477610.000000</td>\n",
       "    </tr>\n",
       "  </tbody>\n",
       "</table>\n",
       "<p>5 rows × 271 columns</p>\n",
       "</div>"
      ],
      "text/plain": [
       "   ZipCode         City State                           Metro    CountyName  \\\n",
       "1    90250    Hawthorne    CA  Los Angeles-Long Beach-Anaheim   Los Angeles   \n",
       "2    94565    Pittsburg    CA                   San Francisco  Contra Costa   \n",
       "7    90044  Los Angeles    CA  Los Angeles-Long Beach-Anaheim   Los Angeles   \n",
       "8    90805   Long Beach    CA  Los Angeles-Long Beach-Anaheim   Los Angeles   \n",
       "9    95630       Folsom    CA                      Sacramento    Sacramento   \n",
       "\n",
       "    1996-04   1996-05   1996-06   1996-07   1996-08  ...  2017-08  2017-09  \\\n",
       "1  152500.0  152600.0  152600.0  152600.0  152600.0  ...   585700   590900   \n",
       "2  139200.0  138300.0  137500.0  136600.0  135600.0  ...   398400   401600   \n",
       "7  119500.0  119500.0  119400.0  119300.0  119200.0  ...   386900   390600   \n",
       "8  128300.0  128100.0  127800.0  127500.0  127100.0  ...   430600   434800   \n",
       "9  190000.0  189300.0  188500.0  187800.0  187300.0  ...   529700   529500   \n",
       "\n",
       "   2017-10  2017-11  2017-12  2018-01  2018-02  2018-03  2018-04  \\\n",
       "1   594700   598500   601300   602800   606100   612400   616200   \n",
       "2   405400   408600   410900   413700   417900   424300   430100   \n",
       "7   394300   398600   404200   409700   414300   418500   421100   \n",
       "8   439300   443500   447700   451700   455000   457600   459100   \n",
       "9   531000   533300   537200   542400   544600   544100   542900   \n",
       "\n",
       "          yr_avg  \n",
       "1  497491.666667  \n",
       "2  324933.333333  \n",
       "7  321008.333333  \n",
       "8  374406.666667  \n",
       "9  477610.000000  \n",
       "\n",
       "[5 rows x 271 columns]"
      ]
     },
     "execution_count": 32,
     "metadata": {},
     "output_type": "execute_result"
    }
   ],
   "source": [
    "df_avg.head()"
   ]
  },
  {
   "cell_type": "code",
   "execution_count": 33,
   "metadata": {
    "ExecuteTime": {
     "end_time": "2021-07-30T17:55:37.135563Z",
     "start_time": "2021-07-30T17:55:37.105543Z"
    }
   },
   "outputs": [
    {
     "data": {
      "text/html": [
       "<div>\n",
       "<style scoped>\n",
       "    .dataframe tbody tr th:only-of-type {\n",
       "        vertical-align: middle;\n",
       "    }\n",
       "\n",
       "    .dataframe tbody tr th {\n",
       "        vertical-align: top;\n",
       "    }\n",
       "\n",
       "    .dataframe thead th {\n",
       "        text-align: right;\n",
       "    }\n",
       "</style>\n",
       "<table border=\"1\" class=\"dataframe\">\n",
       "  <thead>\n",
       "    <tr style=\"text-align: right;\">\n",
       "      <th></th>\n",
       "      <th>ZipCode</th>\n",
       "      <th>std</th>\n",
       "      <th>mean</th>\n",
       "      <th>ROI</th>\n",
       "      <th>CV</th>\n",
       "      <th>CountyName</th>\n",
       "    </tr>\n",
       "  </thead>\n",
       "  <tbody>\n",
       "    <tr>\n",
       "      <th>1</th>\n",
       "      <td>90250</td>\n",
       "      <td>138601.533036</td>\n",
       "      <td>365464.150943</td>\n",
       "      <td>3.040656</td>\n",
       "      <td>0.379248</td>\n",
       "      <td>Los Angeles</td>\n",
       "    </tr>\n",
       "    <tr>\n",
       "      <th>2</th>\n",
       "      <td>94565</td>\n",
       "      <td>104006.852657</td>\n",
       "      <td>263874.339623</td>\n",
       "      <td>2.089799</td>\n",
       "      <td>0.394153</td>\n",
       "      <td>Contra Costa</td>\n",
       "    </tr>\n",
       "    <tr>\n",
       "      <th>7</th>\n",
       "      <td>90044</td>\n",
       "      <td>97293.744047</td>\n",
       "      <td>243829.811321</td>\n",
       "      <td>2.523849</td>\n",
       "      <td>0.399023</td>\n",
       "      <td>Los Angeles</td>\n",
       "    </tr>\n",
       "    <tr>\n",
       "      <th>8</th>\n",
       "      <td>90805</td>\n",
       "      <td>108971.123756</td>\n",
       "      <td>281955.471698</td>\n",
       "      <td>2.578332</td>\n",
       "      <td>0.386483</td>\n",
       "      <td>Los Angeles</td>\n",
       "    </tr>\n",
       "    <tr>\n",
       "      <th>9</th>\n",
       "      <td>95630</td>\n",
       "      <td>106331.603220</td>\n",
       "      <td>373722.264151</td>\n",
       "      <td>1.857368</td>\n",
       "      <td>0.284520</td>\n",
       "      <td>Sacramento</td>\n",
       "    </tr>\n",
       "  </tbody>\n",
       "</table>\n",
       "</div>"
      ],
      "text/plain": [
       "   ZipCode            std           mean       ROI        CV    CountyName\n",
       "1    90250  138601.533036  365464.150943  3.040656  0.379248   Los Angeles\n",
       "2    94565  104006.852657  263874.339623  2.089799  0.394153  Contra Costa\n",
       "7    90044   97293.744047  243829.811321  2.523849  0.399023   Los Angeles\n",
       "8    90805  108971.123756  281955.471698  2.578332  0.386483   Los Angeles\n",
       "9    95630  106331.603220  373722.264151  1.857368  0.284520    Sacramento"
      ]
     },
     "execution_count": 33,
     "metadata": {},
     "output_type": "execute_result"
    }
   ],
   "source": [
    "#Calculate historical return on investment\n",
    "df_avg['ROI'] = (df_avg['2018-04']/df_avg['1996-04'])-1\n",
    "\n",
    "#Calculate standard deviation of monthly values\n",
    "df_avg['std'] = df_avg.loc[:,'1996-04':'2018-04'].std(skipna=True, axis=1)\n",
    "\n",
    "#Calculate historical mean value\n",
    "df_avg['mean'] = df_avg.loc[:,'1996-04':'2018-04'].mean(skipna=True, axis=1)\n",
    "\n",
    "#Calculate coefficient of variation\n",
    "df_avg['CV'] = df_avg['std']/df_avg['mean']\n",
    "\n",
    "#Show calculated values\n",
    "df_avg[['ZipCode','std','mean','ROI','CV','CountyName']].head()"
   ]
  },
  {
   "cell_type": "markdown",
   "metadata": {},
   "source": [
    "Now that we have cut down on variation of home values, let's select the top 12 that we will model.\n",
    "\n",
    "**Define coefficient of Variation** ????"
   ]
  },
  {
   "cell_type": "code",
   "execution_count": 34,
   "metadata": {
    "ExecuteTime": {
     "end_time": "2021-07-30T17:55:37.167569Z",
     "start_time": "2021-07-30T17:55:37.137526Z"
    }
   },
   "outputs": [
    {
     "data": {
      "text/html": [
       "<div>\n",
       "<style scoped>\n",
       "    .dataframe tbody tr th:only-of-type {\n",
       "        vertical-align: middle;\n",
       "    }\n",
       "\n",
       "    .dataframe tbody tr th {\n",
       "        vertical-align: top;\n",
       "    }\n",
       "\n",
       "    .dataframe thead th {\n",
       "        text-align: right;\n",
       "    }\n",
       "</style>\n",
       "<table border=\"1\" class=\"dataframe\">\n",
       "  <thead>\n",
       "    <tr style=\"text-align: right;\">\n",
       "      <th></th>\n",
       "      <th>ZipCode</th>\n",
       "      <th>City</th>\n",
       "      <th>State</th>\n",
       "      <th>Metro</th>\n",
       "      <th>CountyName</th>\n",
       "      <th>1996-04</th>\n",
       "      <th>1996-05</th>\n",
       "      <th>1996-06</th>\n",
       "      <th>1996-07</th>\n",
       "      <th>1996-08</th>\n",
       "      <th>...</th>\n",
       "      <th>2017-12</th>\n",
       "      <th>2018-01</th>\n",
       "      <th>2018-02</th>\n",
       "      <th>2018-03</th>\n",
       "      <th>2018-04</th>\n",
       "      <th>yr_avg</th>\n",
       "      <th>ROI</th>\n",
       "      <th>std</th>\n",
       "      <th>mean</th>\n",
       "      <th>CV</th>\n",
       "    </tr>\n",
       "  </thead>\n",
       "  <tbody>\n",
       "    <tr>\n",
       "      <th>1</th>\n",
       "      <td>90250</td>\n",
       "      <td>Hawthorne</td>\n",
       "      <td>CA</td>\n",
       "      <td>Los Angeles-Long Beach-Anaheim</td>\n",
       "      <td>Los Angeles</td>\n",
       "      <td>152500.0</td>\n",
       "      <td>152600.0</td>\n",
       "      <td>152600.0</td>\n",
       "      <td>152600.0</td>\n",
       "      <td>152600.0</td>\n",
       "      <td>...</td>\n",
       "      <td>601300</td>\n",
       "      <td>602800</td>\n",
       "      <td>606100</td>\n",
       "      <td>612400</td>\n",
       "      <td>616200</td>\n",
       "      <td>497491.666667</td>\n",
       "      <td>3.040656</td>\n",
       "      <td>138601.533036</td>\n",
       "      <td>365464.150943</td>\n",
       "      <td>0.379248</td>\n",
       "    </tr>\n",
       "    <tr>\n",
       "      <th>2</th>\n",
       "      <td>94565</td>\n",
       "      <td>Pittsburg</td>\n",
       "      <td>CA</td>\n",
       "      <td>San Francisco</td>\n",
       "      <td>Contra Costa</td>\n",
       "      <td>139200.0</td>\n",
       "      <td>138300.0</td>\n",
       "      <td>137500.0</td>\n",
       "      <td>136600.0</td>\n",
       "      <td>135600.0</td>\n",
       "      <td>...</td>\n",
       "      <td>410900</td>\n",
       "      <td>413700</td>\n",
       "      <td>417900</td>\n",
       "      <td>424300</td>\n",
       "      <td>430100</td>\n",
       "      <td>324933.333333</td>\n",
       "      <td>2.089799</td>\n",
       "      <td>104006.852657</td>\n",
       "      <td>263874.339623</td>\n",
       "      <td>0.394153</td>\n",
       "    </tr>\n",
       "    <tr>\n",
       "      <th>7</th>\n",
       "      <td>90044</td>\n",
       "      <td>Los Angeles</td>\n",
       "      <td>CA</td>\n",
       "      <td>Los Angeles-Long Beach-Anaheim</td>\n",
       "      <td>Los Angeles</td>\n",
       "      <td>119500.0</td>\n",
       "      <td>119500.0</td>\n",
       "      <td>119400.0</td>\n",
       "      <td>119300.0</td>\n",
       "      <td>119200.0</td>\n",
       "      <td>...</td>\n",
       "      <td>404200</td>\n",
       "      <td>409700</td>\n",
       "      <td>414300</td>\n",
       "      <td>418500</td>\n",
       "      <td>421100</td>\n",
       "      <td>321008.333333</td>\n",
       "      <td>2.523849</td>\n",
       "      <td>97293.744047</td>\n",
       "      <td>243829.811321</td>\n",
       "      <td>0.399023</td>\n",
       "    </tr>\n",
       "    <tr>\n",
       "      <th>8</th>\n",
       "      <td>90805</td>\n",
       "      <td>Long Beach</td>\n",
       "      <td>CA</td>\n",
       "      <td>Los Angeles-Long Beach-Anaheim</td>\n",
       "      <td>Los Angeles</td>\n",
       "      <td>128300.0</td>\n",
       "      <td>128100.0</td>\n",
       "      <td>127800.0</td>\n",
       "      <td>127500.0</td>\n",
       "      <td>127100.0</td>\n",
       "      <td>...</td>\n",
       "      <td>447700</td>\n",
       "      <td>451700</td>\n",
       "      <td>455000</td>\n",
       "      <td>457600</td>\n",
       "      <td>459100</td>\n",
       "      <td>374406.666667</td>\n",
       "      <td>2.578332</td>\n",
       "      <td>108971.123756</td>\n",
       "      <td>281955.471698</td>\n",
       "      <td>0.386483</td>\n",
       "    </tr>\n",
       "    <tr>\n",
       "      <th>9</th>\n",
       "      <td>95630</td>\n",
       "      <td>Folsom</td>\n",
       "      <td>CA</td>\n",
       "      <td>Sacramento</td>\n",
       "      <td>Sacramento</td>\n",
       "      <td>190000.0</td>\n",
       "      <td>189300.0</td>\n",
       "      <td>188500.0</td>\n",
       "      <td>187800.0</td>\n",
       "      <td>187300.0</td>\n",
       "      <td>...</td>\n",
       "      <td>537200</td>\n",
       "      <td>542400</td>\n",
       "      <td>544600</td>\n",
       "      <td>544100</td>\n",
       "      <td>542900</td>\n",
       "      <td>477610.000000</td>\n",
       "      <td>1.857368</td>\n",
       "      <td>106331.603220</td>\n",
       "      <td>373722.264151</td>\n",
       "      <td>0.284520</td>\n",
       "    </tr>\n",
       "  </tbody>\n",
       "</table>\n",
       "<p>5 rows × 275 columns</p>\n",
       "</div>"
      ],
      "text/plain": [
       "   ZipCode         City State                           Metro    CountyName  \\\n",
       "1    90250    Hawthorne    CA  Los Angeles-Long Beach-Anaheim   Los Angeles   \n",
       "2    94565    Pittsburg    CA                   San Francisco  Contra Costa   \n",
       "7    90044  Los Angeles    CA  Los Angeles-Long Beach-Anaheim   Los Angeles   \n",
       "8    90805   Long Beach    CA  Los Angeles-Long Beach-Anaheim   Los Angeles   \n",
       "9    95630       Folsom    CA                      Sacramento    Sacramento   \n",
       "\n",
       "    1996-04   1996-05   1996-06   1996-07   1996-08  ...  2017-12  2018-01  \\\n",
       "1  152500.0  152600.0  152600.0  152600.0  152600.0  ...   601300   602800   \n",
       "2  139200.0  138300.0  137500.0  136600.0  135600.0  ...   410900   413700   \n",
       "7  119500.0  119500.0  119400.0  119300.0  119200.0  ...   404200   409700   \n",
       "8  128300.0  128100.0  127800.0  127500.0  127100.0  ...   447700   451700   \n",
       "9  190000.0  189300.0  188500.0  187800.0  187300.0  ...   537200   542400   \n",
       "\n",
       "   2018-02  2018-03  2018-04         yr_avg       ROI            std  \\\n",
       "1   606100   612400   616200  497491.666667  3.040656  138601.533036   \n",
       "2   417900   424300   430100  324933.333333  2.089799  104006.852657   \n",
       "7   414300   418500   421100  321008.333333  2.523849   97293.744047   \n",
       "8   455000   457600   459100  374406.666667  2.578332  108971.123756   \n",
       "9   544600   544100   542900  477610.000000  1.857368  106331.603220   \n",
       "\n",
       "            mean        CV  \n",
       "1  365464.150943  0.379248  \n",
       "2  263874.339623  0.394153  \n",
       "7  243829.811321  0.399023  \n",
       "8  281955.471698  0.386483  \n",
       "9  373722.264151  0.284520  \n",
       "\n",
       "[5 rows x 275 columns]"
      ]
     },
     "execution_count": 34,
     "metadata": {},
     "output_type": "execute_result"
    }
   ],
   "source": [
    "df_avg.head()"
   ]
  },
  {
   "cell_type": "code",
   "execution_count": 35,
   "metadata": {
    "ExecuteTime": {
     "end_time": "2021-07-30T17:55:37.183571Z",
     "start_time": "2021-07-30T17:55:37.169526Z"
    }
   },
   "outputs": [
    {
     "data": {
      "text/plain": [
       "CountyName\n",
       "Los Angeles       417.783995\n",
       "San Diego         147.088794\n",
       "Orange             88.679465\n",
       "Riverside          52.076472\n",
       "Alameda            43.304672\n",
       "Sacramento         42.831200\n",
       "Ventura            41.095536\n",
       "San Bernardino     39.613757\n",
       "Sonoma             37.354402\n",
       "Placer             36.219020\n",
       "Name: ROI, dtype: float64"
      ]
     },
     "execution_count": 35,
     "metadata": {},
     "output_type": "execute_result"
    }
   ],
   "source": [
    "#find out the top 10 couties with highest ROI\n",
    "grp_county = df_avg.groupby('CountyName', group_keys=False).sum()['ROI']\n",
    "grp_county.sort_values(ascending=False)[:10]\n",
    "\n",
    "# sorted(round(grouped_county,2), reverse=True)[:10]"
   ]
  },
  {
   "cell_type": "code",
   "execution_count": 36,
   "metadata": {
    "ExecuteTime": {
     "end_time": "2021-07-30T17:55:37.199578Z",
     "start_time": "2021-07-30T17:55:37.185522Z"
    }
   },
   "outputs": [
    {
     "data": {
      "text/plain": [
       "Index(['Los Angeles', 'San Diego', 'Orange', 'Riverside', 'Alameda',\n",
       "       'Sacramento', 'Ventura', 'San Bernardino', 'Sonoma', 'Placer'],\n",
       "      dtype='object', name='CountyName')"
      ]
     },
     "execution_count": 36,
     "metadata": {},
     "output_type": "execute_result"
    }
   ],
   "source": [
    "grp_county.sort_values(ascending=False)[:10].keys() "
   ]
  },
  {
   "cell_type": "code",
   "execution_count": null,
   "metadata": {
    "ExecuteTime": {
     "end_time": "2021-07-29T19:18:14.073246Z",
     "start_time": "2021-07-29T19:18:14.057819Z"
    }
   },
   "outputs": [],
   "source": []
  },
  {
   "cell_type": "code",
   "execution_count": 37,
   "metadata": {
    "ExecuteTime": {
     "end_time": "2021-07-30T17:55:37.215524Z",
     "start_time": "2021-07-30T17:55:37.202539Z"
    }
   },
   "outputs": [],
   "source": [
    "# #Descriptive statistics of coefficients of variance.\n",
    "# print(df_avg.CV.describe())\n",
    "\n",
    "# #Define upper limit of CV according to risk profile.\n",
    "# upper_cv = df_avg.CV.quantile(.6)\n",
    "# print(f'\\nCV upper limit: {upper_cv}')\n",
    "\n",
    "# #Get the 10 zipcodes with highest ROIs within the firms risk profile.\n",
    "# df_top10 = df_avg[df_avg['CV']<upper_cv].sort_values('ROI',axis=0,ascending=False)[:10]\n",
    "\n",
    "\n",
    "# #Get the 10 counties with highest ROIs within the firms risk profile.\n",
    "# top10_county_df = df_avg[df_avg['CV']<upper_cv].sort_values('ROI', axis=0, ascending=False)[:10]\n",
    "\n",
    "# #print('\\n Top 12 Zipcodes:')\n",
    "# df_top10[['ZipCode','ROI','CV', 'CountyName']]"
   ]
  },
  {
   "cell_type": "code",
   "execution_count": 38,
   "metadata": {
    "ExecuteTime": {
     "end_time": "2021-07-30T17:55:37.247568Z",
     "start_time": "2021-07-30T17:55:37.217524Z"
    }
   },
   "outputs": [
    {
     "data": {
      "text/html": [
       "<div>\n",
       "<style scoped>\n",
       "    .dataframe tbody tr th:only-of-type {\n",
       "        vertical-align: middle;\n",
       "    }\n",
       "\n",
       "    .dataframe tbody tr th {\n",
       "        vertical-align: top;\n",
       "    }\n",
       "\n",
       "    .dataframe thead th {\n",
       "        text-align: right;\n",
       "    }\n",
       "</style>\n",
       "<table border=\"1\" class=\"dataframe\">\n",
       "  <thead>\n",
       "    <tr style=\"text-align: right;\">\n",
       "      <th></th>\n",
       "      <th>ZipCode</th>\n",
       "      <th>City</th>\n",
       "      <th>State</th>\n",
       "      <th>Metro</th>\n",
       "      <th>CountyName</th>\n",
       "      <th>1996-04</th>\n",
       "      <th>1996-05</th>\n",
       "      <th>1996-06</th>\n",
       "      <th>1996-07</th>\n",
       "      <th>1996-08</th>\n",
       "      <th>...</th>\n",
       "      <th>2017-12</th>\n",
       "      <th>2018-01</th>\n",
       "      <th>2018-02</th>\n",
       "      <th>2018-03</th>\n",
       "      <th>2018-04</th>\n",
       "      <th>yr_avg</th>\n",
       "      <th>ROI</th>\n",
       "      <th>std</th>\n",
       "      <th>mean</th>\n",
       "      <th>CV</th>\n",
       "    </tr>\n",
       "  </thead>\n",
       "  <tbody>\n",
       "    <tr>\n",
       "      <th>205</th>\n",
       "      <td>93446</td>\n",
       "      <td>Paso Robles</td>\n",
       "      <td>CA</td>\n",
       "      <td>San Luis Obispo</td>\n",
       "      <td>San Luis Obispo</td>\n",
       "      <td>149100.0</td>\n",
       "      <td>148800.0</td>\n",
       "      <td>148600.0</td>\n",
       "      <td>148300.0</td>\n",
       "      <td>147900.0</td>\n",
       "      <td>...</td>\n",
       "      <td>485900</td>\n",
       "      <td>489100</td>\n",
       "      <td>492700</td>\n",
       "      <td>496500</td>\n",
       "      <td>497900</td>\n",
       "      <td>418585.000000</td>\n",
       "      <td>2.339370</td>\n",
       "      <td>108020.566193</td>\n",
       "      <td>330189.056604</td>\n",
       "      <td>0.327148</td>\n",
       "    </tr>\n",
       "    <tr>\n",
       "      <th>501</th>\n",
       "      <td>93422</td>\n",
       "      <td>Atascadero</td>\n",
       "      <td>CA</td>\n",
       "      <td>San Luis Obispo</td>\n",
       "      <td>San Luis Obispo</td>\n",
       "      <td>169300.0</td>\n",
       "      <td>169200.0</td>\n",
       "      <td>169000.0</td>\n",
       "      <td>168900.0</td>\n",
       "      <td>168800.0</td>\n",
       "      <td>...</td>\n",
       "      <td>521100</td>\n",
       "      <td>524100</td>\n",
       "      <td>528000</td>\n",
       "      <td>532700</td>\n",
       "      <td>534600</td>\n",
       "      <td>452591.666667</td>\n",
       "      <td>2.157708</td>\n",
       "      <td>118002.769637</td>\n",
       "      <td>367505.660377</td>\n",
       "      <td>0.321091</td>\n",
       "    </tr>\n",
       "    <tr>\n",
       "      <th>523</th>\n",
       "      <td>93420</td>\n",
       "      <td>Arroyo Grande</td>\n",
       "      <td>CA</td>\n",
       "      <td>San Luis Obispo</td>\n",
       "      <td>San Luis Obispo</td>\n",
       "      <td>200000.0</td>\n",
       "      <td>200400.0</td>\n",
       "      <td>200900.0</td>\n",
       "      <td>201600.0</td>\n",
       "      <td>202200.0</td>\n",
       "      <td>...</td>\n",
       "      <td>687000</td>\n",
       "      <td>689300</td>\n",
       "      <td>692600</td>\n",
       "      <td>697400</td>\n",
       "      <td>699400</td>\n",
       "      <td>609535.000000</td>\n",
       "      <td>2.497000</td>\n",
       "      <td>160867.203966</td>\n",
       "      <td>485726.037736</td>\n",
       "      <td>0.331189</td>\n",
       "    </tr>\n",
       "    <tr>\n",
       "      <th>709</th>\n",
       "      <td>93405</td>\n",
       "      <td>San Luis Obispo</td>\n",
       "      <td>CA</td>\n",
       "      <td>San Luis Obispo</td>\n",
       "      <td>San Luis Obispo</td>\n",
       "      <td>181000.0</td>\n",
       "      <td>181700.0</td>\n",
       "      <td>182500.0</td>\n",
       "      <td>183300.0</td>\n",
       "      <td>184300.0</td>\n",
       "      <td>...</td>\n",
       "      <td>706900</td>\n",
       "      <td>709700</td>\n",
       "      <td>717900</td>\n",
       "      <td>728500</td>\n",
       "      <td>733400</td>\n",
       "      <td>652610.000000</td>\n",
       "      <td>3.051934</td>\n",
       "      <td>161513.696118</td>\n",
       "      <td>492692.452830</td>\n",
       "      <td>0.327818</td>\n",
       "    </tr>\n",
       "    <tr>\n",
       "      <th>739</th>\n",
       "      <td>93444</td>\n",
       "      <td>Nipomo</td>\n",
       "      <td>CA</td>\n",
       "      <td>San Luis Obispo</td>\n",
       "      <td>San Luis Obispo</td>\n",
       "      <td>185400.0</td>\n",
       "      <td>186600.0</td>\n",
       "      <td>187900.0</td>\n",
       "      <td>189300.0</td>\n",
       "      <td>190900.0</td>\n",
       "      <td>...</td>\n",
       "      <td>608300</td>\n",
       "      <td>608900</td>\n",
       "      <td>610400</td>\n",
       "      <td>610800</td>\n",
       "      <td>608400</td>\n",
       "      <td>528081.666667</td>\n",
       "      <td>2.281553</td>\n",
       "      <td>138581.362378</td>\n",
       "      <td>435244.905660</td>\n",
       "      <td>0.318399</td>\n",
       "    </tr>\n",
       "    <tr>\n",
       "      <th>857</th>\n",
       "      <td>93402</td>\n",
       "      <td>Los Osos</td>\n",
       "      <td>CA</td>\n",
       "      <td>San Luis Obispo</td>\n",
       "      <td>San Luis Obispo</td>\n",
       "      <td>157800.0</td>\n",
       "      <td>156900.0</td>\n",
       "      <td>156000.0</td>\n",
       "      <td>155100.0</td>\n",
       "      <td>154500.0</td>\n",
       "      <td>...</td>\n",
       "      <td>551600</td>\n",
       "      <td>550300</td>\n",
       "      <td>549600</td>\n",
       "      <td>549700</td>\n",
       "      <td>548600</td>\n",
       "      <td>461606.666667</td>\n",
       "      <td>2.476553</td>\n",
       "      <td>118570.293209</td>\n",
       "      <td>360920.377358</td>\n",
       "      <td>0.328522</td>\n",
       "    </tr>\n",
       "    <tr>\n",
       "      <th>884</th>\n",
       "      <td>93442</td>\n",
       "      <td>Morro Bay</td>\n",
       "      <td>CA</td>\n",
       "      <td>San Luis Obispo</td>\n",
       "      <td>San Luis Obispo</td>\n",
       "      <td>175800.0</td>\n",
       "      <td>175700.0</td>\n",
       "      <td>175600.0</td>\n",
       "      <td>175700.0</td>\n",
       "      <td>175900.0</td>\n",
       "      <td>...</td>\n",
       "      <td>642900</td>\n",
       "      <td>645500</td>\n",
       "      <td>648600</td>\n",
       "      <td>652500</td>\n",
       "      <td>653200</td>\n",
       "      <td>539821.666667</td>\n",
       "      <td>2.715586</td>\n",
       "      <td>144775.650804</td>\n",
       "      <td>427627.924528</td>\n",
       "      <td>0.338555</td>\n",
       "    </tr>\n",
       "    <tr>\n",
       "      <th>887</th>\n",
       "      <td>93433</td>\n",
       "      <td>Grover Beach</td>\n",
       "      <td>CA</td>\n",
       "      <td>San Luis Obispo</td>\n",
       "      <td>San Luis Obispo</td>\n",
       "      <td>147200.0</td>\n",
       "      <td>146700.0</td>\n",
       "      <td>146200.0</td>\n",
       "      <td>145800.0</td>\n",
       "      <td>145500.0</td>\n",
       "      <td>...</td>\n",
       "      <td>515700</td>\n",
       "      <td>514900</td>\n",
       "      <td>516200</td>\n",
       "      <td>519500</td>\n",
       "      <td>519600</td>\n",
       "      <td>442816.666667</td>\n",
       "      <td>2.529891</td>\n",
       "      <td>118366.263343</td>\n",
       "      <td>349582.264151</td>\n",
       "      <td>0.338593</td>\n",
       "    </tr>\n",
       "    <tr>\n",
       "      <th>940</th>\n",
       "      <td>93465</td>\n",
       "      <td>Templeton</td>\n",
       "      <td>CA</td>\n",
       "      <td>San Luis Obispo</td>\n",
       "      <td>San Luis Obispo</td>\n",
       "      <td>182600.0</td>\n",
       "      <td>182800.0</td>\n",
       "      <td>183200.0</td>\n",
       "      <td>183600.0</td>\n",
       "      <td>184100.0</td>\n",
       "      <td>...</td>\n",
       "      <td>629900</td>\n",
       "      <td>631900</td>\n",
       "      <td>635800</td>\n",
       "      <td>642000</td>\n",
       "      <td>646100</td>\n",
       "      <td>531740.000000</td>\n",
       "      <td>2.538335</td>\n",
       "      <td>137610.810025</td>\n",
       "      <td>435135.849057</td>\n",
       "      <td>0.316248</td>\n",
       "    </tr>\n",
       "    <tr>\n",
       "      <th>977</th>\n",
       "      <td>93428</td>\n",
       "      <td>Cambria</td>\n",
       "      <td>CA</td>\n",
       "      <td>San Luis Obispo</td>\n",
       "      <td>San Luis Obispo</td>\n",
       "      <td>223400.0</td>\n",
       "      <td>223100.0</td>\n",
       "      <td>223000.0</td>\n",
       "      <td>222900.0</td>\n",
       "      <td>223000.0</td>\n",
       "      <td>...</td>\n",
       "      <td>685600</td>\n",
       "      <td>685400</td>\n",
       "      <td>689600</td>\n",
       "      <td>697700</td>\n",
       "      <td>702800</td>\n",
       "      <td>604348.333333</td>\n",
       "      <td>2.145927</td>\n",
       "      <td>159120.458380</td>\n",
       "      <td>502614.716981</td>\n",
       "      <td>0.316585</td>\n",
       "    </tr>\n",
       "    <tr>\n",
       "      <th>1047</th>\n",
       "      <td>93445</td>\n",
       "      <td>Oceano</td>\n",
       "      <td>CA</td>\n",
       "      <td>San Luis Obispo</td>\n",
       "      <td>San Luis Obispo</td>\n",
       "      <td>132300.0</td>\n",
       "      <td>132000.0</td>\n",
       "      <td>131700.0</td>\n",
       "      <td>131400.0</td>\n",
       "      <td>131100.0</td>\n",
       "      <td>...</td>\n",
       "      <td>454700</td>\n",
       "      <td>455000</td>\n",
       "      <td>454600</td>\n",
       "      <td>452800</td>\n",
       "      <td>451700</td>\n",
       "      <td>389193.333333</td>\n",
       "      <td>2.414210</td>\n",
       "      <td>109307.710885</td>\n",
       "      <td>310760.377358</td>\n",
       "      <td>0.351743</td>\n",
       "    </tr>\n",
       "    <tr>\n",
       "      <th>1126</th>\n",
       "      <td>93453</td>\n",
       "      <td>Simmler</td>\n",
       "      <td>CA</td>\n",
       "      <td>San Luis Obispo</td>\n",
       "      <td>San Luis Obispo</td>\n",
       "      <td>142600.0</td>\n",
       "      <td>142800.0</td>\n",
       "      <td>143000.0</td>\n",
       "      <td>143200.0</td>\n",
       "      <td>143500.0</td>\n",
       "      <td>...</td>\n",
       "      <td>474000</td>\n",
       "      <td>482100</td>\n",
       "      <td>491200</td>\n",
       "      <td>493400</td>\n",
       "      <td>488100</td>\n",
       "      <td>420715.000000</td>\n",
       "      <td>2.422861</td>\n",
       "      <td>114844.361687</td>\n",
       "      <td>339054.716981</td>\n",
       "      <td>0.338719</td>\n",
       "    </tr>\n",
       "    <tr>\n",
       "      <th>1174</th>\n",
       "      <td>93426</td>\n",
       "      <td>Bradley</td>\n",
       "      <td>CA</td>\n",
       "      <td>San Luis Obispo</td>\n",
       "      <td>San Luis Obispo</td>\n",
       "      <td>150000.0</td>\n",
       "      <td>149900.0</td>\n",
       "      <td>149900.0</td>\n",
       "      <td>149800.0</td>\n",
       "      <td>149800.0</td>\n",
       "      <td>...</td>\n",
       "      <td>414700</td>\n",
       "      <td>415300</td>\n",
       "      <td>419200</td>\n",
       "      <td>426100</td>\n",
       "      <td>432200</td>\n",
       "      <td>354645.000000</td>\n",
       "      <td>1.881333</td>\n",
       "      <td>104086.236954</td>\n",
       "      <td>318516.603774</td>\n",
       "      <td>0.326784</td>\n",
       "    </tr>\n",
       "  </tbody>\n",
       "</table>\n",
       "<p>13 rows × 275 columns</p>\n",
       "</div>"
      ],
      "text/plain": [
       "      ZipCode             City State            Metro       CountyName  \\\n",
       "205     93446      Paso Robles    CA  San Luis Obispo  San Luis Obispo   \n",
       "501     93422       Atascadero    CA  San Luis Obispo  San Luis Obispo   \n",
       "523     93420    Arroyo Grande    CA  San Luis Obispo  San Luis Obispo   \n",
       "709     93405  San Luis Obispo    CA  San Luis Obispo  San Luis Obispo   \n",
       "739     93444           Nipomo    CA  San Luis Obispo  San Luis Obispo   \n",
       "857     93402         Los Osos    CA  San Luis Obispo  San Luis Obispo   \n",
       "884     93442        Morro Bay    CA  San Luis Obispo  San Luis Obispo   \n",
       "887     93433     Grover Beach    CA  San Luis Obispo  San Luis Obispo   \n",
       "940     93465        Templeton    CA  San Luis Obispo  San Luis Obispo   \n",
       "977     93428          Cambria    CA  San Luis Obispo  San Luis Obispo   \n",
       "1047    93445           Oceano    CA  San Luis Obispo  San Luis Obispo   \n",
       "1126    93453          Simmler    CA  San Luis Obispo  San Luis Obispo   \n",
       "1174    93426          Bradley    CA  San Luis Obispo  San Luis Obispo   \n",
       "\n",
       "       1996-04   1996-05   1996-06   1996-07   1996-08  ...  2017-12  2018-01  \\\n",
       "205   149100.0  148800.0  148600.0  148300.0  147900.0  ...   485900   489100   \n",
       "501   169300.0  169200.0  169000.0  168900.0  168800.0  ...   521100   524100   \n",
       "523   200000.0  200400.0  200900.0  201600.0  202200.0  ...   687000   689300   \n",
       "709   181000.0  181700.0  182500.0  183300.0  184300.0  ...   706900   709700   \n",
       "739   185400.0  186600.0  187900.0  189300.0  190900.0  ...   608300   608900   \n",
       "857   157800.0  156900.0  156000.0  155100.0  154500.0  ...   551600   550300   \n",
       "884   175800.0  175700.0  175600.0  175700.0  175900.0  ...   642900   645500   \n",
       "887   147200.0  146700.0  146200.0  145800.0  145500.0  ...   515700   514900   \n",
       "940   182600.0  182800.0  183200.0  183600.0  184100.0  ...   629900   631900   \n",
       "977   223400.0  223100.0  223000.0  222900.0  223000.0  ...   685600   685400   \n",
       "1047  132300.0  132000.0  131700.0  131400.0  131100.0  ...   454700   455000   \n",
       "1126  142600.0  142800.0  143000.0  143200.0  143500.0  ...   474000   482100   \n",
       "1174  150000.0  149900.0  149900.0  149800.0  149800.0  ...   414700   415300   \n",
       "\n",
       "      2018-02  2018-03  2018-04         yr_avg       ROI            std  \\\n",
       "205    492700   496500   497900  418585.000000  2.339370  108020.566193   \n",
       "501    528000   532700   534600  452591.666667  2.157708  118002.769637   \n",
       "523    692600   697400   699400  609535.000000  2.497000  160867.203966   \n",
       "709    717900   728500   733400  652610.000000  3.051934  161513.696118   \n",
       "739    610400   610800   608400  528081.666667  2.281553  138581.362378   \n",
       "857    549600   549700   548600  461606.666667  2.476553  118570.293209   \n",
       "884    648600   652500   653200  539821.666667  2.715586  144775.650804   \n",
       "887    516200   519500   519600  442816.666667  2.529891  118366.263343   \n",
       "940    635800   642000   646100  531740.000000  2.538335  137610.810025   \n",
       "977    689600   697700   702800  604348.333333  2.145927  159120.458380   \n",
       "1047   454600   452800   451700  389193.333333  2.414210  109307.710885   \n",
       "1126   491200   493400   488100  420715.000000  2.422861  114844.361687   \n",
       "1174   419200   426100   432200  354645.000000  1.881333  104086.236954   \n",
       "\n",
       "               mean        CV  \n",
       "205   330189.056604  0.327148  \n",
       "501   367505.660377  0.321091  \n",
       "523   485726.037736  0.331189  \n",
       "709   492692.452830  0.327818  \n",
       "739   435244.905660  0.318399  \n",
       "857   360920.377358  0.328522  \n",
       "884   427627.924528  0.338555  \n",
       "887   349582.264151  0.338593  \n",
       "940   435135.849057  0.316248  \n",
       "977   502614.716981  0.316585  \n",
       "1047  310760.377358  0.351743  \n",
       "1126  339054.716981  0.338719  \n",
       "1174  318516.603774  0.326784  \n",
       "\n",
       "[13 rows x 275 columns]"
      ]
     },
     "execution_count": 38,
     "metadata": {},
     "output_type": "execute_result"
    }
   ],
   "source": [
    "df_avg.loc[df_avg['CountyName'] == 'San Luis Obispo']"
   ]
  },
  {
   "cell_type": "code",
   "execution_count": 39,
   "metadata": {
    "ExecuteTime": {
     "end_time": "2021-07-30T17:55:37.279622Z",
     "start_time": "2021-07-30T17:55:37.249537Z"
    }
   },
   "outputs": [
    {
     "name": "stdout",
     "output_type": "stream",
     "text": [
      "count    490.000000\n",
      "mean       0.342695\n",
      "std        0.045802\n",
      "min        0.062004\n",
      "25%        0.316948\n",
      "50%        0.343743\n",
      "75%        0.367369\n",
      "max        0.496292\n",
      "Name: CV, dtype: float64\n",
      "\n",
      "CV upper limit: 0.352771200684699\n"
     ]
    },
    {
     "data": {
      "text/plain": [
       "CountyName\n",
       "San Diego          104.081896\n",
       "Los Angeles         87.476996\n",
       "Sonoma              37.354402\n",
       "Placer              36.219020\n",
       "Orange              36.115044\n",
       "Riverside           36.059404\n",
       "San Luis Obispo     31.452261\n",
       "Sacramento          31.424705\n",
       "Ventura             27.954180\n",
       "Alameda             20.937883\n",
       "Name: ROI, dtype: float64"
      ]
     },
     "execution_count": 39,
     "metadata": {},
     "output_type": "execute_result"
    }
   ],
   "source": [
    "#Descriptive statistics of coefficients of variance.\n",
    "print(df_avg.CV.describe())\n",
    "\n",
    "#Define upper limit of CV according to risk profile.\n",
    "upper_cv = df_avg.CV.quantile(.6)\n",
    "print(f'\\nCV upper limit: {upper_cv}')\n",
    "\n",
    "#Get the 10 zipcodes with highest ROIs within the firms risk profile.\n",
    "# df_top10 = df_avg[df_avg['CV']<upper_cv].sort_values('ROI',axis=0,ascending=False)\n",
    "\n",
    "\n",
    "#Get the 10 counties with highest ROIs within the firms risk profile.\n",
    "df_top10 = df_avg[df_avg['CV']<upper_cv].sort_values('ROI', axis=0, ascending=False)\n",
    "\n",
    "#find out the top 10 couties with highest ROI\n",
    "grp_county = df_top10.groupby('CountyName').sum()['ROI']\n",
    "grp_county.sort_values(ascending=False)[:10]"
   ]
  },
  {
   "cell_type": "markdown",
   "metadata": {},
   "source": [
    "Now for each county lets look into the zipcode with the highest ROI value and move onto the time series analysis\n"
   ]
  },
  {
   "cell_type": "code",
   "execution_count": 40,
   "metadata": {
    "ExecuteTime": {
     "end_time": "2021-07-30T17:55:37.295525Z",
     "start_time": "2021-07-30T17:55:37.281522Z"
    }
   },
   "outputs": [],
   "source": [
    "# top10_county = ['San Diego', 'Los Angeles', 'Sonoma', 'Placer', 'Orange', \n",
    "#                 'Riverside', 'San Luis Obispo', 'Sacramento', 'Ventura', \n",
    "#                 'Alameda']"
   ]
  },
  {
   "cell_type": "code",
   "execution_count": 41,
   "metadata": {
    "ExecuteTime": {
     "end_time": "2021-07-30T17:55:37.311669Z",
     "start_time": "2021-07-30T17:55:37.298528Z"
    }
   },
   "outputs": [
    {
     "data": {
      "text/plain": [
       "['San Diego',\n",
       " 'Los Angeles',\n",
       " 'Sonoma',\n",
       " 'Placer',\n",
       " 'Orange',\n",
       " 'Riverside',\n",
       " 'San Luis Obispo',\n",
       " 'Sacramento',\n",
       " 'Ventura',\n",
       " 'Alameda']"
      ]
     },
     "execution_count": 41,
     "metadata": {},
     "output_type": "execute_result"
    }
   ],
   "source": [
    "top10_county = list(grp_county.sort_values(ascending=False)[:10].index)\n",
    "top10_county"
   ]
  },
  {
   "cell_type": "code",
   "execution_count": 42,
   "metadata": {
    "ExecuteTime": {
     "end_time": "2021-07-30T17:55:37.327395Z",
     "start_time": "2021-07-30T17:55:37.315331Z"
    }
   },
   "outputs": [
    {
     "data": {
      "text/plain": [
       "(294, 275)"
      ]
     },
     "execution_count": 42,
     "metadata": {},
     "output_type": "execute_result"
    }
   ],
   "source": [
    "df_top10.shape"
   ]
  },
  {
   "cell_type": "code",
   "execution_count": 43,
   "metadata": {
    "ExecuteTime": {
     "end_time": "2021-07-30T17:55:37.343400Z",
     "start_time": "2021-07-30T17:55:37.330328Z"
    },
    "scrolled": true
   },
   "outputs": [
    {
     "data": {
      "text/plain": [
       "(204, 275)"
      ]
     },
     "execution_count": 43,
     "metadata": {},
     "output_type": "execute_result"
    }
   ],
   "source": [
    "df_top10 = df_top10.loc[df_top10['CountyName'].isin(top10_county)]\n",
    "df_top10.shape"
   ]
  },
  {
   "cell_type": "code",
   "execution_count": 44,
   "metadata": {
    "ExecuteTime": {
     "end_time": "2021-07-30T17:55:37.359448Z",
     "start_time": "2021-07-30T17:55:37.346535Z"
    },
    "scrolled": true
   },
   "outputs": [
    {
     "data": {
      "text/plain": [
       "San Diego          44\n",
       "Los Angeles        40\n",
       "Riverside          21\n",
       "Placer             18\n",
       "Sacramento         17\n",
       "Sonoma             16\n",
       "Orange             14\n",
       "San Luis Obispo    13\n",
       "Ventura            13\n",
       "Alameda             8\n",
       "Name: CountyName, dtype: int64"
      ]
     },
     "execution_count": 44,
     "metadata": {},
     "output_type": "execute_result"
    }
   ],
   "source": [
    "df_top10['CountyName'].value_counts()"
   ]
  },
  {
   "cell_type": "code",
   "execution_count": 45,
   "metadata": {
    "ExecuteTime": {
     "end_time": "2021-07-30T17:55:37.390455Z",
     "start_time": "2021-07-30T17:55:37.362531Z"
    }
   },
   "outputs": [
    {
     "data": {
      "text/plain": [
       "CountyName\n",
       "Alameda            3.095776\n",
       "Los Angeles        2.778128\n",
       "Orange             3.075993\n",
       "Placer             3.042790\n",
       "Riverside          2.313076\n",
       "Sacramento         2.915972\n",
       "San Diego          3.439456\n",
       "San Luis Obispo    3.051934\n",
       "Sonoma             2.591224\n",
       "Ventura            2.549803\n",
       "Name: ROI, dtype: float64"
      ]
     },
     "execution_count": 45,
     "metadata": {},
     "output_type": "execute_result"
    }
   ],
   "source": [
    "df_top10.groupby('CountyName').max()['ROI']"
   ]
  },
  {
   "cell_type": "code",
   "execution_count": 46,
   "metadata": {
    "ExecuteTime": {
     "end_time": "2021-07-30T17:55:37.405550Z",
     "start_time": "2021-07-30T17:55:37.393459Z"
    }
   },
   "outputs": [
    {
     "data": {
      "text/plain": [
       "ZipCode       0\n",
       "City          0\n",
       "State         0\n",
       "Metro         0\n",
       "CountyName    0\n",
       "             ..\n",
       "yr_avg        0\n",
       "ROI           3\n",
       "std           0\n",
       "mean          0\n",
       "CV            0\n",
       "Length: 275, dtype: int64"
      ]
     },
     "execution_count": 46,
     "metadata": {},
     "output_type": "execute_result"
    }
   ],
   "source": [
    "df_top10.isna().sum()"
   ]
  },
  {
   "cell_type": "code",
   "execution_count": 47,
   "metadata": {
    "ExecuteTime": {
     "end_time": "2021-07-30T17:55:37.437578Z",
     "start_time": "2021-07-30T17:55:37.407554Z"
    }
   },
   "outputs": [
    {
     "name": "stdout",
     "output_type": "stream",
     "text": [
      "County : San Diego \n",
      "City: San Diego, Zipcode: 92101, Metro: San Diego\n",
      "\n",
      "County : Los Angeles \n",
      "City: Torrance, Zipcode: 90504, Metro: Los Angeles-Long Beach-Anaheim\n",
      "\n",
      "County : Sonoma \n",
      "City: Guerneville, Zipcode: 95446, Metro: Santa Rosa\n",
      "\n",
      "County : Placer \n",
      "City: Homewood, Zipcode: 96141, Metro: Sacramento\n",
      "\n",
      "County : Orange \n",
      "City: Orange, Zipcode: 92866, Metro: Los Angeles-Long Beach-Anaheim\n",
      "\n",
      "County : Riverside \n",
      "City: Norco, Zipcode: 92860, Metro: Riverside\n",
      "\n",
      "County : San Luis Obispo \n",
      "City: San Luis Obispo, Zipcode: 93405, Metro: San Luis Obispo\n",
      "\n",
      "County : Sacramento \n",
      "City: Sacramento, Zipcode: 95818, Metro: Sacramento\n",
      "\n",
      "County : Ventura \n",
      "City: Ojai, Zipcode: 93023, Metro: Ventura\n",
      "\n",
      "County : Alameda \n",
      "City: San Leandro, Zipcode: 94577, Metro: San Francisco\n",
      "\n"
     ]
    }
   ],
   "source": [
    "#Get city and state names for each zip code\n",
    "# top10_county = ['San Diego', 'Los Angeles', 'Sonoma', 'Placer', 'Orange', \n",
    "#                 'Riverside', 'San Luis Obispo ', 'Sacramento', 'Ventura', \n",
    "#                 'Alameda']\n",
    "ziplist = []\n",
    "for i in top10_county:\n",
    "    City = df_top10[df_top10['CountyName']==i].City.values[0]\n",
    "    Metro = df_top10[df_top10['CountyName']==i].Metro.values[0]\n",
    "    Zipcode = df_top10[df_top10['CountyName']==i].ZipCode.values[0]\n",
    "    ziplist.append(Zipcode)\n",
    "    print(f'County : {i} \\nCity: {City}, Zipcode: {Zipcode}, Metro: {Metro}\\n')"
   ]
  },
  {
   "cell_type": "markdown",
   "metadata": {},
   "source": [
    "## San Diego: Zipcode 92101"
   ]
  },
  {
   "cell_type": "code",
   "execution_count": 48,
   "metadata": {
    "ExecuteTime": {
     "end_time": "2021-07-30T17:55:37.453569Z",
     "start_time": "2021-07-30T17:55:37.439552Z"
    }
   },
   "outputs": [],
   "source": [
    "ziplist = ['92101', '90504', '95446', '96141', '92866', '92860', '93405', '95818', '93023', '94577']"
   ]
  },
  {
   "cell_type": "code",
   "execution_count": 49,
   "metadata": {
    "ExecuteTime": {
     "end_time": "2021-07-30T17:55:37.720739Z",
     "start_time": "2021-07-30T17:55:37.455553Z"
    }
   },
   "outputs": [],
   "source": [
    "ts = {}\n",
    "for zc in ziplist:\n",
    "    temp_df = melted_df.groupby('ZipCode').get_group(zc).sort_index()['value']\n",
    "    ts[zc] = temp_df"
   ]
  },
  {
   "cell_type": "code",
   "execution_count": 50,
   "metadata": {
    "ExecuteTime": {
     "end_time": "2021-07-30T17:55:37.752737Z",
     "start_time": "2021-07-30T17:55:37.722694Z"
    }
   },
   "outputs": [
    {
     "data": {
      "text/plain": [
       "{'92101': Date\n",
       " 1996-04-01    147000.0\n",
       " 1996-05-01    147400.0\n",
       " 1996-06-01    147700.0\n",
       " 1996-07-01    148100.0\n",
       " 1996-08-01    148500.0\n",
       "                 ...   \n",
       " 2017-12-01    624900.0\n",
       " 2018-01-01    625200.0\n",
       " 2018-02-01    631800.0\n",
       " 2018-03-01    644200.0\n",
       " 2018-04-01    652600.0\n",
       " Name: value, Length: 265, dtype: float64,\n",
       " '90504': Date\n",
       " 1996-04-01    190200.0\n",
       " 1996-05-01    190200.0\n",
       " 1996-06-01    190100.0\n",
       " 1996-07-01    189900.0\n",
       " 1996-08-01    189700.0\n",
       "                 ...   \n",
       " 2017-12-01    697900.0\n",
       " 2018-01-01    703100.0\n",
       " 2018-02-01    708800.0\n",
       " 2018-03-01    715300.0\n",
       " 2018-04-01    718600.0\n",
       " Name: value, Length: 265, dtype: float64,\n",
       " '95446': Date\n",
       " 1996-04-01    129900.0\n",
       " 1996-05-01    129400.0\n",
       " 1996-06-01    128900.0\n",
       " 1996-07-01    128400.0\n",
       " 1996-08-01    128000.0\n",
       "                 ...   \n",
       " 2017-12-01    447000.0\n",
       " 2018-01-01    451400.0\n",
       " 2018-02-01    456800.0\n",
       " 2018-03-01    463100.0\n",
       " 2018-04-01    466500.0\n",
       " Name: value, Length: 265, dtype: float64,\n",
       " '96141': Date\n",
       " 1996-04-01    170600.0\n",
       " 1996-05-01    171800.0\n",
       " 1996-06-01    172900.0\n",
       " 1996-07-01    174000.0\n",
       " 1996-08-01    175100.0\n",
       "                 ...   \n",
       " 2017-12-01    675000.0\n",
       " 2018-01-01    675000.0\n",
       " 2018-02-01    677500.0\n",
       " 2018-03-01    684400.0\n",
       " 2018-04-01    689700.0\n",
       " Name: value, Length: 265, dtype: float64,\n",
       " '92866': Date\n",
       " 1996-04-01    173700.0\n",
       " 1996-05-01    173600.0\n",
       " 1996-06-01    173500.0\n",
       " 1996-07-01    173500.0\n",
       " 1996-08-01    173600.0\n",
       "                 ...   \n",
       " 2017-12-01    688500.0\n",
       " 2018-01-01    694600.0\n",
       " 2018-02-01    700000.0\n",
       " 2018-03-01    705100.0\n",
       " 2018-04-01    708000.0\n",
       " Name: value, Length: 265, dtype: float64,\n",
       " '92860': Date\n",
       " 1996-04-01    162900.0\n",
       " 1996-05-01    162200.0\n",
       " 1996-06-01    161500.0\n",
       " 1996-07-01    160800.0\n",
       " 1996-08-01    160200.0\n",
       "                 ...   \n",
       " 2017-12-01    522200.0\n",
       " 2018-01-01    526200.0\n",
       " 2018-02-01    530200.0\n",
       " 2018-03-01    534900.0\n",
       " 2018-04-01    539700.0\n",
       " Name: value, Length: 265, dtype: float64,\n",
       " '93405': Date\n",
       " 1996-04-01    181000.0\n",
       " 1996-05-01    181700.0\n",
       " 1996-06-01    182500.0\n",
       " 1996-07-01    183300.0\n",
       " 1996-08-01    184300.0\n",
       "                 ...   \n",
       " 2017-12-01    706900.0\n",
       " 2018-01-01    709700.0\n",
       " 2018-02-01    717900.0\n",
       " 2018-03-01    728500.0\n",
       " 2018-04-01    733400.0\n",
       " Name: value, Length: 265, dtype: float64,\n",
       " '95818': Date\n",
       " 1996-04-01    144000.0\n",
       " 1996-05-01    144300.0\n",
       " 1996-06-01    144500.0\n",
       " 1996-07-01    144500.0\n",
       " 1996-08-01    144600.0\n",
       "                 ...   \n",
       " 2017-12-01    559100.0\n",
       " 2018-01-01    564100.0\n",
       " 2018-02-01    566100.0\n",
       " 2018-03-01    565500.0\n",
       " 2018-04-01    563900.0\n",
       " Name: value, Length: 265, dtype: float64,\n",
       " '93023': Date\n",
       " 1996-04-01    202800.0\n",
       " 1996-05-01    201600.0\n",
       " 1996-06-01    200400.0\n",
       " 1996-07-01    199200.0\n",
       " 1996-08-01    198000.0\n",
       "                 ...   \n",
       " 2017-12-01    695400.0\n",
       " 2018-01-01    702300.0\n",
       " 2018-02-01    708700.0\n",
       " 2018-03-01    715300.0\n",
       " 2018-04-01    719900.0\n",
       " Name: value, Length: 265, dtype: float64,\n",
       " '94577': Date\n",
       " 1996-04-01    168100.0\n",
       " 1996-05-01    167600.0\n",
       " 1996-06-01    167100.0\n",
       " 1996-07-01    166600.0\n",
       " 1996-08-01    166200.0\n",
       "                 ...   \n",
       " 2017-12-01    661000.0\n",
       " 2018-01-01    667900.0\n",
       " 2018-02-01    674400.0\n",
       " 2018-03-01    682500.0\n",
       " 2018-04-01    688500.0\n",
       " Name: value, Length: 265, dtype: float64}"
      ]
     },
     "execution_count": 50,
     "metadata": {},
     "output_type": "execute_result"
    }
   ],
   "source": [
    "ts"
   ]
  },
  {
   "cell_type": "code",
   "execution_count": 51,
   "metadata": {
    "ExecuteTime": {
     "end_time": "2021-07-30T17:55:37.784753Z",
     "start_time": "2021-07-30T17:55:37.754692Z"
    }
   },
   "outputs": [
    {
     "data": {
      "text/html": [
       "<div>\n",
       "<style scoped>\n",
       "    .dataframe tbody tr th:only-of-type {\n",
       "        vertical-align: middle;\n",
       "    }\n",
       "\n",
       "    .dataframe tbody tr th {\n",
       "        vertical-align: top;\n",
       "    }\n",
       "\n",
       "    .dataframe thead th {\n",
       "        text-align: right;\n",
       "    }\n",
       "</style>\n",
       "<table border=\"1\" class=\"dataframe\">\n",
       "  <thead>\n",
       "    <tr style=\"text-align: right;\">\n",
       "      <th></th>\n",
       "      <th>92101</th>\n",
       "      <th>90504</th>\n",
       "      <th>95446</th>\n",
       "      <th>96141</th>\n",
       "      <th>92866</th>\n",
       "      <th>92860</th>\n",
       "      <th>93405</th>\n",
       "      <th>95818</th>\n",
       "      <th>93023</th>\n",
       "      <th>94577</th>\n",
       "    </tr>\n",
       "    <tr>\n",
       "      <th>Date</th>\n",
       "      <th></th>\n",
       "      <th></th>\n",
       "      <th></th>\n",
       "      <th></th>\n",
       "      <th></th>\n",
       "      <th></th>\n",
       "      <th></th>\n",
       "      <th></th>\n",
       "      <th></th>\n",
       "      <th></th>\n",
       "    </tr>\n",
       "  </thead>\n",
       "  <tbody>\n",
       "    <tr>\n",
       "      <th>1996-04-01</th>\n",
       "      <td>147000.0</td>\n",
       "      <td>190200.0</td>\n",
       "      <td>129900.0</td>\n",
       "      <td>170600.0</td>\n",
       "      <td>173700.0</td>\n",
       "      <td>162900.0</td>\n",
       "      <td>181000.0</td>\n",
       "      <td>144000.0</td>\n",
       "      <td>202800.0</td>\n",
       "      <td>168100.0</td>\n",
       "    </tr>\n",
       "    <tr>\n",
       "      <th>1996-05-01</th>\n",
       "      <td>147400.0</td>\n",
       "      <td>190200.0</td>\n",
       "      <td>129400.0</td>\n",
       "      <td>171800.0</td>\n",
       "      <td>173600.0</td>\n",
       "      <td>162200.0</td>\n",
       "      <td>181700.0</td>\n",
       "      <td>144300.0</td>\n",
       "      <td>201600.0</td>\n",
       "      <td>167600.0</td>\n",
       "    </tr>\n",
       "    <tr>\n",
       "      <th>1996-06-01</th>\n",
       "      <td>147700.0</td>\n",
       "      <td>190100.0</td>\n",
       "      <td>128900.0</td>\n",
       "      <td>172900.0</td>\n",
       "      <td>173500.0</td>\n",
       "      <td>161500.0</td>\n",
       "      <td>182500.0</td>\n",
       "      <td>144500.0</td>\n",
       "      <td>200400.0</td>\n",
       "      <td>167100.0</td>\n",
       "    </tr>\n",
       "    <tr>\n",
       "      <th>1996-07-01</th>\n",
       "      <td>148100.0</td>\n",
       "      <td>189900.0</td>\n",
       "      <td>128400.0</td>\n",
       "      <td>174000.0</td>\n",
       "      <td>173500.0</td>\n",
       "      <td>160800.0</td>\n",
       "      <td>183300.0</td>\n",
       "      <td>144500.0</td>\n",
       "      <td>199200.0</td>\n",
       "      <td>166600.0</td>\n",
       "    </tr>\n",
       "    <tr>\n",
       "      <th>1996-08-01</th>\n",
       "      <td>148500.0</td>\n",
       "      <td>189700.0</td>\n",
       "      <td>128000.0</td>\n",
       "      <td>175100.0</td>\n",
       "      <td>173600.0</td>\n",
       "      <td>160200.0</td>\n",
       "      <td>184300.0</td>\n",
       "      <td>144600.0</td>\n",
       "      <td>198000.0</td>\n",
       "      <td>166200.0</td>\n",
       "    </tr>\n",
       "  </tbody>\n",
       "</table>\n",
       "</div>"
      ],
      "text/plain": [
       "               92101     90504     95446     96141     92866     92860  \\\n",
       "Date                                                                     \n",
       "1996-04-01  147000.0  190200.0  129900.0  170600.0  173700.0  162900.0   \n",
       "1996-05-01  147400.0  190200.0  129400.0  171800.0  173600.0  162200.0   \n",
       "1996-06-01  147700.0  190100.0  128900.0  172900.0  173500.0  161500.0   \n",
       "1996-07-01  148100.0  189900.0  128400.0  174000.0  173500.0  160800.0   \n",
       "1996-08-01  148500.0  189700.0  128000.0  175100.0  173600.0  160200.0   \n",
       "\n",
       "               93405     95818     93023     94577  \n",
       "Date                                                \n",
       "1996-04-01  181000.0  144000.0  202800.0  168100.0  \n",
       "1996-05-01  181700.0  144300.0  201600.0  167600.0  \n",
       "1996-06-01  182500.0  144500.0  200400.0  167100.0  \n",
       "1996-07-01  183300.0  144500.0  199200.0  166600.0  \n",
       "1996-08-01  184300.0  144600.0  198000.0  166200.0  "
      ]
     },
     "execution_count": 51,
     "metadata": {},
     "output_type": "execute_result"
    }
   ],
   "source": [
    "ts_df = pd.DataFrame(ts)\n",
    "ts_df.head()"
   ]
  },
  {
   "cell_type": "code",
   "execution_count": 52,
   "metadata": {
    "ExecuteTime": {
     "end_time": "2021-07-30T17:55:37.800697Z",
     "start_time": "2021-07-30T17:55:37.786735Z"
    }
   },
   "outputs": [],
   "source": [
    "zip_1 = ziplist[0]"
   ]
  },
  {
   "cell_type": "code",
   "execution_count": 53,
   "metadata": {
    "ExecuteTime": {
     "end_time": "2021-07-30T17:55:37.990046Z",
     "start_time": "2021-07-30T17:55:37.802758Z"
    }
   },
   "outputs": [
    {
     "data": {
      "image/png": "[encoded data removed]",
      "text/plain": [
       "<Figure size 432x288 with 1 Axes>"
      ]
     },
     "metadata": {},
     "output_type": "display_data"
    }
   ],
   "source": [
    "ts_zip1 = ts_df[zip_1].copy()\n",
    "ax = ts_zip1.plot()\n",
    "ax.legend()\n",
    "plt.show()"
   ]
  },
  {
   "cell_type": "markdown",
   "metadata": {},
   "source": [
    "## Model 1: San Diego (Zipcode 92101)"
   ]
  },
  {
   "cell_type": "markdown",
   "metadata": {},
   "source": [
    "### Baseline Model"
   ]
  },
  {
   "cell_type": "code",
   "execution_count": 54,
   "metadata": {
    "ExecuteTime": {
     "end_time": "2021-07-30T17:55:38.006023Z",
     "start_time": "2021-07-30T17:55:37.991983Z"
    }
   },
   "outputs": [],
   "source": [
    "# selected params\n",
    "d = 1\n",
    "p = 1\n",
    "q = 1"
   ]
  },
  {
   "cell_type": "code",
   "execution_count": 55,
   "metadata": {
    "ExecuteTime": {
     "end_time": "2021-07-30T17:55:38.225106Z",
     "start_time": "2021-07-30T17:55:38.008011Z"
    }
   },
   "outputs": [
    {
     "data": {
      "image/png": "[encoded data removed]",
      "text/plain": [
       "<Figure size 432x288 with 1 Axes>"
      ]
     },
     "metadata": {},
     "output_type": "display_data"
    }
   ],
   "source": [
    "train_size = 0.85 #leaving approximately 3year for test size.\n",
    "split_idx = round(len(ts_zip1)* train_size)\n",
    "split_idx\n",
    "\n",
    "## Split\n",
    "train = ts_zip1.iloc[:split_idx]\n",
    "test = ts_zip1.iloc[split_idx:]\n",
    "\n",
    "## Visualize split\n",
    "fig,ax= plt.subplots()\n",
    "kws = dict(ax=ax,marker='o')\n",
    "train.plot(**kws)\n",
    "test.plot(**kws)\n",
    "ax.legend(bbox_to_anchor=[1,1])\n",
    "plt.show()"
   ]
  },
  {
   "cell_type": "code",
   "execution_count": 56,
   "metadata": {
    "ExecuteTime": {
     "end_time": "2021-07-30T17:55:39.139984Z",
     "start_time": "2021-07-30T17:55:38.227043Z"
    }
   },
   "outputs": [
    {
     "data": {
      "text/html": [
       "<table class=\"simpletable\">\n",
       "<caption>SARIMAX Results</caption>\n",
       "<tr>\n",
       "  <th>Dep. Variable:</th>         <td>92101</td>      <th>  No. Observations:  </th>    <td>225</td>   \n",
       "</tr>\n",
       "<tr>\n",
       "  <th>Model:</th>           <td>SARIMAX(1, 1, 1)</td> <th>  Log Likelihood     </th> <td>-2186.172</td>\n",
       "</tr>\n",
       "<tr>\n",
       "  <th>Date:</th>            <td>Fri, 30 Jul 2021</td> <th>  AIC                </th> <td>4378.344</td> \n",
       "</tr>\n",
       "<tr>\n",
       "  <th>Time:</th>                <td>10:55:38</td>     <th>  BIC                </th> <td>4388.579</td> \n",
       "</tr>\n",
       "<tr>\n",
       "  <th>Sample:</th>             <td>04-01-1996</td>    <th>  HQIC               </th> <td>4382.475</td> \n",
       "</tr>\n",
       "<tr>\n",
       "  <th></th>                   <td>- 12-01-2014</td>   <th>                     </th>     <td> </td>    \n",
       "</tr>\n",
       "<tr>\n",
       "  <th>Covariance Type:</th>        <td>opg</td>       <th>                     </th>     <td> </td>    \n",
       "</tr>\n",
       "</table>\n",
       "<table class=\"simpletable\">\n",
       "<tr>\n",
       "     <td></td>       <th>coef</th>     <th>std err</th>      <th>z</th>      <th>P>|z|</th>  <th>[0.025</th>    <th>0.975]</th>  \n",
       "</tr>\n",
       "<tr>\n",
       "  <th>ar.L1</th>  <td>    0.8545</td> <td>    0.028</td> <td>   30.691</td> <td> 0.000</td> <td>    0.800</td> <td>    0.909</td>\n",
       "</tr>\n",
       "<tr>\n",
       "  <th>ma.L1</th>  <td>   -0.7447</td> <td>    0.034</td> <td>  -22.066</td> <td> 0.000</td> <td>   -0.811</td> <td>   -0.679</td>\n",
       "</tr>\n",
       "<tr>\n",
       "  <th>sigma2</th> <td> 1.717e+07</td> <td> 1.81e-10</td> <td> 9.51e+16</td> <td> 0.000</td> <td> 1.72e+07</td> <td> 1.72e+07</td>\n",
       "</tr>\n",
       "</table>\n",
       "<table class=\"simpletable\">\n",
       "<tr>\n",
       "  <th>Ljung-Box (L1) (Q):</th>     <td>166.96</td> <th>  Jarque-Bera (JB):  </th> <td>78.23</td>\n",
       "</tr>\n",
       "<tr>\n",
       "  <th>Prob(Q):</th>                 <td>0.00</td>  <th>  Prob(JB):          </th> <td>0.00</td> \n",
       "</tr>\n",
       "<tr>\n",
       "  <th>Heteroskedasticity (H):</th>  <td>1.23</td>  <th>  Skew:              </th> <td>-0.33</td>\n",
       "</tr>\n",
       "<tr>\n",
       "  <th>Prob(H) (two-sided):</th>     <td>0.36</td>  <th>  Kurtosis:          </th> <td>5.82</td> \n",
       "</tr>\n",
       "</table><br/><br/>Warnings:<br/>[1] Covariance matrix calculated using the outer product of gradients (complex-step).<br/>[2] Covariance matrix is singular or near-singular, with condition number 8.48e+32. Standard errors may be unstable."
      ],
      "text/plain": [
       "<class 'statsmodels.iolib.summary.Summary'>\n",
       "\"\"\"\n",
       "                               SARIMAX Results                                \n",
       "==============================================================================\n",
       "Dep. Variable:                  92101   No. Observations:                  225\n",
       "Model:               SARIMAX(1, 1, 1)   Log Likelihood               -2186.172\n",
       "Date:                Fri, 30 Jul 2021   AIC                           4378.344\n",
       "Time:                        10:55:38   BIC                           4388.579\n",
       "Sample:                    04-01-1996   HQIC                          4382.475\n",
       "                         - 12-01-2014                                         \n",
       "Covariance Type:                  opg                                         \n",
       "==============================================================================\n",
       "                 coef    std err          z      P>|z|      [0.025      0.975]\n",
       "------------------------------------------------------------------------------\n",
       "ar.L1          0.8545      0.028     30.691      0.000       0.800       0.909\n",
       "ma.L1         -0.7447      0.034    -22.066      0.000      -0.811      -0.679\n",
       "sigma2      1.717e+07   1.81e-10   9.51e+16      0.000    1.72e+07    1.72e+07\n",
       "===================================================================================\n",
       "Ljung-Box (L1) (Q):                 166.96   Jarque-Bera (JB):                78.23\n",
       "Prob(Q):                              0.00   Prob(JB):                         0.00\n",
       "Heteroskedasticity (H):               1.23   Skew:                            -0.33\n",
       "Prob(H) (two-sided):                  0.36   Kurtosis:                         5.82\n",
       "===================================================================================\n",
       "\n",
       "Warnings:\n",
       "[1] Covariance matrix calculated using the outer product of gradients (complex-step).\n",
       "[2] Covariance matrix is singular or near-singular, with condition number 8.48e+32. Standard errors may be unstable.\n",
       "\"\"\""
      ]
     },
     "metadata": {},
     "output_type": "display_data"
    },
    {
     "data": {
      "image/png": "[encoded data removed]",
      "text/plain": [
       "<Figure size 720x576 with 4 Axes>"
      ]
     },
     "metadata": {},
     "output_type": "display_data"
    }
   ],
   "source": [
    "from statsmodels.tsa.statespace.sarimax import SARIMAX\n",
    "\n",
    "## Baseline model from eye-balled params\n",
    "model = SARIMAX(train,order=(p,d,q),).fit()\n",
    "display(model.summary())\n",
    "model.plot_diagnostics(figsize=(10,8));\n",
    "plt.show()"
   ]
  },
  {
   "cell_type": "code",
   "execution_count": 57,
   "metadata": {
    "ExecuteTime": {
     "end_time": "2021-07-30T17:55:39.155601Z",
     "start_time": "2021-07-30T17:55:39.140980Z"
    }
   },
   "outputs": [],
   "source": [
    "## obtaining forecast\n",
    "from sklearn import metrics\n",
    "forecast = model.get_forecast(steps=len(test))"
   ]
  },
  {
   "cell_type": "code",
   "execution_count": 58,
   "metadata": {
    "ExecuteTime": {
     "end_time": "2021-07-30T17:55:39.187097Z",
     "start_time": "2021-07-30T17:55:39.158095Z"
    }
   },
   "outputs": [
    {
     "data": {
      "text/html": [
       "<div>\n",
       "<style scoped>\n",
       "    .dataframe tbody tr th:only-of-type {\n",
       "        vertical-align: middle;\n",
       "    }\n",
       "\n",
       "    .dataframe tbody tr th {\n",
       "        vertical-align: top;\n",
       "    }\n",
       "\n",
       "    .dataframe thead th {\n",
       "        text-align: right;\n",
       "    }\n",
       "</style>\n",
       "<table border=\"1\" class=\"dataframe\">\n",
       "  <thead>\n",
       "    <tr style=\"text-align: right;\">\n",
       "      <th></th>\n",
       "      <th>lower</th>\n",
       "      <th>upper</th>\n",
       "      <th>prediction</th>\n",
       "    </tr>\n",
       "  </thead>\n",
       "  <tbody>\n",
       "    <tr>\n",
       "      <th>2015-01-01</th>\n",
       "      <td>522605.595442</td>\n",
       "      <td>538850.383548</td>\n",
       "      <td>530727.989495</td>\n",
       "    </tr>\n",
       "    <tr>\n",
       "      <th>2015-02-01</th>\n",
       "      <td>521181.403406</td>\n",
       "      <td>545449.226187</td>\n",
       "      <td>533315.314796</td>\n",
       "    </tr>\n",
       "    <tr>\n",
       "      <th>2015-03-01</th>\n",
       "      <td>519943.687139</td>\n",
       "      <td>551108.524646</td>\n",
       "      <td>535526.105892</td>\n",
       "    </tr>\n",
       "    <tr>\n",
       "      <th>2015-04-01</th>\n",
       "      <td>518665.508443</td>\n",
       "      <td>556164.811388</td>\n",
       "      <td>537415.159916</td>\n",
       "    </tr>\n",
       "    <tr>\n",
       "      <th>2015-05-01</th>\n",
       "      <td>517299.090773</td>\n",
       "      <td>560759.507940</td>\n",
       "      <td>539029.299356</td>\n",
       "    </tr>\n",
       "    <tr>\n",
       "      <th>2015-06-01</th>\n",
       "      <td>515841.765092</td>\n",
       "      <td>564975.300135</td>\n",
       "      <td>540408.532614</td>\n",
       "    </tr>\n",
       "    <tr>\n",
       "      <th>2015-07-01</th>\n",
       "      <td>514304.689798</td>\n",
       "      <td>568869.401509</td>\n",
       "      <td>541587.045653</td>\n",
       "    </tr>\n",
       "    <tr>\n",
       "      <th>2015-08-01</th>\n",
       "      <td>512702.796598</td>\n",
       "      <td>572485.302095</td>\n",
       "      <td>542594.049347</td>\n",
       "    </tr>\n",
       "    <tr>\n",
       "      <th>2015-09-01</th>\n",
       "      <td>511051.098242</td>\n",
       "      <td>575857.908756</td>\n",
       "      <td>543454.503499</td>\n",
       "    </tr>\n",
       "    <tr>\n",
       "      <th>2015-10-01</th>\n",
       "      <td>509363.306605</td>\n",
       "      <td>579016.164410</td>\n",
       "      <td>544189.735508</td>\n",
       "    </tr>\n",
       "    <tr>\n",
       "      <th>2015-11-01</th>\n",
       "      <td>507651.384700</td>\n",
       "      <td>581984.553275</td>\n",
       "      <td>544817.968988</td>\n",
       "    </tr>\n",
       "    <tr>\n",
       "      <th>2015-12-01</th>\n",
       "      <td>505925.495386</td>\n",
       "      <td>584784.055547</td>\n",
       "      <td>545354.775467</td>\n",
       "    </tr>\n",
       "    <tr>\n",
       "      <th>2016-01-01</th>\n",
       "      <td>504194.117269</td>\n",
       "      <td>587432.803415</td>\n",
       "      <td>545813.460342</td>\n",
       "    </tr>\n",
       "    <tr>\n",
       "      <th>2016-02-01</th>\n",
       "      <td>502464.224041</td>\n",
       "      <td>589946.561306</td>\n",
       "      <td>546205.392674</td>\n",
       "    </tr>\n",
       "    <tr>\n",
       "      <th>2016-03-01</th>\n",
       "      <td>500741.479162</td>\n",
       "      <td>592339.094796</td>\n",
       "      <td>546540.286979</td>\n",
       "    </tr>\n",
       "    <tr>\n",
       "      <th>2016-04-01</th>\n",
       "      <td>499030.423752</td>\n",
       "      <td>594622.464285</td>\n",
       "      <td>546826.444018</td>\n",
       "    </tr>\n",
       "    <tr>\n",
       "      <th>2016-05-01</th>\n",
       "      <td>497334.648206</td>\n",
       "      <td>596807.264875</td>\n",
       "      <td>547070.956540</td>\n",
       "    </tr>\n",
       "    <tr>\n",
       "      <th>2016-06-01</th>\n",
       "      <td>495656.944229</td>\n",
       "      <td>598902.825939</td>\n",
       "      <td>547279.885084</td>\n",
       "    </tr>\n",
       "    <tr>\n",
       "      <th>2016-07-01</th>\n",
       "      <td>493999.437057</td>\n",
       "      <td>600917.379335</td>\n",
       "      <td>547458.408196</td>\n",
       "    </tr>\n",
       "    <tr>\n",
       "      <th>2016-08-01</th>\n",
       "      <td>492363.699051</td>\n",
       "      <td>602858.202522</td>\n",
       "      <td>547610.950787</td>\n",
       "    </tr>\n",
       "    <tr>\n",
       "      <th>2016-09-01</th>\n",
       "      <td>490750.846491</td>\n",
       "      <td>604731.741129</td>\n",
       "      <td>547741.293810</td>\n",
       "    </tr>\n",
       "    <tr>\n",
       "      <th>2016-10-01</th>\n",
       "      <td>489161.621527</td>\n",
       "      <td>606543.714424</td>\n",
       "      <td>547852.667975</td>\n",
       "    </tr>\n",
       "    <tr>\n",
       "      <th>2016-11-01</th>\n",
       "      <td>487596.461241</td>\n",
       "      <td>608299.206411</td>\n",
       "      <td>547947.833826</td>\n",
       "    </tr>\n",
       "    <tr>\n",
       "      <th>2016-12-01</th>\n",
       "      <td>486055.555627</td>\n",
       "      <td>610002.744698</td>\n",
       "      <td>548029.150162</td>\n",
       "    </tr>\n",
       "    <tr>\n",
       "      <th>2017-01-01</th>\n",
       "      <td>484538.896085</td>\n",
       "      <td>611658.368933</td>\n",
       "      <td>548098.632509</td>\n",
       "    </tr>\n",
       "    <tr>\n",
       "      <th>2017-02-01</th>\n",
       "      <td>483046.315863</td>\n",
       "      <td>613269.690275</td>\n",
       "      <td>548158.003069</td>\n",
       "    </tr>\n",
       "    <tr>\n",
       "      <th>2017-03-01</th>\n",
       "      <td>481577.523681</td>\n",
       "      <td>614839.943147</td>\n",
       "      <td>548208.733414</td>\n",
       "    </tr>\n",
       "    <tr>\n",
       "      <th>2017-04-01</th>\n",
       "      <td>480132.131596</td>\n",
       "      <td>616372.030319</td>\n",
       "      <td>548252.080958</td>\n",
       "    </tr>\n",
       "    <tr>\n",
       "      <th>2017-05-01</th>\n",
       "      <td>478709.678014</td>\n",
       "      <td>617868.562227</td>\n",
       "      <td>548289.120120</td>\n",
       "    </tr>\n",
       "    <tr>\n",
       "      <th>2017-06-01</th>\n",
       "      <td>477309.646638</td>\n",
       "      <td>619331.891288</td>\n",
       "      <td>548320.768963</td>\n",
       "    </tr>\n",
       "    <tr>\n",
       "      <th>2017-07-01</th>\n",
       "      <td>475931.481994</td>\n",
       "      <td>620764.141887</td>\n",
       "      <td>548347.811940</td>\n",
       "    </tr>\n",
       "    <tr>\n",
       "      <th>2017-08-01</th>\n",
       "      <td>474574.602103</td>\n",
       "      <td>622167.236588</td>\n",
       "      <td>548370.919345</td>\n",
       "    </tr>\n",
       "    <tr>\n",
       "      <th>2017-09-01</th>\n",
       "      <td>473238.408763</td>\n",
       "      <td>623542.919083</td>\n",
       "      <td>548390.663923</td>\n",
       "    </tr>\n",
       "    <tr>\n",
       "      <th>2017-10-01</th>\n",
       "      <td>471922.295843</td>\n",
       "      <td>624892.774289</td>\n",
       "      <td>548407.535066</td>\n",
       "    </tr>\n",
       "    <tr>\n",
       "      <th>2017-11-01</th>\n",
       "      <td>470625.655924</td>\n",
       "      <td>626218.245970</td>\n",
       "      <td>548421.950947</td>\n",
       "    </tr>\n",
       "    <tr>\n",
       "      <th>2017-12-01</th>\n",
       "      <td>469347.885560</td>\n",
       "      <td>627520.652202</td>\n",
       "      <td>548434.268881</td>\n",
       "    </tr>\n",
       "    <tr>\n",
       "      <th>2018-01-01</th>\n",
       "      <td>468088.389403</td>\n",
       "      <td>628801.198961</td>\n",
       "      <td>548444.794182</td>\n",
       "    </tr>\n",
       "    <tr>\n",
       "      <th>2018-02-01</th>\n",
       "      <td>466846.583394</td>\n",
       "      <td>630060.992073</td>\n",
       "      <td>548453.787733</td>\n",
       "    </tr>\n",
       "    <tr>\n",
       "      <th>2018-03-01</th>\n",
       "      <td>465621.897171</td>\n",
       "      <td>631301.047729</td>\n",
       "      <td>548461.472450</td>\n",
       "    </tr>\n",
       "    <tr>\n",
       "      <th>2018-04-01</th>\n",
       "      <td>464413.775852</td>\n",
       "      <td>632522.301764</td>\n",
       "      <td>548468.038808</td>\n",
       "    </tr>\n",
       "  </tbody>\n",
       "</table>\n",
       "</div>"
      ],
      "text/plain": [
       "                    lower          upper     prediction\n",
       "2015-01-01  522605.595442  538850.383548  530727.989495\n",
       "2015-02-01  521181.403406  545449.226187  533315.314796\n",
       "2015-03-01  519943.687139  551108.524646  535526.105892\n",
       "2015-04-01  518665.508443  556164.811388  537415.159916\n",
       "2015-05-01  517299.090773  560759.507940  539029.299356\n",
       "2015-06-01  515841.765092  564975.300135  540408.532614\n",
       "2015-07-01  514304.689798  568869.401509  541587.045653\n",
       "2015-08-01  512702.796598  572485.302095  542594.049347\n",
       "2015-09-01  511051.098242  575857.908756  543454.503499\n",
       "2015-10-01  509363.306605  579016.164410  544189.735508\n",
       "2015-11-01  507651.384700  581984.553275  544817.968988\n",
       "2015-12-01  505925.495386  584784.055547  545354.775467\n",
       "2016-01-01  504194.117269  587432.803415  545813.460342\n",
       "2016-02-01  502464.224041  589946.561306  546205.392674\n",
       "2016-03-01  500741.479162  592339.094796  546540.286979\n",
       "2016-04-01  499030.423752  594622.464285  546826.444018\n",
       "2016-05-01  497334.648206  596807.264875  547070.956540\n",
       "2016-06-01  495656.944229  598902.825939  547279.885084\n",
       "2016-07-01  493999.437057  600917.379335  547458.408196\n",
       "2016-08-01  492363.699051  602858.202522  547610.950787\n",
       "2016-09-01  490750.846491  604731.741129  547741.293810\n",
       "2016-10-01  489161.621527  606543.714424  547852.667975\n",
       "2016-11-01  487596.461241  608299.206411  547947.833826\n",
       "2016-12-01  486055.555627  610002.744698  548029.150162\n",
       "2017-01-01  484538.896085  611658.368933  548098.632509\n",
       "2017-02-01  483046.315863  613269.690275  548158.003069\n",
       "2017-03-01  481577.523681  614839.943147  548208.733414\n",
       "2017-04-01  480132.131596  616372.030319  548252.080958\n",
       "2017-05-01  478709.678014  617868.562227  548289.120120\n",
       "2017-06-01  477309.646638  619331.891288  548320.768963\n",
       "2017-07-01  475931.481994  620764.141887  548347.811940\n",
       "2017-08-01  474574.602103  622167.236588  548370.919345\n",
       "2017-09-01  473238.408763  623542.919083  548390.663923\n",
       "2017-10-01  471922.295843  624892.774289  548407.535066\n",
       "2017-11-01  470625.655924  626218.245970  548421.950947\n",
       "2017-12-01  469347.885560  627520.652202  548434.268881\n",
       "2018-01-01  468088.389403  628801.198961  548444.794182\n",
       "2018-02-01  466846.583394  630060.992073  548453.787733\n",
       "2018-03-01  465621.897171  631301.047729  548461.472450\n",
       "2018-04-01  464413.775852  632522.301764  548468.038808"
      ]
     },
     "execution_count": 58,
     "metadata": {},
     "output_type": "execute_result"
    }
   ],
   "source": [
    "def forecast_to_df(forecast,zipcode):\n",
    "    test_pred = forecast.conf_int()\n",
    "    test_pred[zipcode] = forecast.predicted_mean\n",
    "    test_pred.columns = ['lower','upper','prediction']\n",
    "    return test_pred\n",
    "\n",
    "pred_df = forecast_to_df(forecast,zip_1)\n",
    "pred_df"
   ]
  },
  {
   "cell_type": "code",
   "execution_count": 59,
   "metadata": {
    "ExecuteTime": {
     "end_time": "2021-07-30T17:55:39.203149Z",
     "start_time": "2021-07-30T17:55:39.189105Z"
    }
   },
   "outputs": [],
   "source": [
    "def plot_train_test_pred(train,test,pred_df):\n",
    "    fig,ax = plt.subplots()\n",
    "    kws = dict(marker='o')\n",
    "    \n",
    "    ax.plot(train,label='Train',**kws)\n",
    "    ax.plot(test,label='Test',**kws)\n",
    "    ax.plot(pred_df['prediction'],label='prediction',ls='--',**kws)\n",
    "\n",
    "    ax.fill_between(x=pred_df.index,y1=pred_df['lower'],y2=pred_df['upper'])\n",
    "    ax.legend(bbox_to_anchor=[1,1])\n",
    "    fig.tight_layout()\n",
    "    return fig,ax"
   ]
  },
  {
   "cell_type": "code",
   "execution_count": 60,
   "metadata": {
    "ExecuteTime": {
     "end_time": "2021-07-30T17:55:39.425458Z",
     "start_time": "2021-07-30T17:55:39.205093Z"
    }
   },
   "outputs": [
    {
     "data": {
      "image/png": "[encoded data removed]",
      "text/plain": [
       "<Figure size 432x288 with 1 Axes>"
      ]
     },
     "metadata": {},
     "output_type": "display_data"
    }
   ],
   "source": [
    "plot_train_test_pred(train,test,pred_df)\n",
    "\n",
    "plt.show()\n"
   ]
  },
  {
   "cell_type": "markdown",
   "metadata": {},
   "source": [
    "## Model 2 "
   ]
  },
  {
   "cell_type": "code",
   "execution_count": 61,
   "metadata": {
    "ExecuteTime": {
     "end_time": "2021-07-30T17:55:40.443441Z",
     "start_time": "2021-07-30T17:55:39.427389Z"
    }
   },
   "outputs": [
    {
     "data": {
      "text/html": [
       "<table class=\"simpletable\">\n",
       "<caption>SARIMAX Results</caption>\n",
       "<tr>\n",
       "  <th>Dep. Variable:</th>           <td>y</td>        <th>  No. Observations:  </th>    <td>225</td>   \n",
       "</tr>\n",
       "<tr>\n",
       "  <th>Model:</th>           <td>SARIMAX(0, 2, 1)</td> <th>  Log Likelihood     </th> <td>-1969.676</td>\n",
       "</tr>\n",
       "<tr>\n",
       "  <th>Date:</th>            <td>Fri, 30 Jul 2021</td> <th>  AIC                </th> <td>3943.351</td> \n",
       "</tr>\n",
       "<tr>\n",
       "  <th>Time:</th>                <td>10:55:39</td>     <th>  BIC                </th> <td>3950.165</td> \n",
       "</tr>\n",
       "<tr>\n",
       "  <th>Sample:</th>                  <td>0</td>        <th>  HQIC               </th> <td>3946.102</td> \n",
       "</tr>\n",
       "<tr>\n",
       "  <th></th>                      <td> - 225</td>      <th>                     </th>     <td> </td>    \n",
       "</tr>\n",
       "<tr>\n",
       "  <th>Covariance Type:</th>        <td>opg</td>       <th>                     </th>     <td> </td>    \n",
       "</tr>\n",
       "</table>\n",
       "<table class=\"simpletable\">\n",
       "<tr>\n",
       "     <td></td>       <th>coef</th>     <th>std err</th>      <th>z</th>      <th>P>|z|</th>  <th>[0.025</th>    <th>0.975]</th>  \n",
       "</tr>\n",
       "<tr>\n",
       "  <th>ma.L1</th>  <td>    0.0335</td> <td>    0.010</td> <td>    3.394</td> <td> 0.001</td> <td>    0.014</td> <td>    0.053</td>\n",
       "</tr>\n",
       "<tr>\n",
       "  <th>sigma2</th> <td> 2.722e+06</td> <td> 1.38e+05</td> <td>   19.727</td> <td> 0.000</td> <td> 2.45e+06</td> <td> 2.99e+06</td>\n",
       "</tr>\n",
       "</table>\n",
       "<table class=\"simpletable\">\n",
       "<tr>\n",
       "  <th>Ljung-Box (L1) (Q):</th>     <td>42.82</td> <th>  Jarque-Bera (JB):  </th> <td>252.12</td>\n",
       "</tr>\n",
       "<tr>\n",
       "  <th>Prob(Q):</th>                <td>0.00</td>  <th>  Prob(JB):          </th>  <td>0.00</td> \n",
       "</tr>\n",
       "<tr>\n",
       "  <th>Heteroskedasticity (H):</th> <td>46.81</td> <th>  Skew:              </th>  <td>-0.51</td>\n",
       "</tr>\n",
       "<tr>\n",
       "  <th>Prob(H) (two-sided):</th>    <td>0.00</td>  <th>  Kurtosis:          </th>  <td>8.11</td> \n",
       "</tr>\n",
       "</table><br/><br/>Warnings:<br/>[1] Covariance matrix calculated using the outer product of gradients (complex-step)."
      ],
      "text/plain": [
       "<class 'statsmodels.iolib.summary.Summary'>\n",
       "\"\"\"\n",
       "                               SARIMAX Results                                \n",
       "==============================================================================\n",
       "Dep. Variable:                      y   No. Observations:                  225\n",
       "Model:               SARIMAX(0, 2, 1)   Log Likelihood               -1969.676\n",
       "Date:                Fri, 30 Jul 2021   AIC                           3943.351\n",
       "Time:                        10:55:39   BIC                           3950.165\n",
       "Sample:                             0   HQIC                          3946.102\n",
       "                                - 225                                         \n",
       "Covariance Type:                  opg                                         \n",
       "==============================================================================\n",
       "                 coef    std err          z      P>|z|      [0.025      0.975]\n",
       "------------------------------------------------------------------------------\n",
       "ma.L1          0.0335      0.010      3.394      0.001       0.014       0.053\n",
       "sigma2      2.722e+06   1.38e+05     19.727      0.000    2.45e+06    2.99e+06\n",
       "===================================================================================\n",
       "Ljung-Box (L1) (Q):                  42.82   Jarque-Bera (JB):               252.12\n",
       "Prob(Q):                              0.00   Prob(JB):                         0.00\n",
       "Heteroskedasticity (H):              46.81   Skew:                            -0.51\n",
       "Prob(H) (two-sided):                  0.00   Kurtosis:                         8.11\n",
       "===================================================================================\n",
       "\n",
       "Warnings:\n",
       "[1] Covariance matrix calculated using the outer product of gradients (complex-step).\n",
       "\"\"\""
      ]
     },
     "metadata": {},
     "output_type": "display_data"
    },
    {
     "data": {
      "image/png": "[encoded data removed]",
      "text/plain": [
       "<Figure size 720x576 with 4 Axes>"
      ]
     },
     "metadata": {},
     "output_type": "display_data"
    }
   ],
   "source": [
    "auto_model = auto_arima(train,start_p=0,start_q=0)\n",
    "display(auto_model.summary())\n",
    "auto_model.plot_diagnostics(figsize=(10,8));"
   ]
  },
  {
   "cell_type": "code",
   "execution_count": 62,
   "metadata": {
    "ExecuteTime": {
     "end_time": "2021-07-30T17:55:41.052037Z",
     "start_time": "2021-07-30T17:55:40.445697Z"
    }
   },
   "outputs": [
    {
     "data": {
      "text/html": [
       "<table class=\"simpletable\">\n",
       "<caption>SARIMAX Results</caption>\n",
       "<tr>\n",
       "  <th>Dep. Variable:</th>         <td>92101</td>      <th>  No. Observations:  </th>    <td>265</td>   \n",
       "</tr>\n",
       "<tr>\n",
       "  <th>Model:</th>           <td>SARIMAX(0, 2, 1)</td> <th>  Log Likelihood     </th> <td>-2402.061</td>\n",
       "</tr>\n",
       "<tr>\n",
       "  <th>Date:</th>            <td>Fri, 30 Jul 2021</td> <th>  AIC                </th> <td>4808.121</td> \n",
       "</tr>\n",
       "<tr>\n",
       "  <th>Time:</th>                <td>10:55:40</td>     <th>  BIC                </th> <td>4815.266</td> \n",
       "</tr>\n",
       "<tr>\n",
       "  <th>Sample:</th>             <td>04-01-1996</td>    <th>  HQIC               </th> <td>4810.993</td> \n",
       "</tr>\n",
       "<tr>\n",
       "  <th></th>                   <td>- 04-01-2018</td>   <th>                     </th>     <td> </td>    \n",
       "</tr>\n",
       "<tr>\n",
       "  <th>Covariance Type:</th>        <td>opg</td>       <th>                     </th>     <td> </td>    \n",
       "</tr>\n",
       "</table>\n",
       "<table class=\"simpletable\">\n",
       "<tr>\n",
       "     <td></td>       <th>coef</th>     <th>std err</th>      <th>z</th>      <th>P>|z|</th>  <th>[0.025</th>    <th>0.975]</th>  \n",
       "</tr>\n",
       "<tr>\n",
       "  <th>ma.L1</th>  <td>    0.0484</td> <td>    0.007</td> <td>    6.748</td> <td> 0.000</td> <td>    0.034</td> <td>    0.062</td>\n",
       "</tr>\n",
       "<tr>\n",
       "  <th>sigma2</th> <td> 3.546e+06</td> <td> 1.25e+05</td> <td>   28.369</td> <td> 0.000</td> <td>  3.3e+06</td> <td> 3.79e+06</td>\n",
       "</tr>\n",
       "</table>\n",
       "<table class=\"simpletable\">\n",
       "<tr>\n",
       "  <th>Ljung-Box (L1) (Q):</th>     <td>36.26</td> <th>  Jarque-Bera (JB):  </th> <td>280.13</td>\n",
       "</tr>\n",
       "<tr>\n",
       "  <th>Prob(Q):</th>                <td>0.00</td>  <th>  Prob(JB):          </th>  <td>0.00</td> \n",
       "</tr>\n",
       "<tr>\n",
       "  <th>Heteroskedasticity (H):</th> <td>23.11</td> <th>  Skew:              </th>  <td>-0.62</td>\n",
       "</tr>\n",
       "<tr>\n",
       "  <th>Prob(H) (two-sided):</th>    <td>0.00</td>  <th>  Kurtosis:          </th>  <td>7.90</td> \n",
       "</tr>\n",
       "</table><br/><br/>Warnings:<br/>[1] Covariance matrix calculated using the outer product of gradients (complex-step)."
      ],
      "text/plain": [
       "<class 'statsmodels.iolib.summary.Summary'>\n",
       "\"\"\"\n",
       "                               SARIMAX Results                                \n",
       "==============================================================================\n",
       "Dep. Variable:                  92101   No. Observations:                  265\n",
       "Model:               SARIMAX(0, 2, 1)   Log Likelihood               -2402.061\n",
       "Date:                Fri, 30 Jul 2021   AIC                           4808.121\n",
       "Time:                        10:55:40   BIC                           4815.266\n",
       "Sample:                    04-01-1996   HQIC                          4810.993\n",
       "                         - 04-01-2018                                         \n",
       "Covariance Type:                  opg                                         \n",
       "==============================================================================\n",
       "                 coef    std err          z      P>|z|      [0.025      0.975]\n",
       "------------------------------------------------------------------------------\n",
       "ma.L1          0.0484      0.007      6.748      0.000       0.034       0.062\n",
       "sigma2      3.546e+06   1.25e+05     28.369      0.000     3.3e+06    3.79e+06\n",
       "===================================================================================\n",
       "Ljung-Box (L1) (Q):                  36.26   Jarque-Bera (JB):               280.13\n",
       "Prob(Q):                              0.00   Prob(JB):                         0.00\n",
       "Heteroskedasticity (H):              23.11   Skew:                            -0.62\n",
       "Prob(H) (two-sided):                  0.00   Kurtosis:                         7.90\n",
       "===================================================================================\n",
       "\n",
       "Warnings:\n",
       "[1] Covariance matrix calculated using the outer product of gradients (complex-step).\n",
       "\"\"\""
      ]
     },
     "metadata": {},
     "output_type": "display_data"
    },
    {
     "data": {
      "image/png": "[encoded data removed]",
      "text/plain": [
       "<Figure size 720x576 with 4 Axes>"
      ]
     },
     "metadata": {},
     "output_type": "display_data"
    }
   ],
   "source": [
    "model3 = SARIMAX(ts_zip1,order=auto_model.order,\n",
    "                     seasonal_order=auto_model.seasonal_order).fit()\n",
    "display(model3.summary())\n",
    "model3.plot_diagnostics(figsize=(10,8));"
   ]
  },
  {
   "cell_type": "code",
   "execution_count": 63,
   "metadata": {
    "ExecuteTime": {
     "end_time": "2021-07-30T17:55:41.336604Z",
     "start_time": "2021-07-30T17:55:41.053984Z"
    }
   },
   "outputs": [
    {
     "data": {
      "text/plain": [
       "(<Figure size 432x288 with 1 Axes>, <AxesSubplot:>)"
      ]
     },
     "metadata": {},
     "output_type": "display_data"
    },
    {
     "data": {
      "image/png": "[encoded data removed]",
      "text/plain": [
       "<Figure size 432x288 with 1 Axes>"
      ]
     },
     "metadata": {},
     "output_type": "display_data"
    }
   ],
   "source": [
    "pred = model3.get_forecast(steps=12)#start=test.index[0],end=test.index[-1])\n",
    "pred_df = forecast_to_df(pred,zip_1)\n",
    "display(plot_train_test_pred(train,test,pred_df));\n",
    "plt.show()"
   ]
  },
  {
   "cell_type": "code",
   "execution_count": 64,
   "metadata": {
    "ExecuteTime": {
     "end_time": "2021-07-30T17:55:41.352288Z",
     "start_time": "2021-07-30T17:55:41.338656Z"
    }
   },
   "outputs": [
    {
     "data": {
      "text/plain": [
       "['92101',\n",
       " '90504',\n",
       " '95446',\n",
       " '96141',\n",
       " '92866',\n",
       " '92860',\n",
       " '93405',\n",
       " '95818',\n",
       " '93023',\n",
       " '94577']"
      ]
     },
     "execution_count": 64,
     "metadata": {},
     "output_type": "execute_result"
    }
   ],
   "source": [
    "ziplist"
   ]
  },
  {
   "cell_type": "code",
   "execution_count": 70,
   "metadata": {
    "ExecuteTime": {
     "end_time": "2021-07-30T18:08:34.253888Z",
     "start_time": "2021-07-30T18:08:00.913259Z"
    }
   },
   "outputs": [
    {
     "name": "stdout",
     "output_type": "stream",
     "text": [
      "92101\n"
     ]
    },
    {
     "data": {
      "text/html": [
       "<table class=\"simpletable\">\n",
       "<caption>SARIMAX Results</caption>\n",
       "<tr>\n",
       "  <th>Dep. Variable:</th>         <td>92101</td>      <th>  No. Observations:  </th>    <td>265</td>   \n",
       "</tr>\n",
       "<tr>\n",
       "  <th>Model:</th>           <td>SARIMAX(5, 1, 1)</td> <th>  Log Likelihood     </th> <td>-2917.063</td>\n",
       "</tr>\n",
       "<tr>\n",
       "  <th>Date:</th>            <td>Fri, 30 Jul 2021</td> <th>  AIC                </th> <td>5848.126</td> \n",
       "</tr>\n",
       "<tr>\n",
       "  <th>Time:</th>                <td>11:08:05</td>     <th>  BIC                </th> <td>5873.157</td> \n",
       "</tr>\n",
       "<tr>\n",
       "  <th>Sample:</th>             <td>04-01-1996</td>    <th>  HQIC               </th> <td>5858.184</td> \n",
       "</tr>\n",
       "<tr>\n",
       "  <th></th>                   <td>- 04-01-2018</td>   <th>                     </th>     <td> </td>    \n",
       "</tr>\n",
       "<tr>\n",
       "  <th>Covariance Type:</th>        <td>opg</td>       <th>                     </th>     <td> </td>    \n",
       "</tr>\n",
       "</table>\n",
       "<table class=\"simpletable\">\n",
       "<tr>\n",
       "     <td></td>       <th>coef</th>     <th>std err</th>      <th>z</th>      <th>P>|z|</th>  <th>[0.025</th>    <th>0.975]</th>  \n",
       "</tr>\n",
       "<tr>\n",
       "  <th>ar.L1</th>  <td>    0.6872</td> <td>    0.028</td> <td>   24.480</td> <td> 0.000</td> <td>    0.632</td> <td>    0.742</td>\n",
       "</tr>\n",
       "<tr>\n",
       "  <th>ar.L2</th>  <td>   -0.0909</td> <td>    0.009</td> <td>  -10.669</td> <td> 0.000</td> <td>   -0.108</td> <td>   -0.074</td>\n",
       "</tr>\n",
       "<tr>\n",
       "  <th>ar.L3</th>  <td>    0.1605</td> <td>    0.004</td> <td>   45.170</td> <td> 0.000</td> <td>    0.154</td> <td>    0.167</td>\n",
       "</tr>\n",
       "<tr>\n",
       "  <th>ar.L4</th>  <td>   -0.1978</td> <td>    0.006</td> <td>  -31.152</td> <td> 0.000</td> <td>   -0.210</td> <td>   -0.185</td>\n",
       "</tr>\n",
       "<tr>\n",
       "  <th>ar.L5</th>  <td>    0.1708</td> <td>    0.003</td> <td>   53.608</td> <td> 0.000</td> <td>    0.165</td> <td>    0.177</td>\n",
       "</tr>\n",
       "<tr>\n",
       "  <th>ma.L1</th>  <td>   -0.4462</td> <td>    0.029</td> <td>  -15.507</td> <td> 0.000</td> <td>   -0.503</td> <td>   -0.390</td>\n",
       "</tr>\n",
       "<tr>\n",
       "  <th>sigma2</th> <td> 3.761e+06</td> <td> 1.07e-09</td> <td> 3.51e+15</td> <td> 0.000</td> <td> 3.76e+06</td> <td> 3.76e+06</td>\n",
       "</tr>\n",
       "</table>\n",
       "<table class=\"simpletable\">\n",
       "<tr>\n",
       "  <th>Ljung-Box (L1) (Q):</th>     <td>87.43</td> <th>  Jarque-Bera (JB):  </th> <td>1077.96</td>\n",
       "</tr>\n",
       "<tr>\n",
       "  <th>Prob(Q):</th>                <td>0.00</td>  <th>  Prob(JB):          </th>  <td>0.00</td>  \n",
       "</tr>\n",
       "<tr>\n",
       "  <th>Heteroskedasticity (H):</th> <td>0.97</td>  <th>  Skew:              </th>  <td>-1.53</td> \n",
       "</tr>\n",
       "<tr>\n",
       "  <th>Prob(H) (two-sided):</th>    <td>0.88</td>  <th>  Kurtosis:          </th>  <td>12.41</td> \n",
       "</tr>\n",
       "</table><br/><br/>Warnings:<br/>[1] Covariance matrix calculated using the outer product of gradients (complex-step).<br/>[2] Covariance matrix is singular or near-singular, with condition number 6.68e+30. Standard errors may be unstable."
      ],
      "text/plain": [
       "<class 'statsmodels.iolib.summary.Summary'>\n",
       "\"\"\"\n",
       "                               SARIMAX Results                                \n",
       "==============================================================================\n",
       "Dep. Variable:                  92101   No. Observations:                  265\n",
       "Model:               SARIMAX(5, 1, 1)   Log Likelihood               -2917.063\n",
       "Date:                Fri, 30 Jul 2021   AIC                           5848.126\n",
       "Time:                        11:08:05   BIC                           5873.157\n",
       "Sample:                    04-01-1996   HQIC                          5858.184\n",
       "                         - 04-01-2018                                         \n",
       "Covariance Type:                  opg                                         \n",
       "==============================================================================\n",
       "                 coef    std err          z      P>|z|      [0.025      0.975]\n",
       "------------------------------------------------------------------------------\n",
       "ar.L1          0.6872      0.028     24.480      0.000       0.632       0.742\n",
       "ar.L2         -0.0909      0.009    -10.669      0.000      -0.108      -0.074\n",
       "ar.L3          0.1605      0.004     45.170      0.000       0.154       0.167\n",
       "ar.L4         -0.1978      0.006    -31.152      0.000      -0.210      -0.185\n",
       "ar.L5          0.1708      0.003     53.608      0.000       0.165       0.177\n",
       "ma.L1         -0.4462      0.029    -15.507      0.000      -0.503      -0.390\n",
       "sigma2      3.761e+06   1.07e-09   3.51e+15      0.000    3.76e+06    3.76e+06\n",
       "===================================================================================\n",
       "Ljung-Box (L1) (Q):                  87.43   Jarque-Bera (JB):              1077.96\n",
       "Prob(Q):                              0.00   Prob(JB):                         0.00\n",
       "Heteroskedasticity (H):               0.97   Skew:                            -1.53\n",
       "Prob(H) (two-sided):                  0.88   Kurtosis:                        12.41\n",
       "===================================================================================\n",
       "\n",
       "Warnings:\n",
       "[1] Covariance matrix calculated using the outer product of gradients (complex-step).\n",
       "[2] Covariance matrix is singular or near-singular, with condition number 6.68e+30. Standard errors may be unstable.\n",
       "\"\"\""
      ]
     },
     "metadata": {},
     "output_type": "display_data"
    },
    {
     "data": {
      "image/png": "[encoded data removed]",
      "text/plain": [
       "<Figure size 432x288 with 1 Axes>"
      ]
     },
     "metadata": {},
     "output_type": "display_data"
    },
    {
     "name": "stdout",
     "output_type": "stream",
     "text": [
      "------------------------------------------------------------\n",
      "\n",
      "90504\n"
     ]
    },
    {
     "data": {
      "text/html": [
       "<table class=\"simpletable\">\n",
       "<caption>SARIMAX Results</caption>\n",
       "<tr>\n",
       "  <th>Dep. Variable:</th>         <td>90504</td>      <th>  No. Observations:  </th>    <td>265</td>   \n",
       "</tr>\n",
       "<tr>\n",
       "  <th>Model:</th>           <td>SARIMAX(1, 1, 1)</td> <th>  Log Likelihood     </th> <td>-2539.107</td>\n",
       "</tr>\n",
       "<tr>\n",
       "  <th>Date:</th>            <td>Fri, 30 Jul 2021</td> <th>  AIC                </th> <td>5084.214</td> \n",
       "</tr>\n",
       "<tr>\n",
       "  <th>Time:</th>                <td>11:08:07</td>     <th>  BIC                </th> <td>5094.942</td> \n",
       "</tr>\n",
       "<tr>\n",
       "  <th>Sample:</th>             <td>04-01-1996</td>    <th>  HQIC               </th> <td>5088.525</td> \n",
       "</tr>\n",
       "<tr>\n",
       "  <th></th>                   <td>- 04-01-2018</td>   <th>                     </th>     <td> </td>    \n",
       "</tr>\n",
       "<tr>\n",
       "  <th>Covariance Type:</th>        <td>opg</td>       <th>                     </th>     <td> </td>    \n",
       "</tr>\n",
       "</table>\n",
       "<table class=\"simpletable\">\n",
       "<tr>\n",
       "     <td></td>       <th>coef</th>     <th>std err</th>      <th>z</th>      <th>P>|z|</th>  <th>[0.025</th>    <th>0.975]</th>  \n",
       "</tr>\n",
       "<tr>\n",
       "  <th>ar.L1</th>  <td>    0.9295</td> <td>    0.017</td> <td>   55.608</td> <td> 0.000</td> <td>    0.897</td> <td>    0.962</td>\n",
       "</tr>\n",
       "<tr>\n",
       "  <th>ma.L1</th>  <td>   -0.8725</td> <td>    0.021</td> <td>  -41.626</td> <td> 0.000</td> <td>   -0.914</td> <td>   -0.831</td>\n",
       "</tr>\n",
       "<tr>\n",
       "  <th>sigma2</th> <td> 1.284e+07</td> <td> 1.17e-10</td> <td>  1.1e+17</td> <td> 0.000</td> <td> 1.28e+07</td> <td> 1.28e+07</td>\n",
       "</tr>\n",
       "</table>\n",
       "<table class=\"simpletable\">\n",
       "<tr>\n",
       "  <th>Ljung-Box (L1) (Q):</th>     <td>226.27</td> <th>  Jarque-Bera (JB):  </th> <td>38.32</td>\n",
       "</tr>\n",
       "<tr>\n",
       "  <th>Prob(Q):</th>                 <td>0.00</td>  <th>  Prob(JB):          </th> <td>0.00</td> \n",
       "</tr>\n",
       "<tr>\n",
       "  <th>Heteroskedasticity (H):</th>  <td>0.94</td>  <th>  Skew:              </th> <td>-0.66</td>\n",
       "</tr>\n",
       "<tr>\n",
       "  <th>Prob(H) (two-sided):</th>     <td>0.79</td>  <th>  Kurtosis:          </th> <td>4.33</td> \n",
       "</tr>\n",
       "</table><br/><br/>Warnings:<br/>[1] Covariance matrix calculated using the outer product of gradients (complex-step).<br/>[2] Covariance matrix is singular or near-singular, with condition number 7.31e+32. Standard errors may be unstable."
      ],
      "text/plain": [
       "<class 'statsmodels.iolib.summary.Summary'>\n",
       "\"\"\"\n",
       "                               SARIMAX Results                                \n",
       "==============================================================================\n",
       "Dep. Variable:                  90504   No. Observations:                  265\n",
       "Model:               SARIMAX(1, 1, 1)   Log Likelihood               -2539.107\n",
       "Date:                Fri, 30 Jul 2021   AIC                           5084.214\n",
       "Time:                        11:08:07   BIC                           5094.942\n",
       "Sample:                    04-01-1996   HQIC                          5088.525\n",
       "                         - 04-01-2018                                         \n",
       "Covariance Type:                  opg                                         \n",
       "==============================================================================\n",
       "                 coef    std err          z      P>|z|      [0.025      0.975]\n",
       "------------------------------------------------------------------------------\n",
       "ar.L1          0.9295      0.017     55.608      0.000       0.897       0.962\n",
       "ma.L1         -0.8725      0.021    -41.626      0.000      -0.914      -0.831\n",
       "sigma2      1.284e+07   1.17e-10    1.1e+17      0.000    1.28e+07    1.28e+07\n",
       "===================================================================================\n",
       "Ljung-Box (L1) (Q):                 226.27   Jarque-Bera (JB):                38.32\n",
       "Prob(Q):                              0.00   Prob(JB):                         0.00\n",
       "Heteroskedasticity (H):               0.94   Skew:                            -0.66\n",
       "Prob(H) (two-sided):                  0.79   Kurtosis:                         4.33\n",
       "===================================================================================\n",
       "\n",
       "Warnings:\n",
       "[1] Covariance matrix calculated using the outer product of gradients (complex-step).\n",
       "[2] Covariance matrix is singular or near-singular, with condition number 7.31e+32. Standard errors may be unstable.\n",
       "\"\"\""
      ]
     },
     "metadata": {},
     "output_type": "display_data"
    },
    {
     "data": {
      "image/png": "[encoded data removed]",
      "text/plain": [
       "<Figure size 432x288 with 1 Axes>"
      ]
     },
     "metadata": {},
     "output_type": "display_data"
    },
    {
     "name": "stdout",
     "output_type": "stream",
     "text": [
      "------------------------------------------------------------\n",
      "\n",
      "95446\n"
     ]
    },
    {
     "data": {
      "text/html": [
       "<table class=\"simpletable\">\n",
       "<caption>SARIMAX Results</caption>\n",
       "<tr>\n",
       "  <th>Dep. Variable:</th>         <td>95446</td>      <th>  No. Observations:  </th>    <td>265</td>   \n",
       "</tr>\n",
       "<tr>\n",
       "  <th>Model:</th>           <td>SARIMAX(1, 1, 2)</td> <th>  Log Likelihood     </th> <td>-2463.877</td>\n",
       "</tr>\n",
       "<tr>\n",
       "  <th>Date:</th>            <td>Fri, 30 Jul 2021</td> <th>  AIC                </th> <td>4935.755</td> \n",
       "</tr>\n",
       "<tr>\n",
       "  <th>Time:</th>                <td>11:08:11</td>     <th>  BIC                </th> <td>4950.059</td> \n",
       "</tr>\n",
       "<tr>\n",
       "  <th>Sample:</th>             <td>04-01-1996</td>    <th>  HQIC               </th> <td>4941.503</td> \n",
       "</tr>\n",
       "<tr>\n",
       "  <th></th>                   <td>- 04-01-2018</td>   <th>                     </th>     <td> </td>    \n",
       "</tr>\n",
       "<tr>\n",
       "  <th>Covariance Type:</th>        <td>opg</td>       <th>                     </th>     <td> </td>    \n",
       "</tr>\n",
       "</table>\n",
       "<table class=\"simpletable\">\n",
       "<tr>\n",
       "     <td></td>       <th>coef</th>     <th>std err</th>      <th>z</th>      <th>P>|z|</th>  <th>[0.025</th>    <th>0.975]</th>  \n",
       "</tr>\n",
       "<tr>\n",
       "  <th>ar.L1</th>  <td>    0.9458</td> <td>    0.020</td> <td>   46.417</td> <td> 0.000</td> <td>    0.906</td> <td>    0.986</td>\n",
       "</tr>\n",
       "<tr>\n",
       "  <th>ma.L1</th>  <td>   -0.8571</td> <td>    0.023</td> <td>  -37.081</td> <td> 0.000</td> <td>   -0.902</td> <td>   -0.812</td>\n",
       "</tr>\n",
       "<tr>\n",
       "  <th>ma.L2</th>  <td>   -0.0374</td> <td>    0.009</td> <td>   -4.110</td> <td> 0.000</td> <td>   -0.055</td> <td>   -0.020</td>\n",
       "</tr>\n",
       "<tr>\n",
       "  <th>sigma2</th> <td> 7.134e+06</td> <td> 2.76e-10</td> <td> 2.58e+16</td> <td> 0.000</td> <td> 7.13e+06</td> <td> 7.13e+06</td>\n",
       "</tr>\n",
       "</table>\n",
       "<table class=\"simpletable\">\n",
       "<tr>\n",
       "  <th>Ljung-Box (L1) (Q):</th>     <td>200.61</td> <th>  Jarque-Bera (JB):  </th> <td>86.64</td>\n",
       "</tr>\n",
       "<tr>\n",
       "  <th>Prob(Q):</th>                 <td>0.00</td>  <th>  Prob(JB):          </th> <td>0.00</td> \n",
       "</tr>\n",
       "<tr>\n",
       "  <th>Heteroskedasticity (H):</th>  <td>1.12</td>  <th>  Skew:              </th> <td>-0.95</td>\n",
       "</tr>\n",
       "<tr>\n",
       "  <th>Prob(H) (two-sided):</th>     <td>0.60</td>  <th>  Kurtosis:          </th> <td>5.06</td> \n",
       "</tr>\n",
       "</table><br/><br/>Warnings:<br/>[1] Covariance matrix calculated using the outer product of gradients (complex-step).<br/>[2] Covariance matrix is singular or near-singular, with condition number 2.33e+33. Standard errors may be unstable."
      ],
      "text/plain": [
       "<class 'statsmodels.iolib.summary.Summary'>\n",
       "\"\"\"\n",
       "                               SARIMAX Results                                \n",
       "==============================================================================\n",
       "Dep. Variable:                  95446   No. Observations:                  265\n",
       "Model:               SARIMAX(1, 1, 2)   Log Likelihood               -2463.877\n",
       "Date:                Fri, 30 Jul 2021   AIC                           4935.755\n",
       "Time:                        11:08:11   BIC                           4950.059\n",
       "Sample:                    04-01-1996   HQIC                          4941.503\n",
       "                         - 04-01-2018                                         \n",
       "Covariance Type:                  opg                                         \n",
       "==============================================================================\n",
       "                 coef    std err          z      P>|z|      [0.025      0.975]\n",
       "------------------------------------------------------------------------------\n",
       "ar.L1          0.9458      0.020     46.417      0.000       0.906       0.986\n",
       "ma.L1         -0.8571      0.023    -37.081      0.000      -0.902      -0.812\n",
       "ma.L2         -0.0374      0.009     -4.110      0.000      -0.055      -0.020\n",
       "sigma2      7.134e+06   2.76e-10   2.58e+16      0.000    7.13e+06    7.13e+06\n",
       "===================================================================================\n",
       "Ljung-Box (L1) (Q):                 200.61   Jarque-Bera (JB):                86.64\n",
       "Prob(Q):                              0.00   Prob(JB):                         0.00\n",
       "Heteroskedasticity (H):               1.12   Skew:                            -0.95\n",
       "Prob(H) (two-sided):                  0.60   Kurtosis:                         5.06\n",
       "===================================================================================\n",
       "\n",
       "Warnings:\n",
       "[1] Covariance matrix calculated using the outer product of gradients (complex-step).\n",
       "[2] Covariance matrix is singular or near-singular, with condition number 2.33e+33. Standard errors may be unstable.\n",
       "\"\"\""
      ]
     },
     "metadata": {},
     "output_type": "display_data"
    },
    {
     "data": {
      "image/png": "[encoded data removed]",
      "text/plain": [
       "<Figure size 432x288 with 1 Axes>"
      ]
     },
     "metadata": {},
     "output_type": "display_data"
    },
    {
     "name": "stdout",
     "output_type": "stream",
     "text": [
      "------------------------------------------------------------\n",
      "\n",
      "96141\n"
     ]
    },
    {
     "data": {
      "text/html": [
       "<table class=\"simpletable\">\n",
       "<caption>SARIMAX Results</caption>\n",
       "<tr>\n",
       "  <th>Dep. Variable:</th>         <td>96141</td>      <th>  No. Observations:  </th>    <td>265</td>   \n",
       "</tr>\n",
       "<tr>\n",
       "  <th>Model:</th>           <td>SARIMAX(1, 2, 0)</td> <th>  Log Likelihood     </th> <td>-2506.975</td>\n",
       "</tr>\n",
       "<tr>\n",
       "  <th>Date:</th>            <td>Fri, 30 Jul 2021</td> <th>  AIC                </th> <td>5017.951</td> \n",
       "</tr>\n",
       "<tr>\n",
       "  <th>Time:</th>                <td>11:08:12</td>     <th>  BIC                </th> <td>5025.095</td> \n",
       "</tr>\n",
       "<tr>\n",
       "  <th>Sample:</th>             <td>04-01-1996</td>    <th>  HQIC               </th> <td>5020.822</td> \n",
       "</tr>\n",
       "<tr>\n",
       "  <th></th>                   <td>- 04-01-2018</td>   <th>                     </th>     <td> </td>    \n",
       "</tr>\n",
       "<tr>\n",
       "  <th>Covariance Type:</th>        <td>opg</td>       <th>                     </th>     <td> </td>    \n",
       "</tr>\n",
       "</table>\n",
       "<table class=\"simpletable\">\n",
       "<tr>\n",
       "     <td></td>       <th>coef</th>     <th>std err</th>      <th>z</th>      <th>P>|z|</th>  <th>[0.025</th>    <th>0.975]</th>  \n",
       "</tr>\n",
       "<tr>\n",
       "  <th>ar.L1</th>  <td>    0.0532</td> <td>    0.009</td> <td>    5.868</td> <td> 0.000</td> <td>    0.035</td> <td>    0.071</td>\n",
       "</tr>\n",
       "<tr>\n",
       "  <th>sigma2</th> <td> 9.522e+06</td> <td> 6.85e-12</td> <td> 1.39e+18</td> <td> 0.000</td> <td> 9.52e+06</td> <td> 9.52e+06</td>\n",
       "</tr>\n",
       "</table>\n",
       "<table class=\"simpletable\">\n",
       "<tr>\n",
       "  <th>Ljung-Box (L1) (Q):</th>     <td>35.47</td> <th>  Jarque-Bera (JB):  </th> <td>68.38</td>\n",
       "</tr>\n",
       "<tr>\n",
       "  <th>Prob(Q):</th>                <td>0.00</td>  <th>  Prob(JB):          </th> <td>0.00</td> \n",
       "</tr>\n",
       "<tr>\n",
       "  <th>Heteroskedasticity (H):</th> <td>12.39</td> <th>  Skew:              </th> <td>-0.07</td>\n",
       "</tr>\n",
       "<tr>\n",
       "  <th>Prob(H) (two-sided):</th>    <td>0.00</td>  <th>  Kurtosis:          </th> <td>5.49</td> \n",
       "</tr>\n",
       "</table><br/><br/>Warnings:<br/>[1] Covariance matrix calculated using the outer product of gradients (complex-step).<br/>[2] Covariance matrix is singular or near-singular, with condition number 9.5e+33. Standard errors may be unstable."
      ],
      "text/plain": [
       "<class 'statsmodels.iolib.summary.Summary'>\n",
       "\"\"\"\n",
       "                               SARIMAX Results                                \n",
       "==============================================================================\n",
       "Dep. Variable:                  96141   No. Observations:                  265\n",
       "Model:               SARIMAX(1, 2, 0)   Log Likelihood               -2506.975\n",
       "Date:                Fri, 30 Jul 2021   AIC                           5017.951\n",
       "Time:                        11:08:12   BIC                           5025.095\n",
       "Sample:                    04-01-1996   HQIC                          5020.822\n",
       "                         - 04-01-2018                                         \n",
       "Covariance Type:                  opg                                         \n",
       "==============================================================================\n",
       "                 coef    std err          z      P>|z|      [0.025      0.975]\n",
       "------------------------------------------------------------------------------\n",
       "ar.L1          0.0532      0.009      5.868      0.000       0.035       0.071\n",
       "sigma2      9.522e+06   6.85e-12   1.39e+18      0.000    9.52e+06    9.52e+06\n",
       "===================================================================================\n",
       "Ljung-Box (L1) (Q):                  35.47   Jarque-Bera (JB):                68.38\n",
       "Prob(Q):                              0.00   Prob(JB):                         0.00\n",
       "Heteroskedasticity (H):              12.39   Skew:                            -0.07\n",
       "Prob(H) (two-sided):                  0.00   Kurtosis:                         5.49\n",
       "===================================================================================\n",
       "\n",
       "Warnings:\n",
       "[1] Covariance matrix calculated using the outer product of gradients (complex-step).\n",
       "[2] Covariance matrix is singular or near-singular, with condition number 9.5e+33. Standard errors may be unstable.\n",
       "\"\"\""
      ]
     },
     "metadata": {},
     "output_type": "display_data"
    },
    {
     "data": {
      "image/png": "[encoded data removed]",
      "text/plain": [
       "<Figure size 432x288 with 1 Axes>"
      ]
     },
     "metadata": {},
     "output_type": "display_data"
    },
    {
     "name": "stdout",
     "output_type": "stream",
     "text": [
      "------------------------------------------------------------\n",
      "\n",
      "92866\n"
     ]
    },
    {
     "data": {
      "text/html": [
       "<table class=\"simpletable\">\n",
       "<caption>SARIMAX Results</caption>\n",
       "<tr>\n",
       "  <th>Dep. Variable:</th>         <td>92866</td>      <th>  No. Observations:  </th>    <td>265</td>   \n",
       "</tr>\n",
       "<tr>\n",
       "  <th>Model:</th>           <td>SARIMAX(1, 1, 1)</td> <th>  Log Likelihood     </th> <td>-2539.324</td>\n",
       "</tr>\n",
       "<tr>\n",
       "  <th>Date:</th>            <td>Fri, 30 Jul 2021</td> <th>  AIC                </th> <td>5084.647</td> \n",
       "</tr>\n",
       "<tr>\n",
       "  <th>Time:</th>                <td>11:08:16</td>     <th>  BIC                </th> <td>5095.375</td> \n",
       "</tr>\n",
       "<tr>\n",
       "  <th>Sample:</th>             <td>04-01-1996</td>    <th>  HQIC               </th> <td>5088.958</td> \n",
       "</tr>\n",
       "<tr>\n",
       "  <th></th>                   <td>- 04-01-2018</td>   <th>                     </th>     <td> </td>    \n",
       "</tr>\n",
       "<tr>\n",
       "  <th>Covariance Type:</th>        <td>opg</td>       <th>                     </th>     <td> </td>    \n",
       "</tr>\n",
       "</table>\n",
       "<table class=\"simpletable\">\n",
       "<tr>\n",
       "     <td></td>       <th>coef</th>     <th>std err</th>      <th>z</th>      <th>P>|z|</th>  <th>[0.025</th>    <th>0.975]</th>  \n",
       "</tr>\n",
       "<tr>\n",
       "  <th>ar.L1</th>  <td>    0.9359</td> <td>    0.015</td> <td>   64.344</td> <td> 0.000</td> <td>    0.907</td> <td>    0.964</td>\n",
       "</tr>\n",
       "<tr>\n",
       "  <th>ma.L1</th>  <td>   -0.8737</td> <td>    0.019</td> <td>  -45.852</td> <td> 0.000</td> <td>   -0.911</td> <td>   -0.836</td>\n",
       "</tr>\n",
       "<tr>\n",
       "  <th>sigma2</th> <td> 1.284e+07</td> <td> 5.21e-11</td> <td> 2.47e+17</td> <td> 0.000</td> <td> 1.28e+07</td> <td> 1.28e+07</td>\n",
       "</tr>\n",
       "</table>\n",
       "<table class=\"simpletable\">\n",
       "<tr>\n",
       "  <th>Ljung-Box (L1) (Q):</th>     <td>215.41</td> <th>  Jarque-Bera (JB):  </th> <td>49.99</td>\n",
       "</tr>\n",
       "<tr>\n",
       "  <th>Prob(Q):</th>                 <td>0.00</td>  <th>  Prob(JB):          </th> <td>0.00</td> \n",
       "</tr>\n",
       "<tr>\n",
       "  <th>Heteroskedasticity (H):</th>  <td>0.70</td>  <th>  Skew:              </th> <td>-0.67</td>\n",
       "</tr>\n",
       "<tr>\n",
       "  <th>Prob(H) (two-sided):</th>     <td>0.09</td>  <th>  Kurtosis:          </th> <td>4.66</td> \n",
       "</tr>\n",
       "</table><br/><br/>Warnings:<br/>[1] Covariance matrix calculated using the outer product of gradients (complex-step).<br/>[2] Covariance matrix is singular or near-singular, with condition number 1.15e+33. Standard errors may be unstable."
      ],
      "text/plain": [
       "<class 'statsmodels.iolib.summary.Summary'>\n",
       "\"\"\"\n",
       "                               SARIMAX Results                                \n",
       "==============================================================================\n",
       "Dep. Variable:                  92866   No. Observations:                  265\n",
       "Model:               SARIMAX(1, 1, 1)   Log Likelihood               -2539.324\n",
       "Date:                Fri, 30 Jul 2021   AIC                           5084.647\n",
       "Time:                        11:08:16   BIC                           5095.375\n",
       "Sample:                    04-01-1996   HQIC                          5088.958\n",
       "                         - 04-01-2018                                         \n",
       "Covariance Type:                  opg                                         \n",
       "==============================================================================\n",
       "                 coef    std err          z      P>|z|      [0.025      0.975]\n",
       "------------------------------------------------------------------------------\n",
       "ar.L1          0.9359      0.015     64.344      0.000       0.907       0.964\n",
       "ma.L1         -0.8737      0.019    -45.852      0.000      -0.911      -0.836\n",
       "sigma2      1.284e+07   5.21e-11   2.47e+17      0.000    1.28e+07    1.28e+07\n",
       "===================================================================================\n",
       "Ljung-Box (L1) (Q):                 215.41   Jarque-Bera (JB):                49.99\n",
       "Prob(Q):                              0.00   Prob(JB):                         0.00\n",
       "Heteroskedasticity (H):               0.70   Skew:                            -0.67\n",
       "Prob(H) (two-sided):                  0.09   Kurtosis:                         4.66\n",
       "===================================================================================\n",
       "\n",
       "Warnings:\n",
       "[1] Covariance matrix calculated using the outer product of gradients (complex-step).\n",
       "[2] Covariance matrix is singular or near-singular, with condition number 1.15e+33. Standard errors may be unstable.\n",
       "\"\"\""
      ]
     },
     "metadata": {},
     "output_type": "display_data"
    },
    {
     "data": {
      "image/png": "[encoded data removed]",
      "text/plain": [
       "<Figure size 432x288 with 1 Axes>"
      ]
     },
     "metadata": {},
     "output_type": "display_data"
    },
    {
     "name": "stdout",
     "output_type": "stream",
     "text": [
      "------------------------------------------------------------\n",
      "\n",
      "92860\n"
     ]
    },
    {
     "data": {
      "text/html": [
       "<table class=\"simpletable\">\n",
       "<caption>SARIMAX Results</caption>\n",
       "<tr>\n",
       "  <th>Dep. Variable:</th>         <td>92860</td>      <th>  No. Observations:  </th>    <td>265</td>   \n",
       "</tr>\n",
       "<tr>\n",
       "  <th>Model:</th>           <td>SARIMAX(5, 1, 0)</td> <th>  Log Likelihood     </th> <td>-2548.852</td>\n",
       "</tr>\n",
       "<tr>\n",
       "  <th>Date:</th>            <td>Fri, 30 Jul 2021</td> <th>  AIC                </th> <td>5109.704</td> \n",
       "</tr>\n",
       "<tr>\n",
       "  <th>Time:</th>                <td>11:08:19</td>     <th>  BIC                </th> <td>5131.160</td> \n",
       "</tr>\n",
       "<tr>\n",
       "  <th>Sample:</th>             <td>04-01-1996</td>    <th>  HQIC               </th> <td>5118.325</td> \n",
       "</tr>\n",
       "<tr>\n",
       "  <th></th>                   <td>- 04-01-2018</td>   <th>                     </th>     <td> </td>    \n",
       "</tr>\n",
       "<tr>\n",
       "  <th>Covariance Type:</th>        <td>opg</td>       <th>                     </th>     <td> </td>    \n",
       "</tr>\n",
       "</table>\n",
       "<table class=\"simpletable\">\n",
       "<tr>\n",
       "     <td></td>       <th>coef</th>     <th>std err</th>      <th>z</th>      <th>P>|z|</th>  <th>[0.025</th>    <th>0.975]</th>  \n",
       "</tr>\n",
       "<tr>\n",
       "  <th>ar.L1</th>  <td>    0.0808</td> <td>    0.005</td> <td>   16.266</td> <td> 0.000</td> <td>    0.071</td> <td>    0.091</td>\n",
       "</tr>\n",
       "<tr>\n",
       "  <th>ar.L2</th>  <td>    0.0767</td> <td>    0.005</td> <td>   13.992</td> <td> 0.000</td> <td>    0.066</td> <td>    0.087</td>\n",
       "</tr>\n",
       "<tr>\n",
       "  <th>ar.L3</th>  <td>    0.0765</td> <td>    0.006</td> <td>   11.871</td> <td> 0.000</td> <td>    0.064</td> <td>    0.089</td>\n",
       "</tr>\n",
       "<tr>\n",
       "  <th>ar.L4</th>  <td>    0.0779</td> <td>    0.007</td> <td>   11.398</td> <td> 0.000</td> <td>    0.065</td> <td>    0.091</td>\n",
       "</tr>\n",
       "<tr>\n",
       "  <th>ar.L5</th>  <td>    0.0800</td> <td>    0.007</td> <td>   11.052</td> <td> 0.000</td> <td>    0.066</td> <td>    0.094</td>\n",
       "</tr>\n",
       "<tr>\n",
       "  <th>sigma2</th> <td> 1.368e+07</td> <td>  1.6e-11</td> <td> 8.57e+17</td> <td> 0.000</td> <td> 1.37e+07</td> <td> 1.37e+07</td>\n",
       "</tr>\n",
       "</table>\n",
       "<table class=\"simpletable\">\n",
       "<tr>\n",
       "  <th>Ljung-Box (L1) (Q):</th>     <td>214.89</td> <th>  Jarque-Bera (JB):  </th> <td>392.45</td>\n",
       "</tr>\n",
       "<tr>\n",
       "  <th>Prob(Q):</th>                 <td>0.00</td>  <th>  Prob(JB):          </th>  <td>0.00</td> \n",
       "</tr>\n",
       "<tr>\n",
       "  <th>Heteroskedasticity (H):</th>  <td>0.44</td>  <th>  Skew:              </th>  <td>-1.64</td>\n",
       "</tr>\n",
       "<tr>\n",
       "  <th>Prob(H) (two-sided):</th>     <td>0.00</td>  <th>  Kurtosis:          </th>  <td>7.99</td> \n",
       "</tr>\n",
       "</table><br/><br/>Warnings:<br/>[1] Covariance matrix calculated using the outer product of gradients (complex-step).<br/>[2] Covariance matrix is singular or near-singular, with condition number 1.59e+33. Standard errors may be unstable."
      ],
      "text/plain": [
       "<class 'statsmodels.iolib.summary.Summary'>\n",
       "\"\"\"\n",
       "                               SARIMAX Results                                \n",
       "==============================================================================\n",
       "Dep. Variable:                  92860   No. Observations:                  265\n",
       "Model:               SARIMAX(5, 1, 0)   Log Likelihood               -2548.852\n",
       "Date:                Fri, 30 Jul 2021   AIC                           5109.704\n",
       "Time:                        11:08:19   BIC                           5131.160\n",
       "Sample:                    04-01-1996   HQIC                          5118.325\n",
       "                         - 04-01-2018                                         \n",
       "Covariance Type:                  opg                                         \n",
       "==============================================================================\n",
       "                 coef    std err          z      P>|z|      [0.025      0.975]\n",
       "------------------------------------------------------------------------------\n",
       "ar.L1          0.0808      0.005     16.266      0.000       0.071       0.091\n",
       "ar.L2          0.0767      0.005     13.992      0.000       0.066       0.087\n",
       "ar.L3          0.0765      0.006     11.871      0.000       0.064       0.089\n",
       "ar.L4          0.0779      0.007     11.398      0.000       0.065       0.091\n",
       "ar.L5          0.0800      0.007     11.052      0.000       0.066       0.094\n",
       "sigma2      1.368e+07    1.6e-11   8.57e+17      0.000    1.37e+07    1.37e+07\n",
       "===================================================================================\n",
       "Ljung-Box (L1) (Q):                 214.89   Jarque-Bera (JB):               392.45\n",
       "Prob(Q):                              0.00   Prob(JB):                         0.00\n",
       "Heteroskedasticity (H):               0.44   Skew:                            -1.64\n",
       "Prob(H) (two-sided):                  0.00   Kurtosis:                         7.99\n",
       "===================================================================================\n",
       "\n",
       "Warnings:\n",
       "[1] Covariance matrix calculated using the outer product of gradients (complex-step).\n",
       "[2] Covariance matrix is singular or near-singular, with condition number 1.59e+33. Standard errors may be unstable.\n",
       "\"\"\""
      ]
     },
     "metadata": {},
     "output_type": "display_data"
    },
    {
     "data": {
      "image/png": "[encoded data removed]",
      "text/plain": [
       "<Figure size 432x288 with 1 Axes>"
      ]
     },
     "metadata": {},
     "output_type": "display_data"
    },
    {
     "name": "stdout",
     "output_type": "stream",
     "text": [
      "------------------------------------------------------------\n",
      "\n",
      "93405\n"
     ]
    },
    {
     "data": {
      "text/html": [
       "<table class=\"simpletable\">\n",
       "<caption>SARIMAX Results</caption>\n",
       "<tr>\n",
       "  <th>Dep. Variable:</th>         <td>93405</td>      <th>  No. Observations:  </th>    <td>265</td>   \n",
       "</tr>\n",
       "<tr>\n",
       "  <th>Model:</th>           <td>SARIMAX(1, 1, 1)</td> <th>  Log Likelihood     </th> <td>-2546.633</td>\n",
       "</tr>\n",
       "<tr>\n",
       "  <th>Date:</th>            <td>Fri, 30 Jul 2021</td> <th>  AIC                </th> <td>5099.266</td> \n",
       "</tr>\n",
       "<tr>\n",
       "  <th>Time:</th>                <td>11:08:22</td>     <th>  BIC                </th> <td>5109.994</td> \n",
       "</tr>\n",
       "<tr>\n",
       "  <th>Sample:</th>             <td>04-01-1996</td>    <th>  HQIC               </th> <td>5103.577</td> \n",
       "</tr>\n",
       "<tr>\n",
       "  <th></th>                   <td>- 04-01-2018</td>   <th>                     </th>     <td> </td>    \n",
       "</tr>\n",
       "<tr>\n",
       "  <th>Covariance Type:</th>        <td>opg</td>       <th>                     </th>     <td> </td>    \n",
       "</tr>\n",
       "</table>\n",
       "<table class=\"simpletable\">\n",
       "<tr>\n",
       "     <td></td>       <th>coef</th>     <th>std err</th>      <th>z</th>      <th>P>|z|</th>  <th>[0.025</th>    <th>0.975]</th>  \n",
       "</tr>\n",
       "<tr>\n",
       "  <th>ar.L1</th>  <td>    0.9449</td> <td>    0.016</td> <td>   60.052</td> <td> 0.000</td> <td>    0.914</td> <td>    0.976</td>\n",
       "</tr>\n",
       "<tr>\n",
       "  <th>ma.L1</th>  <td>   -0.8914</td> <td>    0.021</td> <td>  -42.989</td> <td> 0.000</td> <td>   -0.932</td> <td>   -0.851</td>\n",
       "</tr>\n",
       "<tr>\n",
       "  <th>sigma2</th> <td> 1.367e+07</td> <td> 1.15e-10</td> <td> 1.19e+17</td> <td> 0.000</td> <td> 1.37e+07</td> <td> 1.37e+07</td>\n",
       "</tr>\n",
       "</table>\n",
       "<table class=\"simpletable\">\n",
       "<tr>\n",
       "  <th>Ljung-Box (L1) (Q):</th>     <td>201.96</td> <th>  Jarque-Bera (JB):  </th> <td>5.53</td> \n",
       "</tr>\n",
       "<tr>\n",
       "  <th>Prob(Q):</th>                 <td>0.00</td>  <th>  Prob(JB):          </th> <td>0.06</td> \n",
       "</tr>\n",
       "<tr>\n",
       "  <th>Heteroskedasticity (H):</th>  <td>1.30</td>  <th>  Skew:              </th> <td>-0.24</td>\n",
       "</tr>\n",
       "<tr>\n",
       "  <th>Prob(H) (two-sided):</th>     <td>0.22</td>  <th>  Kurtosis:          </th> <td>3.53</td> \n",
       "</tr>\n",
       "</table><br/><br/>Warnings:<br/>[1] Covariance matrix calculated using the outer product of gradients (complex-step).<br/>[2] Covariance matrix is singular or near-singular, with condition number 1.33e+33. Standard errors may be unstable."
      ],
      "text/plain": [
       "<class 'statsmodels.iolib.summary.Summary'>\n",
       "\"\"\"\n",
       "                               SARIMAX Results                                \n",
       "==============================================================================\n",
       "Dep. Variable:                  93405   No. Observations:                  265\n",
       "Model:               SARIMAX(1, 1, 1)   Log Likelihood               -2546.633\n",
       "Date:                Fri, 30 Jul 2021   AIC                           5099.266\n",
       "Time:                        11:08:22   BIC                           5109.994\n",
       "Sample:                    04-01-1996   HQIC                          5103.577\n",
       "                         - 04-01-2018                                         \n",
       "Covariance Type:                  opg                                         \n",
       "==============================================================================\n",
       "                 coef    std err          z      P>|z|      [0.025      0.975]\n",
       "------------------------------------------------------------------------------\n",
       "ar.L1          0.9449      0.016     60.052      0.000       0.914       0.976\n",
       "ma.L1         -0.8914      0.021    -42.989      0.000      -0.932      -0.851\n",
       "sigma2      1.367e+07   1.15e-10   1.19e+17      0.000    1.37e+07    1.37e+07\n",
       "===================================================================================\n",
       "Ljung-Box (L1) (Q):                 201.96   Jarque-Bera (JB):                 5.53\n",
       "Prob(Q):                              0.00   Prob(JB):                         0.06\n",
       "Heteroskedasticity (H):               1.30   Skew:                            -0.24\n",
       "Prob(H) (two-sided):                  0.22   Kurtosis:                         3.53\n",
       "===================================================================================\n",
       "\n",
       "Warnings:\n",
       "[1] Covariance matrix calculated using the outer product of gradients (complex-step).\n",
       "[2] Covariance matrix is singular or near-singular, with condition number 1.33e+33. Standard errors may be unstable.\n",
       "\"\"\""
      ]
     },
     "metadata": {},
     "output_type": "display_data"
    },
    {
     "data": {
      "image/png": "[encoded data removed]",
      "text/plain": [
       "<Figure size 432x288 with 1 Axes>"
      ]
     },
     "metadata": {},
     "output_type": "display_data"
    },
    {
     "name": "stdout",
     "output_type": "stream",
     "text": [
      "------------------------------------------------------------\n",
      "\n",
      "95818\n"
     ]
    },
    {
     "data": {
      "text/html": [
       "<table class=\"simpletable\">\n",
       "<caption>SARIMAX Results</caption>\n",
       "<tr>\n",
       "  <th>Dep. Variable:</th>         <td>95818</td>      <th>  No. Observations:  </th>    <td>265</td>   \n",
       "</tr>\n",
       "<tr>\n",
       "  <th>Model:</th>           <td>SARIMAX(1, 1, 1)</td> <th>  Log Likelihood     </th> <td>-2482.895</td>\n",
       "</tr>\n",
       "<tr>\n",
       "  <th>Date:</th>            <td>Fri, 30 Jul 2021</td> <th>  AIC                </th> <td>4971.790</td> \n",
       "</tr>\n",
       "<tr>\n",
       "  <th>Time:</th>                <td>11:08:27</td>     <th>  BIC                </th> <td>4982.518</td> \n",
       "</tr>\n",
       "<tr>\n",
       "  <th>Sample:</th>             <td>04-01-1996</td>    <th>  HQIC               </th> <td>4976.101</td> \n",
       "</tr>\n",
       "<tr>\n",
       "  <th></th>                   <td>- 04-01-2018</td>   <th>                     </th>     <td> </td>    \n",
       "</tr>\n",
       "<tr>\n",
       "  <th>Covariance Type:</th>        <td>opg</td>       <th>                     </th>     <td> </td>    \n",
       "</tr>\n",
       "</table>\n",
       "<table class=\"simpletable\">\n",
       "<tr>\n",
       "     <td></td>       <th>coef</th>     <th>std err</th>      <th>z</th>      <th>P>|z|</th>  <th>[0.025</th>    <th>0.975]</th>  \n",
       "</tr>\n",
       "<tr>\n",
       "  <th>ar.L1</th>  <td>    0.9099</td> <td>    0.019</td> <td>   49.149</td> <td> 0.000</td> <td>    0.874</td> <td>    0.946</td>\n",
       "</tr>\n",
       "<tr>\n",
       "  <th>ma.L1</th>  <td>   -0.8372</td> <td>    0.023</td> <td>  -36.314</td> <td> 0.000</td> <td>   -0.882</td> <td>   -0.792</td>\n",
       "</tr>\n",
       "<tr>\n",
       "  <th>sigma2</th> <td> 8.247e+06</td> <td> 1.49e-10</td> <td> 5.54e+16</td> <td> 0.000</td> <td> 8.25e+06</td> <td> 8.25e+06</td>\n",
       "</tr>\n",
       "</table>\n",
       "<table class=\"simpletable\">\n",
       "<tr>\n",
       "  <th>Ljung-Box (L1) (Q):</th>     <td>213.12</td> <th>  Jarque-Bera (JB):  </th> <td>56.82</td>\n",
       "</tr>\n",
       "<tr>\n",
       "  <th>Prob(Q):</th>                 <td>0.00</td>  <th>  Prob(JB):          </th> <td>0.00</td> \n",
       "</tr>\n",
       "<tr>\n",
       "  <th>Heteroskedasticity (H):</th>  <td>1.36</td>  <th>  Skew:              </th> <td>-0.73</td>\n",
       "</tr>\n",
       "<tr>\n",
       "  <th>Prob(H) (two-sided):</th>     <td>0.15</td>  <th>  Kurtosis:          </th> <td>4.75</td> \n",
       "</tr>\n",
       "</table><br/><br/>Warnings:<br/>[1] Covariance matrix calculated using the outer product of gradients (complex-step).<br/>[2] Covariance matrix is singular or near-singular, with condition number 8.62e+35. Standard errors may be unstable."
      ],
      "text/plain": [
       "<class 'statsmodels.iolib.summary.Summary'>\n",
       "\"\"\"\n",
       "                               SARIMAX Results                                \n",
       "==============================================================================\n",
       "Dep. Variable:                  95818   No. Observations:                  265\n",
       "Model:               SARIMAX(1, 1, 1)   Log Likelihood               -2482.895\n",
       "Date:                Fri, 30 Jul 2021   AIC                           4971.790\n",
       "Time:                        11:08:27   BIC                           4982.518\n",
       "Sample:                    04-01-1996   HQIC                          4976.101\n",
       "                         - 04-01-2018                                         \n",
       "Covariance Type:                  opg                                         \n",
       "==============================================================================\n",
       "                 coef    std err          z      P>|z|      [0.025      0.975]\n",
       "------------------------------------------------------------------------------\n",
       "ar.L1          0.9099      0.019     49.149      0.000       0.874       0.946\n",
       "ma.L1         -0.8372      0.023    -36.314      0.000      -0.882      -0.792\n",
       "sigma2      8.247e+06   1.49e-10   5.54e+16      0.000    8.25e+06    8.25e+06\n",
       "===================================================================================\n",
       "Ljung-Box (L1) (Q):                 213.12   Jarque-Bera (JB):                56.82\n",
       "Prob(Q):                              0.00   Prob(JB):                         0.00\n",
       "Heteroskedasticity (H):               1.36   Skew:                            -0.73\n",
       "Prob(H) (two-sided):                  0.15   Kurtosis:                         4.75\n",
       "===================================================================================\n",
       "\n",
       "Warnings:\n",
       "[1] Covariance matrix calculated using the outer product of gradients (complex-step).\n",
       "[2] Covariance matrix is singular or near-singular, with condition number 8.62e+35. Standard errors may be unstable.\n",
       "\"\"\""
      ]
     },
     "metadata": {},
     "output_type": "display_data"
    },
    {
     "data": {
      "image/png": "[encoded data removed]",
      "text/plain": [
       "<Figure size 432x288 with 1 Axes>"
      ]
     },
     "metadata": {},
     "output_type": "display_data"
    },
    {
     "name": "stdout",
     "output_type": "stream",
     "text": [
      "------------------------------------------------------------\n",
      "\n",
      "93023\n"
     ]
    },
    {
     "data": {
      "text/html": [
       "<table class=\"simpletable\">\n",
       "<caption>SARIMAX Results</caption>\n",
       "<tr>\n",
       "  <th>Dep. Variable:</th>         <td>93023</td>      <th>  No. Observations:  </th>    <td>265</td>   \n",
       "</tr>\n",
       "<tr>\n",
       "  <th>Model:</th>           <td>SARIMAX(1, 1, 1)</td> <th>  Log Likelihood     </th> <td>-2567.016</td>\n",
       "</tr>\n",
       "<tr>\n",
       "  <th>Date:</th>            <td>Fri, 30 Jul 2021</td> <th>  AIC                </th> <td>5140.033</td> \n",
       "</tr>\n",
       "<tr>\n",
       "  <th>Time:</th>                <td>11:08:30</td>     <th>  BIC                </th> <td>5150.761</td> \n",
       "</tr>\n",
       "<tr>\n",
       "  <th>Sample:</th>             <td>04-01-1996</td>    <th>  HQIC               </th> <td>5144.344</td> \n",
       "</tr>\n",
       "<tr>\n",
       "  <th></th>                   <td>- 04-01-2018</td>   <th>                     </th>     <td> </td>    \n",
       "</tr>\n",
       "<tr>\n",
       "  <th>Covariance Type:</th>        <td>opg</td>       <th>                     </th>     <td> </td>    \n",
       "</tr>\n",
       "</table>\n",
       "<table class=\"simpletable\">\n",
       "<tr>\n",
       "     <td></td>       <th>coef</th>     <th>std err</th>      <th>z</th>      <th>P>|z|</th>  <th>[0.025</th>    <th>0.975]</th>  \n",
       "</tr>\n",
       "<tr>\n",
       "  <th>ar.L1</th>  <td>    0.9363</td> <td>    0.015</td> <td>   63.384</td> <td> 0.000</td> <td>    0.907</td> <td>    0.965</td>\n",
       "</tr>\n",
       "<tr>\n",
       "  <th>ma.L1</th>  <td>   -0.8818</td> <td>    0.019</td> <td>  -46.965</td> <td> 0.000</td> <td>   -0.919</td> <td>   -0.845</td>\n",
       "</tr>\n",
       "<tr>\n",
       "  <th>sigma2</th> <td> 1.594e+07</td> <td> 3.66e-11</td> <td> 4.36e+17</td> <td> 0.000</td> <td> 1.59e+07</td> <td> 1.59e+07</td>\n",
       "</tr>\n",
       "</table>\n",
       "<table class=\"simpletable\">\n",
       "<tr>\n",
       "  <th>Ljung-Box (L1) (Q):</th>     <td>219.88</td> <th>  Jarque-Bera (JB):  </th> <td>42.79</td>\n",
       "</tr>\n",
       "<tr>\n",
       "  <th>Prob(Q):</th>                 <td>0.00</td>  <th>  Prob(JB):          </th> <td>0.00</td> \n",
       "</tr>\n",
       "<tr>\n",
       "  <th>Heteroskedasticity (H):</th>  <td>0.93</td>  <th>  Skew:              </th> <td>-0.79</td>\n",
       "</tr>\n",
       "<tr>\n",
       "  <th>Prob(H) (two-sided):</th>     <td>0.75</td>  <th>  Kurtosis:          </th> <td>4.19</td> \n",
       "</tr>\n",
       "</table><br/><br/>Warnings:<br/>[1] Covariance matrix calculated using the outer product of gradients (complex-step).<br/>[2] Covariance matrix is singular or near-singular, with condition number 4.43e+33. Standard errors may be unstable."
      ],
      "text/plain": [
       "<class 'statsmodels.iolib.summary.Summary'>\n",
       "\"\"\"\n",
       "                               SARIMAX Results                                \n",
       "==============================================================================\n",
       "Dep. Variable:                  93023   No. Observations:                  265\n",
       "Model:               SARIMAX(1, 1, 1)   Log Likelihood               -2567.016\n",
       "Date:                Fri, 30 Jul 2021   AIC                           5140.033\n",
       "Time:                        11:08:30   BIC                           5150.761\n",
       "Sample:                    04-01-1996   HQIC                          5144.344\n",
       "                         - 04-01-2018                                         \n",
       "Covariance Type:                  opg                                         \n",
       "==============================================================================\n",
       "                 coef    std err          z      P>|z|      [0.025      0.975]\n",
       "------------------------------------------------------------------------------\n",
       "ar.L1          0.9363      0.015     63.384      0.000       0.907       0.965\n",
       "ma.L1         -0.8818      0.019    -46.965      0.000      -0.919      -0.845\n",
       "sigma2      1.594e+07   3.66e-11   4.36e+17      0.000    1.59e+07    1.59e+07\n",
       "===================================================================================\n",
       "Ljung-Box (L1) (Q):                 219.88   Jarque-Bera (JB):                42.79\n",
       "Prob(Q):                              0.00   Prob(JB):                         0.00\n",
       "Heteroskedasticity (H):               0.93   Skew:                            -0.79\n",
       "Prob(H) (two-sided):                  0.75   Kurtosis:                         4.19\n",
       "===================================================================================\n",
       "\n",
       "Warnings:\n",
       "[1] Covariance matrix calculated using the outer product of gradients (complex-step).\n",
       "[2] Covariance matrix is singular or near-singular, with condition number 4.43e+33. Standard errors may be unstable.\n",
       "\"\"\""
      ]
     },
     "metadata": {},
     "output_type": "display_data"
    },
    {
     "data": {
      "image/png": "[encoded data removed]",
      "text/plain": [
       "<Figure size 432x288 with 1 Axes>"
      ]
     },
     "metadata": {},
     "output_type": "display_data"
    },
    {
     "name": "stdout",
     "output_type": "stream",
     "text": [
      "------------------------------------------------------------\n",
      "\n",
      "94577\n"
     ]
    },
    {
     "data": {
      "text/html": [
       "<table class=\"simpletable\">\n",
       "<caption>SARIMAX Results</caption>\n",
       "<tr>\n",
       "  <th>Dep. Variable:</th>         <td>94577</td>      <th>  No. Observations:  </th>    <td>265</td>   \n",
       "</tr>\n",
       "<tr>\n",
       "  <th>Model:</th>           <td>SARIMAX(5, 1, 0)</td> <th>  Log Likelihood     </th> <td>-2562.685</td>\n",
       "</tr>\n",
       "<tr>\n",
       "  <th>Date:</th>            <td>Fri, 30 Jul 2021</td> <th>  AIC                </th> <td>5137.371</td> \n",
       "</tr>\n",
       "<tr>\n",
       "  <th>Time:</th>                <td>11:08:33</td>     <th>  BIC                </th> <td>5158.827</td> \n",
       "</tr>\n",
       "<tr>\n",
       "  <th>Sample:</th>             <td>04-01-1996</td>    <th>  HQIC               </th> <td>5145.992</td> \n",
       "</tr>\n",
       "<tr>\n",
       "  <th></th>                   <td>- 04-01-2018</td>   <th>                     </th>     <td> </td>    \n",
       "</tr>\n",
       "<tr>\n",
       "  <th>Covariance Type:</th>        <td>opg</td>       <th>                     </th>     <td> </td>    \n",
       "</tr>\n",
       "</table>\n",
       "<table class=\"simpletable\">\n",
       "<tr>\n",
       "     <td></td>       <th>coef</th>     <th>std err</th>      <th>z</th>      <th>P>|z|</th>  <th>[0.025</th>    <th>0.975]</th>  \n",
       "</tr>\n",
       "<tr>\n",
       "  <th>ar.L1</th>  <td>    0.0882</td> <td>    0.005</td> <td>   17.489</td> <td> 0.000</td> <td>    0.078</td> <td>    0.098</td>\n",
       "</tr>\n",
       "<tr>\n",
       "  <th>ar.L2</th>  <td>    0.0756</td> <td>    0.006</td> <td>   12.743</td> <td> 0.000</td> <td>    0.064</td> <td>    0.087</td>\n",
       "</tr>\n",
       "<tr>\n",
       "  <th>ar.L3</th>  <td>    0.0697</td> <td>    0.007</td> <td>    9.555</td> <td> 0.000</td> <td>    0.055</td> <td>    0.084</td>\n",
       "</tr>\n",
       "<tr>\n",
       "  <th>ar.L4</th>  <td>    0.0725</td> <td>    0.008</td> <td>    9.544</td> <td> 0.000</td> <td>    0.058</td> <td>    0.087</td>\n",
       "</tr>\n",
       "<tr>\n",
       "  <th>ar.L5</th>  <td>    0.0784</td> <td>    0.008</td> <td>   10.198</td> <td> 0.000</td> <td>    0.063</td> <td>    0.093</td>\n",
       "</tr>\n",
       "<tr>\n",
       "  <th>sigma2</th> <td>  1.53e+07</td> <td>  1.6e-11</td> <td> 9.55e+17</td> <td> 0.000</td> <td> 1.53e+07</td> <td> 1.53e+07</td>\n",
       "</tr>\n",
       "</table>\n",
       "<table class=\"simpletable\">\n",
       "<tr>\n",
       "  <th>Ljung-Box (L1) (Q):</th>     <td>203.26</td> <th>  Jarque-Bera (JB):  </th> <td>360.01</td>\n",
       "</tr>\n",
       "<tr>\n",
       "  <th>Prob(Q):</th>                 <td>0.00</td>  <th>  Prob(JB):          </th>  <td>0.00</td> \n",
       "</tr>\n",
       "<tr>\n",
       "  <th>Heteroskedasticity (H):</th>  <td>0.95</td>  <th>  Skew:              </th>  <td>-1.55</td>\n",
       "</tr>\n",
       "<tr>\n",
       "  <th>Prob(H) (two-sided):</th>     <td>0.82</td>  <th>  Kurtosis:          </th>  <td>7.81</td> \n",
       "</tr>\n",
       "</table><br/><br/>Warnings:<br/>[1] Covariance matrix calculated using the outer product of gradients (complex-step).<br/>[2] Covariance matrix is singular or near-singular, with condition number 2.03e+31. Standard errors may be unstable."
      ],
      "text/plain": [
       "<class 'statsmodels.iolib.summary.Summary'>\n",
       "\"\"\"\n",
       "                               SARIMAX Results                                \n",
       "==============================================================================\n",
       "Dep. Variable:                  94577   No. Observations:                  265\n",
       "Model:               SARIMAX(5, 1, 0)   Log Likelihood               -2562.685\n",
       "Date:                Fri, 30 Jul 2021   AIC                           5137.371\n",
       "Time:                        11:08:33   BIC                           5158.827\n",
       "Sample:                    04-01-1996   HQIC                          5145.992\n",
       "                         - 04-01-2018                                         \n",
       "Covariance Type:                  opg                                         \n",
       "==============================================================================\n",
       "                 coef    std err          z      P>|z|      [0.025      0.975]\n",
       "------------------------------------------------------------------------------\n",
       "ar.L1          0.0882      0.005     17.489      0.000       0.078       0.098\n",
       "ar.L2          0.0756      0.006     12.743      0.000       0.064       0.087\n",
       "ar.L3          0.0697      0.007      9.555      0.000       0.055       0.084\n",
       "ar.L4          0.0725      0.008      9.544      0.000       0.058       0.087\n",
       "ar.L5          0.0784      0.008     10.198      0.000       0.063       0.093\n",
       "sigma2       1.53e+07    1.6e-11   9.55e+17      0.000    1.53e+07    1.53e+07\n",
       "===================================================================================\n",
       "Ljung-Box (L1) (Q):                 203.26   Jarque-Bera (JB):               360.01\n",
       "Prob(Q):                              0.00   Prob(JB):                         0.00\n",
       "Heteroskedasticity (H):               0.95   Skew:                            -1.55\n",
       "Prob(H) (two-sided):                  0.82   Kurtosis:                         7.81\n",
       "===================================================================================\n",
       "\n",
       "Warnings:\n",
       "[1] Covariance matrix calculated using the outer product of gradients (complex-step).\n",
       "[2] Covariance matrix is singular or near-singular, with condition number 2.03e+31. Standard errors may be unstable.\n",
       "\"\"\""
      ]
     },
     "metadata": {},
     "output_type": "display_data"
    },
    {
     "data": {
      "image/png": "[encoded data removed]",
      "text/plain": [
       "<Figure size 432x288 with 1 Axes>"
      ]
     },
     "metadata": {},
     "output_type": "display_data"
    },
    {
     "name": "stdout",
     "output_type": "stream",
     "text": [
      "------------------------------------------------------------\n",
      "\n"
     ]
    }
   ],
   "source": [
    "\n",
    "RESULTS = {}\n",
    "\n",
    "for zc in ziplist:\n",
    "    print(zc)\n",
    "    \n",
    "    ## Make empty dict for district data\n",
    "    zipcode_d = {}\n",
    "    \n",
    "    ## Copy Time Series\n",
    "    ts_final = ts_df[zc].copy()\n",
    "    \n",
    "    ## Train Test Split Index\n",
    "    train_size = 0.85\n",
    "    split_idx = round(len(ts_df)* train_size)\n",
    "\n",
    "    ## Split\n",
    "    train = ts_final.iloc[:split_idx]\n",
    "    test = ts_final.iloc[split_idx:]\n",
    "    \n",
    "    \n",
    "    ## Get best params using auto_arima\n",
    "    gridsearch_model = auto_arima(ts_final,start_p=0,start_q=0)\n",
    "    model3 = SARIMAX(ts_final,order=gridsearch_model.order,\n",
    "                     seasonal_order=gridsearch_model.seasonal_order).fit()\n",
    "    \n",
    "    ## Get predictions\n",
    "    pred  = model3.get_forecast(steps=36)#start=test.index[0],end=test.index[-1])\n",
    "    pred_df = forecast_to_df(pred,zc)\n",
    "\n",
    "    ## Save info to dict\n",
    "    zipcode_d['pred_df'] = pred_df\n",
    "    zipcode_d['model'] = model3\n",
    "    zipcode_d['train'] = train\n",
    "    zipcode_d['test'] = test\n",
    "    \n",
    "    ## Display Results\n",
    "    display(model3.summary())\n",
    "    plot_train_test_pred(train,test,pred_df)\n",
    "    plt.xlabel('Year')\n",
    "    plt.ylabel('Value in US Dollars ($)')\n",
    "    plt.savefig('images/' + zc + 'prediction' + '.png')\n",
    "    plt.show()\n",
    "    \n",
    "    \n",
    "    ## Save district dict in RESULTS\n",
    "    RESULTS[zc] = zipcode_d\n",
    "    print('---'*20,end='\\n\\n')"
   ]
  },
  {
   "cell_type": "code",
   "execution_count": null,
   "metadata": {},
   "outputs": [],
   "source": []
  },
  {
   "cell_type": "code",
   "execution_count": null,
   "metadata": {},
   "outputs": [],
   "source": []
  },
  {
   "cell_type": "code",
   "execution_count": null,
   "metadata": {},
   "outputs": [],
   "source": []
  },
  {
   "cell_type": "code",
   "execution_count": null,
   "metadata": {},
   "outputs": [],
   "source": []
  },
  {
   "cell_type": "code",
   "execution_count": null,
   "metadata": {
    "ExecuteTime": {
     "end_time": "2021-07-30T17:55:45.918867Z",
     "start_time": "2021-07-30T17:55:32.551Z"
    }
   },
   "outputs": [],
   "source": [
    "# (df_top10['ROI'])"
   ]
  },
  {
   "cell_type": "code",
   "execution_count": null,
   "metadata": {},
   "outputs": [],
   "source": []
  },
  {
   "cell_type": "code",
   "execution_count": null,
   "metadata": {},
   "outputs": [],
   "source": []
  },
  {
   "cell_type": "markdown",
   "metadata": {},
   "source": [
    "# Step 6: Interpreting Results"
   ]
  },
  {
   "cell_type": "code",
   "execution_count": null,
   "metadata": {},
   "outputs": [],
   "source": []
  },
  {
   "cell_type": "code",
   "execution_count": null,
   "metadata": {},
   "outputs": [],
   "source": []
  },
  {
   "cell_type": "code",
   "execution_count": null,
   "metadata": {},
   "outputs": [],
   "source": []
  }
 ],
 "metadata": {
  "kernelspec": {
   "display_name": "Python 3",
   "language": "python",
   "name": "python3"
  },
  "language_info": {
   "codemirror_mode": {
    "name": "ipython",
    "version": 3
   },
   "file_extension": ".py",
   "mimetype": "text/x-python",
   "name": "python",
   "nbconvert_exporter": "python",
   "pygments_lexer": "ipython3",
   "version": "3.8.5"
  },
  "toc": {
   "base_numbering": 1,
   "nav_menu": {},
   "number_sections": true,
   "sideBar": true,
   "skip_h1_title": false,
   "title_cell": "Table of Contents",
   "title_sidebar": "Contents",
   "toc_cell": false,
   "toc_position": {
    "height": "calc(100% - 180px)",
    "left": "10px",
    "top": "150px",
    "width": "303.837px"
   },
   "toc_section_display": true,
   "toc_window_display": false
  },
  "varInspector": {
   "cols": {
    "lenName": 16,
    "lenType": 16,
    "lenVar": 40
   },
   "kernels_config": {
    "python": {
     "delete_cmd_postfix": "",
     "delete_cmd_prefix": "del ",
     "library": "var_list.py",
     "varRefreshCmd": "print(var_dic_list())"
    },
    "r": {
     "delete_cmd_postfix": ") ",
     "delete_cmd_prefix": "rm(",
     "library": "var_list.r",
     "varRefreshCmd": "cat(var_dic_list()) "
    }
   },
   "types_to_exclude": [
    "module",
    "function",
    "builtin_function_or_method",
    "instance",
    "_Feature"
   ],
   "window_display": false
  }
 },
 "nbformat": 4,
 "nbformat_minor": 2
}
